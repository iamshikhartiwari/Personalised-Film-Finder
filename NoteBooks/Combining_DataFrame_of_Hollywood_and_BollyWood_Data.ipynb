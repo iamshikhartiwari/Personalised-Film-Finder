{
  "nbformat": 4,
  "nbformat_minor": 0,
  "metadata": {
    "colab": {
      "provenance": []
    },
    "kernelspec": {
      "name": "python3",
      "display_name": "Python 3"
    },
    "language_info": {
      "name": "python"
    }
  },
  "cells": [
    {
      "cell_type": "code",
      "execution_count": 1,
      "metadata": {
        "id": "zewBdNzl3O7M"
      },
      "outputs": [],
      "source": [
        "import pandas as pd\n",
        "import ast"
      ]
    },
    {
      "cell_type": "code",
      "source": [
        "# Read the Bollywood movies data from a CSV file into a DataFrame\n",
        "df1 = pd.read_csv('/content/Bollywood_Movies1.csv',lineterminator='\\n')\n",
        "# Read the Hollywood movies data from a CSV file into a DataFrame\n",
        "df2 = pd.read_csv('/content/HollyWood_Movies1.csv')"
      ],
      "metadata": {
        "id": "-ZSAIMCA3fxK"
      },
      "execution_count": 32,
      "outputs": []
    },
    {
      "cell_type": "code",
      "source": [
        "df1.shape"
      ],
      "metadata": {
        "colab": {
          "base_uri": "https://localhost:8080/"
        },
        "id": "_tMKhoIVLKg2",
        "outputId": "4bd9cc49-69b2-4b0d-ffe8-531a12081080"
      },
      "execution_count": 33,
      "outputs": [
        {
          "output_type": "execute_result",
          "data": {
            "text/plain": [
              "(1015, 16)"
            ]
          },
          "metadata": {},
          "execution_count": 33
        }
      ]
    },
    {
      "cell_type": "code",
      "source": [
        "df2.shape"
      ],
      "metadata": {
        "colab": {
          "base_uri": "https://localhost:8080/"
        },
        "id": "BBRADASQLKrM",
        "outputId": "c6ebff7c-669c-45ec-f844-ac91d30c287d"
      },
      "execution_count": 34,
      "outputs": [
        {
          "output_type": "execute_result",
          "data": {
            "text/plain": [
              "(2725, 16)"
            ]
          },
          "metadata": {},
          "execution_count": 34
        }
      ]
    },
    {
      "cell_type": "code",
      "source": [
        "# Combine the data from df1 and df2 into a single DataFrame called combined_df\n",
        "combined_df = pd.concat([df1,df2],ignore_index=True)"
      ],
      "metadata": {
        "id": "q4iv2akZ3QjG"
      },
      "execution_count": 35,
      "outputs": []
    },
    {
      "cell_type": "code",
      "source": [
        "# Calculating the number of duplicate rows in the combined_df\n",
        "combined_df.duplicated().sum()"
      ],
      "metadata": {
        "colab": {
          "base_uri": "https://localhost:8080/"
        },
        "id": "8bMtvuGj4ZqO",
        "outputId": "d112ce3a-055e-4c3c-d3e9-d57583db0ec7"
      },
      "execution_count": 36,
      "outputs": [
        {
          "output_type": "execute_result",
          "data": {
            "text/plain": [
              "0"
            ]
          },
          "metadata": {},
          "execution_count": 36
        }
      ]
    },
    {
      "cell_type": "code",
      "source": [
        "# Counting the number of null values in each column of the combined_df\n",
        "combined_df.isnull().sum()"
      ],
      "metadata": {
        "colab": {
          "base_uri": "https://localhost:8080/"
        },
        "id": "XfIvv5IC4aV6",
        "outputId": "f41d5841-8b12-4a75-ec6b-f426d03e6f5d"
      },
      "execution_count": 37,
      "outputs": [
        {
          "output_type": "execute_result",
          "data": {
            "text/plain": [
              "Unnamed: 0           0\n",
              "Title                0\n",
              "Director             0\n",
              "Cast                 0\n",
              "id                   0\n",
              "genres               0\n",
              "imdb_id              1\n",
              "original_language    0\n",
              "overview             0\n",
              "popularity           0\n",
              "poster_path          0\n",
              "release_date         0\n",
              "runtime              0\n",
              "title                0\n",
              "vote_average         0\n",
              "vote_count           0\n",
              "dtype: int64"
            ]
          },
          "metadata": {},
          "execution_count": 37
        }
      ]
    },
    {
      "cell_type": "code",
      "source": [
        "# removing rows with null values\n",
        "combined_df = combined_df.dropna().reset_index(drop=True)"
      ],
      "metadata": {
        "id": "v7d24xkT4zz4"
      },
      "execution_count": 38,
      "outputs": []
    },
    {
      "cell_type": "code",
      "source": [
        "combined_df.shape"
      ],
      "metadata": {
        "colab": {
          "base_uri": "https://localhost:8080/"
        },
        "id": "TLgcy5KSMdV8",
        "outputId": "f6c6819a-51ce-4729-ce4a-118d88beb36b"
      },
      "execution_count": 39,
      "outputs": [
        {
          "output_type": "execute_result",
          "data": {
            "text/plain": [
              "(3739, 16)"
            ]
          },
          "metadata": {},
          "execution_count": 39
        }
      ]
    },
    {
      "cell_type": "markdown",
      "source": [
        "# Pre-Processing"
      ],
      "metadata": {
        "id": "ETgFvCKe60Hk"
      }
    },
    {
      "cell_type": "code",
      "source": [
        "# we only want release year , removing date & month\n",
        "def get_year(date):\n",
        "  return date[:4]"
      ],
      "metadata": {
        "id": "6p80z2UtNBsY"
      },
      "execution_count": 40,
      "outputs": []
    },
    {
      "cell_type": "code",
      "source": [
        "combined_df['release_date'] = combined_df['release_date'].apply(get_year)"
      ],
      "metadata": {
        "id": "44tue1MWNKsw"
      },
      "execution_count": 41,
      "outputs": []
    },
    {
      "cell_type": "code",
      "source": [
        "# While retrieving movie data, I noticed that some TMDB IDs fetched information about movies released outside the range of 2012 to 2022.\n",
        "# That's why removing those movies"
      ],
      "metadata": {
        "id": "THF3xnnPxdHD"
      },
      "execution_count": 42,
      "outputs": []
    },
    {
      "cell_type": "code",
      "source": [
        "combined_df['release_date'] = combined_df['release_date'].apply(ast.literal_eval)"
      ],
      "metadata": {
        "id": "T5OqafMhNPLX"
      },
      "execution_count": 43,
      "outputs": []
    },
    {
      "cell_type": "code",
      "source": [
        "len(combined_df[combined_df['release_date']>2022])"
      ],
      "metadata": {
        "colab": {
          "base_uri": "https://localhost:8080/"
        },
        "id": "gTyzdiYhONvY",
        "outputId": "c329c858-43d2-4241-ab99-ab9e89001cc4"
      },
      "execution_count": 44,
      "outputs": [
        {
          "output_type": "execute_result",
          "data": {
            "text/plain": [
              "16"
            ]
          },
          "metadata": {},
          "execution_count": 44
        }
      ]
    },
    {
      "cell_type": "code",
      "source": [
        "len(combined_df[combined_df['release_date']<2012])"
      ],
      "metadata": {
        "colab": {
          "base_uri": "https://localhost:8080/"
        },
        "id": "d8vRyE8hOhJh",
        "outputId": "0c258d28-6145-4c84-c682-bfba34cfc9be"
      },
      "execution_count": 45,
      "outputs": [
        {
          "output_type": "execute_result",
          "data": {
            "text/plain": [
              "135"
            ]
          },
          "metadata": {},
          "execution_count": 45
        }
      ]
    },
    {
      "cell_type": "code",
      "source": [
        "combined_df = combined_df[combined_df['release_date']>=2012][combined_df['release_date']<=2022].reset_index(drop=True)"
      ],
      "metadata": {
        "colab": {
          "base_uri": "https://localhost:8080/"
        },
        "id": "p7iS8fE1Q1nh",
        "outputId": "c3d1ba92-fc2a-4519-e31f-1ecaad231c26"
      },
      "execution_count": 46,
      "outputs": [
        {
          "output_type": "stream",
          "name": "stderr",
          "text": [
            "<ipython-input-46-6fffa7729000>:1: UserWarning: Boolean Series key will be reindexed to match DataFrame index.\n",
            "  combined_df = combined_df[combined_df['release_date']>=2012][combined_df['release_date']<=2022].reset_index(drop=True)\n"
          ]
        }
      ]
    },
    {
      "cell_type": "markdown",
      "source": [
        "####  Since there were two titles, \"Title\" and \"title,\" we retained rows/movies that had the same information in both features."
      ],
      "metadata": {
        "id": "z974u9bhykRP"
      }
    },
    {
      "cell_type": "code",
      "source": [
        "(combined_df['Title']!=combined_df['title']).sum()"
      ],
      "metadata": {
        "colab": {
          "base_uri": "https://localhost:8080/"
        },
        "id": "lJ4yMsayYbS8",
        "outputId": "8f81ec14-cae3-476a-b7f0-b78f1cc6842d"
      },
      "execution_count": 47,
      "outputs": [
        {
          "output_type": "execute_result",
          "data": {
            "text/plain": [
              "175"
            ]
          },
          "metadata": {},
          "execution_count": 47
        }
      ]
    },
    {
      "cell_type": "code",
      "source": [
        "combined_df = combined_df[combined_df['Title']==combined_df['title']].reset_index(drop=True)"
      ],
      "metadata": {
        "id": "vT_rJ4yVeJdM"
      },
      "execution_count": 48,
      "outputs": []
    },
    {
      "cell_type": "markdown",
      "source": [
        "# Removing rows with same \"Title\"\n",
        "    because there are some movies with same name in hollywood and bollywood ....they might create a problem in future"
      ],
      "metadata": {
        "id": "DeIOAINVXx42"
      }
    },
    {
      "cell_type": "code",
      "source": [
        "combined_df['Title'].duplicated(keep=False).sum()"
      ],
      "metadata": {
        "colab": {
          "base_uri": "https://localhost:8080/"
        },
        "id": "ZA_sp-J9fgYm",
        "outputId": "173eee5e-e446-484e-9cf9-b8476b110213"
      },
      "execution_count": 50,
      "outputs": [
        {
          "output_type": "execute_result",
          "data": {
            "text/plain": [
              "16"
            ]
          },
          "metadata": {},
          "execution_count": 50
        }
      ]
    },
    {
      "cell_type": "code",
      "source": [
        "combined_df = combined_df.drop_duplicates(keep=False,subset=['Title']).reset_index(drop=True)"
      ],
      "metadata": {
        "id": "iRPwC4blRLL7"
      },
      "execution_count": 51,
      "outputs": []
    },
    {
      "cell_type": "code",
      "source": [
        "print(\"Shape of combined_df\",combined_df.shape)"
      ],
      "metadata": {
        "colab": {
          "base_uri": "https://localhost:8080/"
        },
        "id": "DC3JPDx0eOzv",
        "outputId": "fcf939c3-5768-425c-9731-833fd82ae759"
      },
      "execution_count": 52,
      "outputs": [
        {
          "output_type": "stream",
          "name": "stdout",
          "text": [
            "Shape of combined_df (3397, 16)\n"
          ]
        }
      ]
    },
    {
      "cell_type": "code",
      "source": [
        "# getting genres in the proper format\n",
        "def get_genre(text):\n",
        "    cnvrt_lst = ast.literal_eval(text)\n",
        "    genre = []\n",
        "    for i in cnvrt_lst:\n",
        "      genre.append(i['name'])\n",
        "\n",
        "    return \",\".join(genre)"
      ],
      "metadata": {
        "id": "9PSlUDhRfHeG"
      },
      "execution_count": 53,
      "outputs": []
    },
    {
      "cell_type": "code",
      "source": [
        "combined_df['genres'] = combined_df['genres'].apply(get_genre)"
      ],
      "metadata": {
        "id": "GlzcB2PBfI0u"
      },
      "execution_count": 54,
      "outputs": []
    },
    {
      "cell_type": "code",
      "source": [
        "# checking empty values in genre feature\n",
        "(combined_df['genres']=='').sum()"
      ],
      "metadata": {
        "colab": {
          "base_uri": "https://localhost:8080/"
        },
        "id": "gqyIvnv5zEab",
        "outputId": "8332f4df-c467-47c8-e883-b4218f8ca510"
      },
      "execution_count": 55,
      "outputs": [
        {
          "output_type": "execute_result",
          "data": {
            "text/plain": [
              "37"
            ]
          },
          "metadata": {},
          "execution_count": 55
        }
      ]
    },
    {
      "cell_type": "code",
      "source": [
        "# removing rows with empty genre values\n",
        "combined_df = combined_df[combined_df['genres']!=''].reset_index(drop=True)"
      ],
      "metadata": {
        "id": "wzysvPmxzLMK"
      },
      "execution_count": 56,
      "outputs": []
    },
    {
      "cell_type": "code",
      "source": [
        "combined_df.shape"
      ],
      "metadata": {
        "colab": {
          "base_uri": "https://localhost:8080/"
        },
        "id": "TiH1fV5rzSJg",
        "outputId": "325a0e6a-1725-4692-c7e7-e71321b1e853"
      },
      "execution_count": 57,
      "outputs": [
        {
          "output_type": "execute_result",
          "data": {
            "text/plain": [
              "(3360, 16)"
            ]
          },
          "metadata": {},
          "execution_count": 57
        }
      ]
    },
    {
      "cell_type": "code",
      "source": [
        "# converting runtime minutes into hours and minutes\n",
        "def convert_to_hrsmin(minutes):\n",
        "  hrs = minutes//60\n",
        "  min = minutes%60\n",
        "  return hrs+\" hrs \"+min+\" min\""
      ],
      "metadata": {
        "id": "uSTSHiMZzTOM"
      },
      "execution_count": 58,
      "outputs": []
    },
    {
      "cell_type": "code",
      "source": [
        "combined_df['runtime'] = combined_df['runtime'].apply(lambda x:str(x//60)+' hrs '+str(x%60)+' min')"
      ],
      "metadata": {
        "id": "gDRWpp9SzeIY"
      },
      "execution_count": 59,
      "outputs": []
    },
    {
      "cell_type": "markdown",
      "source": [
        "#### While retrieving movie data, I noticed that the name \"Sushant Singh Rajput\" was incorrectly written as \"Sushant Singh.\""
      ],
      "metadata": {
        "id": "klqqPmO-0wnP"
      }
    },
    {
      "cell_type": "code",
      "source": [
        "for i in combined_df.index:\n",
        "  for j in combined_df.loc[i,'Cast'].split(','):\n",
        "     if 'Sushant Singh'==j:\n",
        "          combined_df.loc[i,'Cast'] = combined_df.loc[i,'Cast'].replace('Sushant Singh','Sushant Singh Rajput')"
      ],
      "metadata": {
        "id": "vMJ6jAFm0xoy"
      },
      "execution_count": 29,
      "outputs": []
    },
    {
      "cell_type": "code",
      "source": [
        "combined_df.to_csv('All_Movies1.csv')"
      ],
      "metadata": {
        "id": "3yC8aHN_1wZT"
      },
      "execution_count": 30,
      "outputs": []
    },
    {
      "cell_type": "code",
      "source": [
        "combined_df.shape"
      ],
      "metadata": {
        "colab": {
          "base_uri": "https://localhost:8080/"
        },
        "id": "9hg983MrdyuS",
        "outputId": "59cac210-36d2-4d9d-a80c-8e5a4b1910c0"
      },
      "execution_count": 31,
      "outputs": [
        {
          "output_type": "execute_result",
          "data": {
            "text/plain": [
              "(3360, 16)"
            ]
          },
          "metadata": {},
          "execution_count": 31
        }
      ]
    },
    {
      "cell_type": "code",
      "source": [],
      "metadata": {
        "id": "bBYKstAbfQ6Q"
      },
      "execution_count": 31,
      "outputs": []
    }
  ]
}