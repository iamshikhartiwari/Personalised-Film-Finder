{
  "nbformat": 4,
  "nbformat_minor": 0,
  "metadata": {
    "colab": {
      "provenance": []
    },
    "kernelspec": {
      "name": "python3",
      "display_name": "Python 3"
    },
    "language_info": {
      "name": "python"
    }
  },
  "cells": [
    {
      "cell_type": "code",
      "execution_count": null,
      "metadata": {
        "id": "uEhFGtv_45Lx"
      },
      "outputs": [],
      "source": [
        "# importing the libraries\n",
        "import pandas as pd\n",
        "import ast\n",
        "import time\n",
        "from tqdm import tqdm"
      ]
    },
    {
      "cell_type": "code",
      "source": [
        "df = pd.read_csv('/content/All_Movies1.csv',lineterminator='\\n')"
      ],
      "metadata": {
        "id": "RDJvjCviIpuR"
      },
      "execution_count": null,
      "outputs": []
    },
    {
      "cell_type": "code",
      "source": [
        "df.columns"
      ],
      "metadata": {
        "colab": {
          "base_uri": "https://localhost:8080/"
        },
        "id": "T8KNLL57QQ9J",
        "outputId": "172f0ab6-9804-4694-9208-fbc3f7e50c71"
      },
      "execution_count": null,
      "outputs": [
        {
          "output_type": "execute_result",
          "data": {
            "text/plain": [
              "Index(['Unnamed: 0.1', 'Unnamed: 0', 'Title', 'Director', 'Cast', 'id',\n",
              "       'genres', 'imdb_id', 'original_language', 'overview', 'popularity',\n",
              "       'poster_path', 'release_date', 'runtime', 'title', 'vote_average',\n",
              "       'vote_count'],\n",
              "      dtype='object')"
            ]
          },
          "metadata": {},
          "execution_count": 98
        }
      ]
    },
    {
      "cell_type": "code",
      "source": [
        "# removing useless columns\n",
        "df.drop(['Unnamed: 0.1', 'Unnamed: 0','original_language'],axis=1,inplace=True)"
      ],
      "metadata": {
        "id": "UKG-W2ztikT2"
      },
      "execution_count": null,
      "outputs": []
    },
    {
      "cell_type": "code",
      "source": [
        "df.shape"
      ],
      "metadata": {
        "colab": {
          "base_uri": "https://localhost:8080/"
        },
        "id": "VpvvPRPxkCPn",
        "outputId": "cab87bb6-0295-486b-d007-608dc4d3ca5a"
      },
      "execution_count": null,
      "outputs": [
        {
          "output_type": "execute_result",
          "data": {
            "text/plain": [
              "(3359, 14)"
            ]
          },
          "metadata": {},
          "execution_count": 100
        }
      ]
    },
    {
      "cell_type": "markdown",
      "source": [
        "## Now extracting Features like\n",
        "    'Title','Director', 'Cast', 'id','genres', 'overview'\n",
        "## *to build recommendation engine*"
      ],
      "metadata": {
        "id": "hPRAllfL1po0"
      }
    },
    {
      "cell_type": "code",
      "source": [
        "df = df[['Title','Director', 'Cast', 'id','genres', 'overview']]\n",
        "df.head()"
      ],
      "metadata": {
        "colab": {
          "base_uri": "https://localhost:8080/",
          "height": 302
        },
        "id": "U5IMD-OJ-db2",
        "outputId": "c7c0f7ab-e922-4139-8fb4-5c0f6d205491"
      },
      "execution_count": null,
      "outputs": [
        {
          "output_type": "execute_result",
          "data": {
            "text/plain": [
              "                Title            Director  \\\n",
              "0  Kaun Pravin Tambe?       Jayprad Desai   \n",
              "1         Cobalt Blue    Sachin Kundalkar   \n",
              "2               Dasvi       Tushar Jalota   \n",
              "3             Hurdang  Nikhil Nagesh Bhat   \n",
              "4              Jersey    Gowtam Tinnanuri   \n",
              "\n",
              "                                                Cast        id         genres  \\\n",
              "0                                    Shreyas Talpade  946652.0          Drama   \n",
              "1  Prateik Babbar,Neelay Mehendale,Anjali Sivaram...  897097.0  Romance,Drama   \n",
              "2          Abhishek Bachchan,Yami Gautam,Nimrat Kaur  799713.0   Drama,Comedy   \n",
              "3      Sunny Kaushal,Nushrratt Bharuccha,Vijay Varma  809309.0  Drama,Romance   \n",
              "4           Shahid Kapoor,Mrunal Thakur,Pankaj Kapur  679018.0          Drama   \n",
              "\n",
              "                                            overview  \n",
              "0  Mumbai-born leg-spinner Pravin Tambe made his ...  \n",
              "1  When an aspiring author and his free-spirited ...  \n",
              "2  Jailed under a tough cop, an uneducated politi...  \n",
              "3  In the 1990s' Allahabad, a brash college stude...  \n",
              "4  An ex-cricketer struggling to make ends meet, ...  "
            ],
            "text/html": [
              "\n",
              "  <div id=\"df-9b53b2fe-1d66-4f5c-b158-6b717086d66d\">\n",
              "    <div class=\"colab-df-container\">\n",
              "      <div>\n",
              "<style scoped>\n",
              "    .dataframe tbody tr th:only-of-type {\n",
              "        vertical-align: middle;\n",
              "    }\n",
              "\n",
              "    .dataframe tbody tr th {\n",
              "        vertical-align: top;\n",
              "    }\n",
              "\n",
              "    .dataframe thead th {\n",
              "        text-align: right;\n",
              "    }\n",
              "</style>\n",
              "<table border=\"1\" class=\"dataframe\">\n",
              "  <thead>\n",
              "    <tr style=\"text-align: right;\">\n",
              "      <th></th>\n",
              "      <th>Title</th>\n",
              "      <th>Director</th>\n",
              "      <th>Cast</th>\n",
              "      <th>id</th>\n",
              "      <th>genres</th>\n",
              "      <th>overview</th>\n",
              "    </tr>\n",
              "  </thead>\n",
              "  <tbody>\n",
              "    <tr>\n",
              "      <th>0</th>\n",
              "      <td>Kaun Pravin Tambe?</td>\n",
              "      <td>Jayprad Desai</td>\n",
              "      <td>Shreyas Talpade</td>\n",
              "      <td>946652.0</td>\n",
              "      <td>Drama</td>\n",
              "      <td>Mumbai-born leg-spinner Pravin Tambe made his ...</td>\n",
              "    </tr>\n",
              "    <tr>\n",
              "      <th>1</th>\n",
              "      <td>Cobalt Blue</td>\n",
              "      <td>Sachin Kundalkar</td>\n",
              "      <td>Prateik Babbar,Neelay Mehendale,Anjali Sivaram...</td>\n",
              "      <td>897097.0</td>\n",
              "      <td>Romance,Drama</td>\n",
              "      <td>When an aspiring author and his free-spirited ...</td>\n",
              "    </tr>\n",
              "    <tr>\n",
              "      <th>2</th>\n",
              "      <td>Dasvi</td>\n",
              "      <td>Tushar Jalota</td>\n",
              "      <td>Abhishek Bachchan,Yami Gautam,Nimrat Kaur</td>\n",
              "      <td>799713.0</td>\n",
              "      <td>Drama,Comedy</td>\n",
              "      <td>Jailed under a tough cop, an uneducated politi...</td>\n",
              "    </tr>\n",
              "    <tr>\n",
              "      <th>3</th>\n",
              "      <td>Hurdang</td>\n",
              "      <td>Nikhil Nagesh Bhat</td>\n",
              "      <td>Sunny Kaushal,Nushrratt Bharuccha,Vijay Varma</td>\n",
              "      <td>809309.0</td>\n",
              "      <td>Drama,Romance</td>\n",
              "      <td>In the 1990s' Allahabad, a brash college stude...</td>\n",
              "    </tr>\n",
              "    <tr>\n",
              "      <th>4</th>\n",
              "      <td>Jersey</td>\n",
              "      <td>Gowtam Tinnanuri</td>\n",
              "      <td>Shahid Kapoor,Mrunal Thakur,Pankaj Kapur</td>\n",
              "      <td>679018.0</td>\n",
              "      <td>Drama</td>\n",
              "      <td>An ex-cricketer struggling to make ends meet, ...</td>\n",
              "    </tr>\n",
              "  </tbody>\n",
              "</table>\n",
              "</div>\n",
              "      <button class=\"colab-df-convert\" onclick=\"convertToInteractive('df-9b53b2fe-1d66-4f5c-b158-6b717086d66d')\"\n",
              "              title=\"Convert this dataframe to an interactive table.\"\n",
              "              style=\"display:none;\">\n",
              "        \n",
              "  <svg xmlns=\"http://www.w3.org/2000/svg\" height=\"24px\"viewBox=\"0 0 24 24\"\n",
              "       width=\"24px\">\n",
              "    <path d=\"M0 0h24v24H0V0z\" fill=\"none\"/>\n",
              "    <path d=\"M18.56 5.44l.94 2.06.94-2.06 2.06-.94-2.06-.94-.94-2.06-.94 2.06-2.06.94zm-11 1L8.5 8.5l.94-2.06 2.06-.94-2.06-.94L8.5 2.5l-.94 2.06-2.06.94zm10 10l.94 2.06.94-2.06 2.06-.94-2.06-.94-.94-2.06-.94 2.06-2.06.94z\"/><path d=\"M17.41 7.96l-1.37-1.37c-.4-.4-.92-.59-1.43-.59-.52 0-1.04.2-1.43.59L10.3 9.45l-7.72 7.72c-.78.78-.78 2.05 0 2.83L4 21.41c.39.39.9.59 1.41.59.51 0 1.02-.2 1.41-.59l7.78-7.78 2.81-2.81c.8-.78.8-2.07 0-2.86zM5.41 20L4 18.59l7.72-7.72 1.47 1.35L5.41 20z\"/>\n",
              "  </svg>\n",
              "      </button>\n",
              "      \n",
              "  <style>\n",
              "    .colab-df-container {\n",
              "      display:flex;\n",
              "      flex-wrap:wrap;\n",
              "      gap: 12px;\n",
              "    }\n",
              "\n",
              "    .colab-df-convert {\n",
              "      background-color: #E8F0FE;\n",
              "      border: none;\n",
              "      border-radius: 50%;\n",
              "      cursor: pointer;\n",
              "      display: none;\n",
              "      fill: #1967D2;\n",
              "      height: 32px;\n",
              "      padding: 0 0 0 0;\n",
              "      width: 32px;\n",
              "    }\n",
              "\n",
              "    .colab-df-convert:hover {\n",
              "      background-color: #E2EBFA;\n",
              "      box-shadow: 0px 1px 2px rgba(60, 64, 67, 0.3), 0px 1px 3px 1px rgba(60, 64, 67, 0.15);\n",
              "      fill: #174EA6;\n",
              "    }\n",
              "\n",
              "    [theme=dark] .colab-df-convert {\n",
              "      background-color: #3B4455;\n",
              "      fill: #D2E3FC;\n",
              "    }\n",
              "\n",
              "    [theme=dark] .colab-df-convert:hover {\n",
              "      background-color: #434B5C;\n",
              "      box-shadow: 0px 1px 3px 1px rgba(0, 0, 0, 0.15);\n",
              "      filter: drop-shadow(0px 1px 2px rgba(0, 0, 0, 0.3));\n",
              "      fill: #FFFFFF;\n",
              "    }\n",
              "  </style>\n",
              "\n",
              "      <script>\n",
              "        const buttonEl =\n",
              "          document.querySelector('#df-9b53b2fe-1d66-4f5c-b158-6b717086d66d button.colab-df-convert');\n",
              "        buttonEl.style.display =\n",
              "          google.colab.kernel.accessAllowed ? 'block' : 'none';\n",
              "\n",
              "        async function convertToInteractive(key) {\n",
              "          const element = document.querySelector('#df-9b53b2fe-1d66-4f5c-b158-6b717086d66d');\n",
              "          const dataTable =\n",
              "            await google.colab.kernel.invokeFunction('convertToInteractive',\n",
              "                                                     [key], {});\n",
              "          if (!dataTable) return;\n",
              "\n",
              "          const docLinkHtml = 'Like what you see? Visit the ' +\n",
              "            '<a target=\"_blank\" href=https://colab.research.google.com/notebooks/data_table.ipynb>data table notebook</a>'\n",
              "            + ' to learn more about interactive tables.';\n",
              "          element.innerHTML = '';\n",
              "          dataTable['output_type'] = 'display_data';\n",
              "          await google.colab.output.renderOutput(dataTable, element);\n",
              "          const docLink = document.createElement('div');\n",
              "          docLink.innerHTML = docLinkHtml;\n",
              "          element.appendChild(docLink);\n",
              "        }\n",
              "      </script>\n",
              "    </div>\n",
              "  </div>\n",
              "  "
            ]
          },
          "metadata": {},
          "execution_count": 101
        }
      ]
    },
    {
      "cell_type": "code",
      "source": [
        "# Applying Transformation in \"Director\",\"Cast\",\"genres\"\n",
        "# Transformation :   \"FirstName LastName\" -> \"FirstNameLastName\"\n",
        "def in_format(text):\n",
        "    lst_text = text.split(',')\n",
        "    new_text = [word.replace(' ','') for word in lst_text]\n",
        "\n",
        "    return \" \".join(new_text)\n",
        "\n",
        "\n",
        "df['Director'] = df['Director'].apply(in_format)\n",
        "df['Cast'] = df['Cast'].apply(in_format)\n",
        "df['genres'] =df['genres'].apply(in_format)"
      ],
      "metadata": {
        "id": "A1ci26mAAEs9"
      },
      "execution_count": null,
      "outputs": []
    },
    {
      "cell_type": "code",
      "source": [
        "# removing stop words from the overview feature\n",
        "import nltk\n",
        "nltk.download('stopwords')\n",
        "\n",
        "from nltk.corpus import stopwords\n",
        "exclude =stopwords.words('english')\n",
        "\n",
        "\n",
        "def rem_stopwords(text):\n",
        "    new_text = []\n",
        "\n",
        "    for word in text.split():\n",
        "        if word.lower() not in exclude:\n",
        "            new_text.append(word)\n",
        "\n",
        "    return \" \".join(new_text)\n",
        "tqdm.pandas()\n",
        "df.loc[:,'overview'] = df.loc[:,'overview'].progress_apply(rem_stopwords)"
      ],
      "metadata": {
        "colab": {
          "base_uri": "https://localhost:8080/"
        },
        "id": "H94lCUHHALPr",
        "outputId": "22fee491-8e79-48eb-fd0d-48e60cf0a378"
      },
      "execution_count": null,
      "outputs": [
        {
          "output_type": "stream",
          "name": "stderr",
          "text": [
            "[nltk_data] Downloading package stopwords to /root/nltk_data...\n",
            "[nltk_data]   Unzipping corpora/stopwords.zip.\n",
            "100%|██████████| 3359/3359 [00:00<00:00, 12540.01it/s]\n"
          ]
        }
      ]
    },
    {
      "cell_type": "code",
      "source": [
        "# performing Lemmatization over the Overview Column\n",
        "import spacy\n",
        "nlp = spacy.load(\"en_core_web_sm\")\n",
        "\n",
        "def lemmatizing(text):\n",
        "    new_text = []\n",
        "    doc = nlp(text)\n",
        "    for i in doc:\n",
        "        new_text.append(i.lemma_)\n",
        "\n",
        "    return \" \".join(new_text)"
      ],
      "metadata": {
        "id": "m-S205ZdAWt6"
      },
      "execution_count": null,
      "outputs": []
    },
    {
      "cell_type": "code",
      "source": [
        "df['overview'] = df['overview'].progress_apply(lemmatizing)"
      ],
      "metadata": {
        "id": "fEDD1Act36z9",
        "colab": {
          "base_uri": "https://localhost:8080/"
        },
        "outputId": "f0b7d241-07dc-45e4-b758-61fbbbdc35bd"
      },
      "execution_count": null,
      "outputs": [
        {
          "output_type": "stream",
          "name": "stderr",
          "text": [
            "100%|██████████| 3359/3359 [00:43<00:00, 76.85it/s]\n"
          ]
        }
      ]
    },
    {
      "cell_type": "code",
      "source": [
        "# Combining \"Director\",\"Cast\",\"Genre\",\"overview\" features to form a \"Tag\" Feature\n",
        "df['Tags'] = df['Director']+' '+df['Cast']+' '+df['genres']+' '+df['overview']"
      ],
      "metadata": {
        "id": "xczT7u0XBtKJ"
      },
      "execution_count": null,
      "outputs": []
    },
    {
      "cell_type": "code",
      "source": [
        "df = df[['Title','id','Tags']]\n",
        "df"
      ],
      "metadata": {
        "colab": {
          "base_uri": "https://localhost:8080/",
          "height": 423
        },
        "id": "ikebCdcACH3x",
        "outputId": "b7ce4156-a585-4133-9b69-a1b1eb6652f9"
      },
      "execution_count": null,
      "outputs": [
        {
          "output_type": "execute_result",
          "data": {
            "text/plain": [
              "                   Title        id  \\\n",
              "0     Kaun Pravin Tambe?  946652.0   \n",
              "1            Cobalt Blue  897097.0   \n",
              "2                  Dasvi  799713.0   \n",
              "3                Hurdang  809309.0   \n",
              "4                 Jersey  679018.0   \n",
              "...                  ...       ...   \n",
              "3354      Les Misérables   82695.0   \n",
              "3355   Parental Guidance   88042.0   \n",
              "3356     West of Memphis   84351.0   \n",
              "3357             Quartet  121826.0   \n",
              "3358       Promised Land  133694.0   \n",
              "\n",
              "                                                   Tags  \n",
              "0     JaypradDesai ShreyasTalpade Drama Mumbai - bea...  \n",
              "1     SachinKundalkar PrateikBabbar NeelayMehendale ...  \n",
              "2     TusharJalota AbhishekBachchan YamiGautam Nimra...  \n",
              "3     NikhilNageshBhat SunnyKaushal NushrrattBharucc...  \n",
              "4     GowtamTinnanuri ShahidKapoor MrunalThakur Pank...  \n",
              "...                                                 ...  \n",
              "3354  TomHooper HughJackman RussellCrowe EddieRedmay...  \n",
              "3355  AndyFickman BillyCrystal BetteMidler MarisaTom...  \n",
              "3356  AmyJ.Berg WestMemphisThree Documentary documen...  \n",
              "3357  DustinHoffman MaggieSmith TomCourtenay BillyCo...  \n",
              "3358  GusVanSant MattDamon JohnKrasinski RosemarieDe...  \n",
              "\n",
              "[3359 rows x 3 columns]"
            ],
            "text/html": [
              "\n",
              "  <div id=\"df-4dadde03-2d66-44a3-8442-87672acc0cb0\">\n",
              "    <div class=\"colab-df-container\">\n",
              "      <div>\n",
              "<style scoped>\n",
              "    .dataframe tbody tr th:only-of-type {\n",
              "        vertical-align: middle;\n",
              "    }\n",
              "\n",
              "    .dataframe tbody tr th {\n",
              "        vertical-align: top;\n",
              "    }\n",
              "\n",
              "    .dataframe thead th {\n",
              "        text-align: right;\n",
              "    }\n",
              "</style>\n",
              "<table border=\"1\" class=\"dataframe\">\n",
              "  <thead>\n",
              "    <tr style=\"text-align: right;\">\n",
              "      <th></th>\n",
              "      <th>Title</th>\n",
              "      <th>id</th>\n",
              "      <th>Tags</th>\n",
              "    </tr>\n",
              "  </thead>\n",
              "  <tbody>\n",
              "    <tr>\n",
              "      <th>0</th>\n",
              "      <td>Kaun Pravin Tambe?</td>\n",
              "      <td>946652.0</td>\n",
              "      <td>JaypradDesai ShreyasTalpade Drama Mumbai - bea...</td>\n",
              "    </tr>\n",
              "    <tr>\n",
              "      <th>1</th>\n",
              "      <td>Cobalt Blue</td>\n",
              "      <td>897097.0</td>\n",
              "      <td>SachinKundalkar PrateikBabbar NeelayMehendale ...</td>\n",
              "    </tr>\n",
              "    <tr>\n",
              "      <th>2</th>\n",
              "      <td>Dasvi</td>\n",
              "      <td>799713.0</td>\n",
              "      <td>TusharJalota AbhishekBachchan YamiGautam Nimra...</td>\n",
              "    </tr>\n",
              "    <tr>\n",
              "      <th>3</th>\n",
              "      <td>Hurdang</td>\n",
              "      <td>809309.0</td>\n",
              "      <td>NikhilNageshBhat SunnyKaushal NushrrattBharucc...</td>\n",
              "    </tr>\n",
              "    <tr>\n",
              "      <th>4</th>\n",
              "      <td>Jersey</td>\n",
              "      <td>679018.0</td>\n",
              "      <td>GowtamTinnanuri ShahidKapoor MrunalThakur Pank...</td>\n",
              "    </tr>\n",
              "    <tr>\n",
              "      <th>...</th>\n",
              "      <td>...</td>\n",
              "      <td>...</td>\n",
              "      <td>...</td>\n",
              "    </tr>\n",
              "    <tr>\n",
              "      <th>3354</th>\n",
              "      <td>Les Misérables</td>\n",
              "      <td>82695.0</td>\n",
              "      <td>TomHooper HughJackman RussellCrowe EddieRedmay...</td>\n",
              "    </tr>\n",
              "    <tr>\n",
              "      <th>3355</th>\n",
              "      <td>Parental Guidance</td>\n",
              "      <td>88042.0</td>\n",
              "      <td>AndyFickman BillyCrystal BetteMidler MarisaTom...</td>\n",
              "    </tr>\n",
              "    <tr>\n",
              "      <th>3356</th>\n",
              "      <td>West of Memphis</td>\n",
              "      <td>84351.0</td>\n",
              "      <td>AmyJ.Berg WestMemphisThree Documentary documen...</td>\n",
              "    </tr>\n",
              "    <tr>\n",
              "      <th>3357</th>\n",
              "      <td>Quartet</td>\n",
              "      <td>121826.0</td>\n",
              "      <td>DustinHoffman MaggieSmith TomCourtenay BillyCo...</td>\n",
              "    </tr>\n",
              "    <tr>\n",
              "      <th>3358</th>\n",
              "      <td>Promised Land</td>\n",
              "      <td>133694.0</td>\n",
              "      <td>GusVanSant MattDamon JohnKrasinski RosemarieDe...</td>\n",
              "    </tr>\n",
              "  </tbody>\n",
              "</table>\n",
              "<p>3359 rows × 3 columns</p>\n",
              "</div>\n",
              "      <button class=\"colab-df-convert\" onclick=\"convertToInteractive('df-4dadde03-2d66-44a3-8442-87672acc0cb0')\"\n",
              "              title=\"Convert this dataframe to an interactive table.\"\n",
              "              style=\"display:none;\">\n",
              "        \n",
              "  <svg xmlns=\"http://www.w3.org/2000/svg\" height=\"24px\"viewBox=\"0 0 24 24\"\n",
              "       width=\"24px\">\n",
              "    <path d=\"M0 0h24v24H0V0z\" fill=\"none\"/>\n",
              "    <path d=\"M18.56 5.44l.94 2.06.94-2.06 2.06-.94-2.06-.94-.94-2.06-.94 2.06-2.06.94zm-11 1L8.5 8.5l.94-2.06 2.06-.94-2.06-.94L8.5 2.5l-.94 2.06-2.06.94zm10 10l.94 2.06.94-2.06 2.06-.94-2.06-.94-.94-2.06-.94 2.06-2.06.94z\"/><path d=\"M17.41 7.96l-1.37-1.37c-.4-.4-.92-.59-1.43-.59-.52 0-1.04.2-1.43.59L10.3 9.45l-7.72 7.72c-.78.78-.78 2.05 0 2.83L4 21.41c.39.39.9.59 1.41.59.51 0 1.02-.2 1.41-.59l7.78-7.78 2.81-2.81c.8-.78.8-2.07 0-2.86zM5.41 20L4 18.59l7.72-7.72 1.47 1.35L5.41 20z\"/>\n",
              "  </svg>\n",
              "      </button>\n",
              "      \n",
              "  <style>\n",
              "    .colab-df-container {\n",
              "      display:flex;\n",
              "      flex-wrap:wrap;\n",
              "      gap: 12px;\n",
              "    }\n",
              "\n",
              "    .colab-df-convert {\n",
              "      background-color: #E8F0FE;\n",
              "      border: none;\n",
              "      border-radius: 50%;\n",
              "      cursor: pointer;\n",
              "      display: none;\n",
              "      fill: #1967D2;\n",
              "      height: 32px;\n",
              "      padding: 0 0 0 0;\n",
              "      width: 32px;\n",
              "    }\n",
              "\n",
              "    .colab-df-convert:hover {\n",
              "      background-color: #E2EBFA;\n",
              "      box-shadow: 0px 1px 2px rgba(60, 64, 67, 0.3), 0px 1px 3px 1px rgba(60, 64, 67, 0.15);\n",
              "      fill: #174EA6;\n",
              "    }\n",
              "\n",
              "    [theme=dark] .colab-df-convert {\n",
              "      background-color: #3B4455;\n",
              "      fill: #D2E3FC;\n",
              "    }\n",
              "\n",
              "    [theme=dark] .colab-df-convert:hover {\n",
              "      background-color: #434B5C;\n",
              "      box-shadow: 0px 1px 3px 1px rgba(0, 0, 0, 0.15);\n",
              "      filter: drop-shadow(0px 1px 2px rgba(0, 0, 0, 0.3));\n",
              "      fill: #FFFFFF;\n",
              "    }\n",
              "  </style>\n",
              "\n",
              "      <script>\n",
              "        const buttonEl =\n",
              "          document.querySelector('#df-4dadde03-2d66-44a3-8442-87672acc0cb0 button.colab-df-convert');\n",
              "        buttonEl.style.display =\n",
              "          google.colab.kernel.accessAllowed ? 'block' : 'none';\n",
              "\n",
              "        async function convertToInteractive(key) {\n",
              "          const element = document.querySelector('#df-4dadde03-2d66-44a3-8442-87672acc0cb0');\n",
              "          const dataTable =\n",
              "            await google.colab.kernel.invokeFunction('convertToInteractive',\n",
              "                                                     [key], {});\n",
              "          if (!dataTable) return;\n",
              "\n",
              "          const docLinkHtml = 'Like what you see? Visit the ' +\n",
              "            '<a target=\"_blank\" href=https://colab.research.google.com/notebooks/data_table.ipynb>data table notebook</a>'\n",
              "            + ' to learn more about interactive tables.';\n",
              "          element.innerHTML = '';\n",
              "          dataTable['output_type'] = 'display_data';\n",
              "          await google.colab.output.renderOutput(dataTable, element);\n",
              "          const docLink = document.createElement('div');\n",
              "          docLink.innerHTML = docLinkHtml;\n",
              "          element.appendChild(docLink);\n",
              "        }\n",
              "      </script>\n",
              "    </div>\n",
              "  </div>\n",
              "  "
            ]
          },
          "metadata": {},
          "execution_count": 108
        }
      ]
    },
    {
      "cell_type": "code",
      "source": [
        "# Converting the content within the \"Tag\" feature to lowercase\n",
        "df.loc[:,'Tags'] = df.loc[:,'Tags'].str.lower()\n",
        "df"
      ],
      "metadata": {
        "id": "j0B9J3szCNWp",
        "colab": {
          "base_uri": "https://localhost:8080/",
          "height": 423
        },
        "outputId": "09d8f6a5-7b29-4fd4-e37e-0dbaedaf40e5"
      },
      "execution_count": null,
      "outputs": [
        {
          "output_type": "execute_result",
          "data": {
            "text/plain": [
              "                   Title        id  \\\n",
              "0     Kaun Pravin Tambe?  946652.0   \n",
              "1            Cobalt Blue  897097.0   \n",
              "2                  Dasvi  799713.0   \n",
              "3                Hurdang  809309.0   \n",
              "4                 Jersey  679018.0   \n",
              "...                  ...       ...   \n",
              "3354      Les Misérables   82695.0   \n",
              "3355   Parental Guidance   88042.0   \n",
              "3356     West of Memphis   84351.0   \n",
              "3357             Quartet  121826.0   \n",
              "3358       Promised Land  133694.0   \n",
              "\n",
              "                                                   Tags  \n",
              "0     jaypraddesai shreyastalpade drama mumbai - bea...  \n",
              "1     sachinkundalkar prateikbabbar neelaymehendale ...  \n",
              "2     tusharjalota abhishekbachchan yamigautam nimra...  \n",
              "3     nikhilnageshbhat sunnykaushal nushrrattbharucc...  \n",
              "4     gowtamtinnanuri shahidkapoor mrunalthakur pank...  \n",
              "...                                                 ...  \n",
              "3354  tomhooper hughjackman russellcrowe eddieredmay...  \n",
              "3355  andyfickman billycrystal bettemidler marisatom...  \n",
              "3356  amyj.berg westmemphisthree documentary documen...  \n",
              "3357  dustinhoffman maggiesmith tomcourtenay billyco...  \n",
              "3358  gusvansant mattdamon johnkrasinski rosemariede...  \n",
              "\n",
              "[3359 rows x 3 columns]"
            ],
            "text/html": [
              "\n",
              "  <div id=\"df-248eb0c6-ee65-49cb-912d-cdc51eaf0076\">\n",
              "    <div class=\"colab-df-container\">\n",
              "      <div>\n",
              "<style scoped>\n",
              "    .dataframe tbody tr th:only-of-type {\n",
              "        vertical-align: middle;\n",
              "    }\n",
              "\n",
              "    .dataframe tbody tr th {\n",
              "        vertical-align: top;\n",
              "    }\n",
              "\n",
              "    .dataframe thead th {\n",
              "        text-align: right;\n",
              "    }\n",
              "</style>\n",
              "<table border=\"1\" class=\"dataframe\">\n",
              "  <thead>\n",
              "    <tr style=\"text-align: right;\">\n",
              "      <th></th>\n",
              "      <th>Title</th>\n",
              "      <th>id</th>\n",
              "      <th>Tags</th>\n",
              "    </tr>\n",
              "  </thead>\n",
              "  <tbody>\n",
              "    <tr>\n",
              "      <th>0</th>\n",
              "      <td>Kaun Pravin Tambe?</td>\n",
              "      <td>946652.0</td>\n",
              "      <td>jaypraddesai shreyastalpade drama mumbai - bea...</td>\n",
              "    </tr>\n",
              "    <tr>\n",
              "      <th>1</th>\n",
              "      <td>Cobalt Blue</td>\n",
              "      <td>897097.0</td>\n",
              "      <td>sachinkundalkar prateikbabbar neelaymehendale ...</td>\n",
              "    </tr>\n",
              "    <tr>\n",
              "      <th>2</th>\n",
              "      <td>Dasvi</td>\n",
              "      <td>799713.0</td>\n",
              "      <td>tusharjalota abhishekbachchan yamigautam nimra...</td>\n",
              "    </tr>\n",
              "    <tr>\n",
              "      <th>3</th>\n",
              "      <td>Hurdang</td>\n",
              "      <td>809309.0</td>\n",
              "      <td>nikhilnageshbhat sunnykaushal nushrrattbharucc...</td>\n",
              "    </tr>\n",
              "    <tr>\n",
              "      <th>4</th>\n",
              "      <td>Jersey</td>\n",
              "      <td>679018.0</td>\n",
              "      <td>gowtamtinnanuri shahidkapoor mrunalthakur pank...</td>\n",
              "    </tr>\n",
              "    <tr>\n",
              "      <th>...</th>\n",
              "      <td>...</td>\n",
              "      <td>...</td>\n",
              "      <td>...</td>\n",
              "    </tr>\n",
              "    <tr>\n",
              "      <th>3354</th>\n",
              "      <td>Les Misérables</td>\n",
              "      <td>82695.0</td>\n",
              "      <td>tomhooper hughjackman russellcrowe eddieredmay...</td>\n",
              "    </tr>\n",
              "    <tr>\n",
              "      <th>3355</th>\n",
              "      <td>Parental Guidance</td>\n",
              "      <td>88042.0</td>\n",
              "      <td>andyfickman billycrystal bettemidler marisatom...</td>\n",
              "    </tr>\n",
              "    <tr>\n",
              "      <th>3356</th>\n",
              "      <td>West of Memphis</td>\n",
              "      <td>84351.0</td>\n",
              "      <td>amyj.berg westmemphisthree documentary documen...</td>\n",
              "    </tr>\n",
              "    <tr>\n",
              "      <th>3357</th>\n",
              "      <td>Quartet</td>\n",
              "      <td>121826.0</td>\n",
              "      <td>dustinhoffman maggiesmith tomcourtenay billyco...</td>\n",
              "    </tr>\n",
              "    <tr>\n",
              "      <th>3358</th>\n",
              "      <td>Promised Land</td>\n",
              "      <td>133694.0</td>\n",
              "      <td>gusvansant mattdamon johnkrasinski rosemariede...</td>\n",
              "    </tr>\n",
              "  </tbody>\n",
              "</table>\n",
              "<p>3359 rows × 3 columns</p>\n",
              "</div>\n",
              "      <button class=\"colab-df-convert\" onclick=\"convertToInteractive('df-248eb0c6-ee65-49cb-912d-cdc51eaf0076')\"\n",
              "              title=\"Convert this dataframe to an interactive table.\"\n",
              "              style=\"display:none;\">\n",
              "        \n",
              "  <svg xmlns=\"http://www.w3.org/2000/svg\" height=\"24px\"viewBox=\"0 0 24 24\"\n",
              "       width=\"24px\">\n",
              "    <path d=\"M0 0h24v24H0V0z\" fill=\"none\"/>\n",
              "    <path d=\"M18.56 5.44l.94 2.06.94-2.06 2.06-.94-2.06-.94-.94-2.06-.94 2.06-2.06.94zm-11 1L8.5 8.5l.94-2.06 2.06-.94-2.06-.94L8.5 2.5l-.94 2.06-2.06.94zm10 10l.94 2.06.94-2.06 2.06-.94-2.06-.94-.94-2.06-.94 2.06-2.06.94z\"/><path d=\"M17.41 7.96l-1.37-1.37c-.4-.4-.92-.59-1.43-.59-.52 0-1.04.2-1.43.59L10.3 9.45l-7.72 7.72c-.78.78-.78 2.05 0 2.83L4 21.41c.39.39.9.59 1.41.59.51 0 1.02-.2 1.41-.59l7.78-7.78 2.81-2.81c.8-.78.8-2.07 0-2.86zM5.41 20L4 18.59l7.72-7.72 1.47 1.35L5.41 20z\"/>\n",
              "  </svg>\n",
              "      </button>\n",
              "      \n",
              "  <style>\n",
              "    .colab-df-container {\n",
              "      display:flex;\n",
              "      flex-wrap:wrap;\n",
              "      gap: 12px;\n",
              "    }\n",
              "\n",
              "    .colab-df-convert {\n",
              "      background-color: #E8F0FE;\n",
              "      border: none;\n",
              "      border-radius: 50%;\n",
              "      cursor: pointer;\n",
              "      display: none;\n",
              "      fill: #1967D2;\n",
              "      height: 32px;\n",
              "      padding: 0 0 0 0;\n",
              "      width: 32px;\n",
              "    }\n",
              "\n",
              "    .colab-df-convert:hover {\n",
              "      background-color: #E2EBFA;\n",
              "      box-shadow: 0px 1px 2px rgba(60, 64, 67, 0.3), 0px 1px 3px 1px rgba(60, 64, 67, 0.15);\n",
              "      fill: #174EA6;\n",
              "    }\n",
              "\n",
              "    [theme=dark] .colab-df-convert {\n",
              "      background-color: #3B4455;\n",
              "      fill: #D2E3FC;\n",
              "    }\n",
              "\n",
              "    [theme=dark] .colab-df-convert:hover {\n",
              "      background-color: #434B5C;\n",
              "      box-shadow: 0px 1px 3px 1px rgba(0, 0, 0, 0.15);\n",
              "      filter: drop-shadow(0px 1px 2px rgba(0, 0, 0, 0.3));\n",
              "      fill: #FFFFFF;\n",
              "    }\n",
              "  </style>\n",
              "\n",
              "      <script>\n",
              "        const buttonEl =\n",
              "          document.querySelector('#df-248eb0c6-ee65-49cb-912d-cdc51eaf0076 button.colab-df-convert');\n",
              "        buttonEl.style.display =\n",
              "          google.colab.kernel.accessAllowed ? 'block' : 'none';\n",
              "\n",
              "        async function convertToInteractive(key) {\n",
              "          const element = document.querySelector('#df-248eb0c6-ee65-49cb-912d-cdc51eaf0076');\n",
              "          const dataTable =\n",
              "            await google.colab.kernel.invokeFunction('convertToInteractive',\n",
              "                                                     [key], {});\n",
              "          if (!dataTable) return;\n",
              "\n",
              "          const docLinkHtml = 'Like what you see? Visit the ' +\n",
              "            '<a target=\"_blank\" href=https://colab.research.google.com/notebooks/data_table.ipynb>data table notebook</a>'\n",
              "            + ' to learn more about interactive tables.';\n",
              "          element.innerHTML = '';\n",
              "          dataTable['output_type'] = 'display_data';\n",
              "          await google.colab.output.renderOutput(dataTable, element);\n",
              "          const docLink = document.createElement('div');\n",
              "          docLink.innerHTML = docLinkHtml;\n",
              "          element.appendChild(docLink);\n",
              "        }\n",
              "      </script>\n",
              "    </div>\n",
              "  </div>\n",
              "  "
            ]
          },
          "metadata": {},
          "execution_count": 109
        }
      ]
    },
    {
      "cell_type": "markdown",
      "source": [
        "# Text Vectorization"
      ],
      "metadata": {
        "id": "7CAS-IU0Eqwg"
      }
    },
    {
      "cell_type": "code",
      "source": [
        "from sklearn.feature_extraction.text import TfidfVectorizer,CountVectorizer\n",
        "tfidf = TfidfVectorizer(stop_words='english',ngram_range=(1, 1),min_df=3)"
      ],
      "metadata": {
        "id": "V86JZhuzCQQC"
      },
      "execution_count": null,
      "outputs": []
    },
    {
      "cell_type": "code",
      "source": [
        "vectors = tfidf.fit_transform(df['Tags']).toarray()"
      ],
      "metadata": {
        "id": "mqxt-XKWH5d1"
      },
      "execution_count": null,
      "outputs": []
    },
    {
      "cell_type": "code",
      "source": [
        "vectors.shape"
      ],
      "metadata": {
        "colab": {
          "base_uri": "https://localhost:8080/"
        },
        "id": "9xoBBpYhIHX4",
        "outputId": "6fe9dd78-963a-445d-b5f1-f064a1c1859f"
      },
      "execution_count": null,
      "outputs": [
        {
          "output_type": "execute_result",
          "data": {
            "text/plain": [
              "(3359, 6711)"
            ]
          },
          "metadata": {},
          "execution_count": 112
        }
      ]
    },
    {
      "cell_type": "code",
      "source": [
        "from sklearn.metrics.pairwise import cosine_similarity\n",
        "simi = cosine_similarity(vectors)"
      ],
      "metadata": {
        "id": "MAKEP-avFtHl"
      },
      "execution_count": null,
      "outputs": []
    },
    {
      "cell_type": "code",
      "source": [
        "simi.shape"
      ],
      "metadata": {
        "colab": {
          "base_uri": "https://localhost:8080/"
        },
        "id": "_mBwn3FsFsG3",
        "outputId": "b82f4d8c-fdae-4c88-dc99-7a290d94fca7"
      },
      "execution_count": null,
      "outputs": [
        {
          "output_type": "execute_result",
          "data": {
            "text/plain": [
              "(3359, 3359)"
            ]
          },
          "metadata": {},
          "execution_count": 114
        }
      ]
    },
    {
      "cell_type": "code",
      "source": [
        "type(simi)"
      ],
      "metadata": {
        "colab": {
          "base_uri": "https://localhost:8080/"
        },
        "id": "_2V-Vl3TF8Ry",
        "outputId": "c5e1d8db-99c9-49c6-cd0e-3a481dd43007"
      },
      "execution_count": null,
      "outputs": [
        {
          "output_type": "execute_result",
          "data": {
            "text/plain": [
              "numpy.ndarray"
            ]
          },
          "metadata": {},
          "execution_count": 115
        }
      ]
    },
    {
      "cell_type": "code",
      "source": [
        "import numpy as np\n",
        "# Save the array\n",
        "np.save('similarity_scores.npy', simi)"
      ],
      "metadata": {
        "id": "_kmCWLx1GU99"
      },
      "execution_count": null,
      "outputs": []
    },
    {
      "cell_type": "code",
      "source": [
        "def recommend2(movie):\n",
        "    # getting index of the searched movie\n",
        "    index = df[df['Title']==movie].index[0]\n",
        "    # finding the similiarity score of that movie with every other movies\n",
        "    distances = simi[index]\n",
        "    # sorting them in descending order on the basis of similiarity score\n",
        "    simi_mvs_idxWithname = sorted(list(enumerate(simi[index])),reverse=True,key=lambda x:x[1])[1:6]\n",
        "\n",
        "    simi_movies = []\n",
        "    for i in simi_mvs_idxWithname:\n",
        "         simi_movies.append(df.loc[i[0],'Title'])\n",
        "    return simi_movies"
      ],
      "metadata": {
        "id": "F0abj5E6Hi3o"
      },
      "execution_count": null,
      "outputs": []
    },
    {
      "cell_type": "code",
      "source": [
        "recommend2('Chhichhore')"
      ],
      "metadata": {
        "colab": {
          "base_uri": "https://localhost:8080/"
        },
        "id": "f64wiQSOIqhC",
        "outputId": "ad1f8c92-3451-437f-f206-8de63fdc2e69"
      },
      "execution_count": null,
      "outputs": [
        {
          "output_type": "execute_result",
          "data": {
            "text/plain": [
              "['Dil Jo Na Keh Saka',\n",
              " 'Cirkus',\n",
              " 'Batti Gul Meter Chalu',\n",
              " 'Shuddh Desi Romance',\n",
              " 'Everybody Wants Some!!']"
            ]
          },
          "metadata": {},
          "execution_count": 119
        }
      ]
    },
    {
      "cell_type": "code",
      "source": [
        "recommend2('Logan')"
      ],
      "metadata": {
        "colab": {
          "base_uri": "https://localhost:8080/"
        },
        "id": "1-SOkThbK3FL",
        "outputId": "cb387e1a-800f-4dae-83a8-3e2632ee5e29"
      },
      "execution_count": null,
      "outputs": [
        {
          "output_type": "execute_result",
          "data": {
            "text/plain": [
              "['Sundown',\n",
              " 'The Wolverine',\n",
              " 'X-Men: Days of Future Past',\n",
              " 'Krrish 3',\n",
              " 'Passing']"
            ]
          },
          "metadata": {},
          "execution_count": 120
        }
      ]
    },
    {
      "cell_type": "code",
      "source": [
        "recommend2(\"Spider-Man: No Way Home\")"
      ],
      "metadata": {
        "colab": {
          "base_uri": "https://localhost:8080/"
        },
        "id": "ITUsWlXdPNyj",
        "outputId": "2dbeecec-ccc9-4e30-f6de-314f22447909"
      },
      "execution_count": null,
      "outputs": [
        {
          "output_type": "execute_result",
          "data": {
            "text/plain": [
              "['Spider-Man: Homecoming',\n",
              " 'Spider-Man: Far From Home',\n",
              " 'The Amazing Spider-Man 2',\n",
              " 'The Amazing Spider-Man',\n",
              " 'Doctor Strange in the Multiverse of Madness']"
            ]
          },
          "metadata": {},
          "execution_count": 121
        }
      ]
    },
    {
      "cell_type": "code",
      "source": [
        "recommend2(\"Golmaal Again\")"
      ],
      "metadata": {
        "colab": {
          "base_uri": "https://localhost:8080/"
        },
        "id": "HG1pI81TLyWy",
        "outputId": "ba8f7284-cf37-4753-fd76-87c1eae3ebf0"
      },
      "execution_count": null,
      "outputs": [
        {
          "output_type": "execute_result",
          "data": {
            "text/plain": [
              "['Followers',\n",
              " 'Poster Boys',\n",
              " 'Mr Joe B. Carvalho',\n",
              " 'Fitoor',\n",
              " 'Dick Figures: The Movie']"
            ]
          },
          "metadata": {},
          "execution_count": 122
        }
      ]
    },
    {
      "cell_type": "code",
      "source": [
        "recommend2(\"Pink\")"
      ],
      "metadata": {
        "colab": {
          "base_uri": "https://localhost:8080/"
        },
        "id": "nsrsG6FcI2Bf",
        "outputId": "f6d58a35-1c17-4beb-d7f9-9abf5f5e6226"
      },
      "execution_count": null,
      "outputs": [
        {
          "output_type": "execute_result",
          "data": {
            "text/plain": [
              "['Guilty', 'Mission Mangal', 'Soorma', 'Jazbaa', 'It Follows']"
            ]
          },
          "metadata": {},
          "execution_count": 123
        }
      ]
    },
    {
      "cell_type": "code",
      "source": [
        "recommend2('War')"
      ],
      "metadata": {
        "colab": {
          "base_uri": "https://localhost:8080/"
        },
        "id": "yar8fd9RI8Wy",
        "outputId": "ab11da42-57f0-445c-a021-af3829c1a7ee"
      },
      "execution_count": null,
      "outputs": [
        {
          "output_type": "execute_result",
          "data": {
            "text/plain": [
              "['Notebook', 'Chakravyuh', 'Naam Shabana', 'Dhaakad', 'Baaghi 3']"
            ]
          },
          "metadata": {},
          "execution_count": 124
        }
      ]
    },
    {
      "cell_type": "code",
      "source": [
        "recommend2('The Conjuring 2')"
      ],
      "metadata": {
        "colab": {
          "base_uri": "https://localhost:8080/"
        },
        "id": "TpYner2GLaQa",
        "outputId": "6f2b436f-937e-4ac3-bfb1-b50c9df0c70e"
      },
      "execution_count": null,
      "outputs": [
        {
          "output_type": "execute_result",
          "data": {
            "text/plain": [
              "['The Conjuring',\n",
              " 'The Conjuring: The Devil Made Me Do It',\n",
              " 'Annabelle Comes Home',\n",
              " 'The Possession',\n",
              " 'Insidious: Chapter 2']"
            ]
          },
          "metadata": {},
          "execution_count": 125
        }
      ]
    },
    {
      "cell_type": "code",
      "source": [],
      "metadata": {
        "id": "6G_gF1kJ5Ybi"
      },
      "execution_count": null,
      "outputs": []
    },
    {
      "cell_type": "code",
      "source": [],
      "metadata": {
        "id": "b0RtRToWVjD7"
      },
      "execution_count": null,
      "outputs": []
    }
  ]
}