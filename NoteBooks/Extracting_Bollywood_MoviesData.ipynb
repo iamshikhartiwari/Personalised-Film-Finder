{
  "cells": [
    {
      "cell_type": "code",
      "execution_count": null,
      "metadata": {
        "id": "Wr7HDpWQBZPx"
      },
      "outputs": [],
      "source": [
        "import pandas as pd\n",
        "import requests\n",
        "import time\n",
        "import re\n",
        "api_key = ''  # this is the api key of TMDB Website"
      ]
    },
    {
      "cell_type": "markdown",
      "source": [
        "#  **Extracting MoviesData**\n",
        "\n",
        "\n",
        "\n",
        "\n",
        "\n",
        "\n"
      ],
      "metadata": {
        "id": "muQaMFEkBBus"
      }
    },
    {
      "cell_type": "code",
      "source": [
        "def get_movies(url,index):\n",
        "    # read_html will extract the tables from the given link and index location\n",
        "    df1 = pd.read_html(url,header=0)[index]\n",
        "    df2 = pd.read_html(url,header=0)[index+1]\n",
        "    df3 = pd.read_html(url,header=0)[index+2]\n",
        "    df4 = pd.read_html(url,header=0)[index+3]\n",
        "\n",
        "    # now concatenating all the extracted data of movie\n",
        "    final_df= pd.concat([df1,df2,df3,df4],ignore_index=True)[['Title','Director','Cast']]\n",
        "    return final_df"
      ],
      "metadata": {
        "id": "vX_5tbn2Wsby"
      },
      "execution_count": null,
      "outputs": []
    },
    {
      "cell_type": "code",
      "source": [
        "# Extracting Data of Movies from 2022 to 2012 from WIKIPEDIA"
      ],
      "metadata": {
        "id": "TydeG5LbCEbM"
      },
      "execution_count": null,
      "outputs": []
    },
    {
      "cell_type": "code",
      "source": [
        "movies_2022 = get_movies('https://en.wikipedia.org/wiki/List_of_Hindi_films_of_2022',4)"
      ],
      "metadata": {
        "id": "bLQn1s5CZETI"
      },
      "execution_count": null,
      "outputs": []
    },
    {
      "cell_type": "code",
      "source": [
        "movies_2021 = get_movies('https://en.wikipedia.org/wiki/List_of_Hindi_films_of_2021',2)"
      ],
      "metadata": {
        "id": "nmIMLbAmY5uB"
      },
      "execution_count": null,
      "outputs": []
    },
    {
      "cell_type": "code",
      "source": [
        "movies_2020 = get_movies('https://en.wikipedia.org/wiki/List_of_Hindi_films_of_2020',2)"
      ],
      "metadata": {
        "id": "FTmeRtWIYbmM"
      },
      "execution_count": null,
      "outputs": []
    },
    {
      "cell_type": "code",
      "source": [
        "movies_2019 = get_movies('https://en.wikipedia.org/wiki/List_of_Hindi_films_of_2019',3)"
      ],
      "metadata": {
        "id": "17K9-rO0Wsfu"
      },
      "execution_count": null,
      "outputs": []
    },
    {
      "cell_type": "code",
      "source": [
        "movies_2018 = get_movies('https://en.wikipedia.org/wiki/List_of_Hindi_films_of_2018',2)"
      ],
      "metadata": {
        "id": "7PjkeV6lWsiT"
      },
      "execution_count": null,
      "outputs": []
    },
    {
      "cell_type": "code",
      "source": [
        "movies_2017 = get_movies('https://en.wikipedia.org/wiki/List_of_Hindi_films_of_2017',2)"
      ],
      "metadata": {
        "id": "LQxfX0ULZNXh"
      },
      "execution_count": null,
      "outputs": []
    },
    {
      "cell_type": "code",
      "source": [
        "movies_2016 = get_movies('https://en.wikipedia.org/wiki/List_of_Hindi_films_of_2016',2)"
      ],
      "metadata": {
        "id": "gjNrMqDSZNi4"
      },
      "execution_count": null,
      "outputs": []
    },
    {
      "cell_type": "code",
      "source": [
        "movies_2015 = get_movies('https://en.wikipedia.org/wiki/List_of_Hindi_films_of_2015',2)"
      ],
      "metadata": {
        "id": "2vBzGYybZNrq"
      },
      "execution_count": null,
      "outputs": []
    },
    {
      "cell_type": "code",
      "source": [
        "movies_2014 = get_movies('https://en.wikipedia.org/wiki/List_of_Hindi_films_of_2014',2)"
      ],
      "metadata": {
        "id": "s9WU8gQsY_VN"
      },
      "execution_count": null,
      "outputs": []
    },
    {
      "cell_type": "code",
      "source": [
        "movies_2013 = get_movies('https://en.wikipedia.org/wiki/List_of_Hindi_films_of_2013',2)"
      ],
      "metadata": {
        "id": "sxE7vM6PaD0z"
      },
      "execution_count": null,
      "outputs": []
    },
    {
      "cell_type": "code",
      "source": [
        "movies_2012 = get_movies('https://en.wikipedia.org/wiki/List_of_Hindi_films_of_2012',3)"
      ],
      "metadata": {
        "id": "EP9caNjvaD27"
      },
      "execution_count": null,
      "outputs": []
    },
    {
      "cell_type": "code",
      "source": [
        "movies_2022.sample(5)"
      ],
      "metadata": {
        "colab": {
          "base_uri": "https://localhost:8080/",
          "height": 206
        },
        "id": "D5dW1sDvNZvh",
        "outputId": "f9183840-e759-4606-dcea-724e23f98515"
      },
      "execution_count": null,
      "outputs": [
        {
          "output_type": "execute_result",
          "data": {
            "text/plain": [
              "                 Title         Director  \\\n",
              "60             Maja Ma     Anand Tiwari   \n",
              "38  Laal Singh Chaddha   Advait Chandan   \n",
              "65            Ram Setu  Abhishek Sharma   \n",
              "37            Darlings   Jasmeet K Reen   \n",
              "78             Bhediya     Amar Kaushik   \n",
              "\n",
              "                                                 Cast  \n",
              "60  Madhuri DixitGajraj RaoRitwik BhowmikBarkha Singh  \n",
              "38   Aamir KhanKareena KapoorNaga ChaitanyaMona Singh  \n",
              "65  Akshay KumarJacqueline FernandezNushrratt Bhar...  \n",
              "37                  Alia BhattShefali ShahVijay Varma  \n",
              "78                            Varun DhawanKriti Sanon  "
            ],
            "text/html": [
              "\n",
              "  <div id=\"df-1a3c79b0-248c-4e77-a7bf-959130338ed1\">\n",
              "    <div class=\"colab-df-container\">\n",
              "      <div>\n",
              "<style scoped>\n",
              "    .dataframe tbody tr th:only-of-type {\n",
              "        vertical-align: middle;\n",
              "    }\n",
              "\n",
              "    .dataframe tbody tr th {\n",
              "        vertical-align: top;\n",
              "    }\n",
              "\n",
              "    .dataframe thead th {\n",
              "        text-align: right;\n",
              "    }\n",
              "</style>\n",
              "<table border=\"1\" class=\"dataframe\">\n",
              "  <thead>\n",
              "    <tr style=\"text-align: right;\">\n",
              "      <th></th>\n",
              "      <th>Title</th>\n",
              "      <th>Director</th>\n",
              "      <th>Cast</th>\n",
              "    </tr>\n",
              "  </thead>\n",
              "  <tbody>\n",
              "    <tr>\n",
              "      <th>60</th>\n",
              "      <td>Maja Ma</td>\n",
              "      <td>Anand Tiwari</td>\n",
              "      <td>Madhuri DixitGajraj RaoRitwik BhowmikBarkha Singh</td>\n",
              "    </tr>\n",
              "    <tr>\n",
              "      <th>38</th>\n",
              "      <td>Laal Singh Chaddha</td>\n",
              "      <td>Advait Chandan</td>\n",
              "      <td>Aamir KhanKareena KapoorNaga ChaitanyaMona Singh</td>\n",
              "    </tr>\n",
              "    <tr>\n",
              "      <th>65</th>\n",
              "      <td>Ram Setu</td>\n",
              "      <td>Abhishek Sharma</td>\n",
              "      <td>Akshay KumarJacqueline FernandezNushrratt Bhar...</td>\n",
              "    </tr>\n",
              "    <tr>\n",
              "      <th>37</th>\n",
              "      <td>Darlings</td>\n",
              "      <td>Jasmeet K Reen</td>\n",
              "      <td>Alia BhattShefali ShahVijay Varma</td>\n",
              "    </tr>\n",
              "    <tr>\n",
              "      <th>78</th>\n",
              "      <td>Bhediya</td>\n",
              "      <td>Amar Kaushik</td>\n",
              "      <td>Varun DhawanKriti Sanon</td>\n",
              "    </tr>\n",
              "  </tbody>\n",
              "</table>\n",
              "</div>\n",
              "      <button class=\"colab-df-convert\" onclick=\"convertToInteractive('df-1a3c79b0-248c-4e77-a7bf-959130338ed1')\"\n",
              "              title=\"Convert this dataframe to an interactive table.\"\n",
              "              style=\"display:none;\">\n",
              "        \n",
              "  <svg xmlns=\"http://www.w3.org/2000/svg\" height=\"24px\"viewBox=\"0 0 24 24\"\n",
              "       width=\"24px\">\n",
              "    <path d=\"M0 0h24v24H0V0z\" fill=\"none\"/>\n",
              "    <path d=\"M18.56 5.44l.94 2.06.94-2.06 2.06-.94-2.06-.94-.94-2.06-.94 2.06-2.06.94zm-11 1L8.5 8.5l.94-2.06 2.06-.94-2.06-.94L8.5 2.5l-.94 2.06-2.06.94zm10 10l.94 2.06.94-2.06 2.06-.94-2.06-.94-.94-2.06-.94 2.06-2.06.94z\"/><path d=\"M17.41 7.96l-1.37-1.37c-.4-.4-.92-.59-1.43-.59-.52 0-1.04.2-1.43.59L10.3 9.45l-7.72 7.72c-.78.78-.78 2.05 0 2.83L4 21.41c.39.39.9.59 1.41.59.51 0 1.02-.2 1.41-.59l7.78-7.78 2.81-2.81c.8-.78.8-2.07 0-2.86zM5.41 20L4 18.59l7.72-7.72 1.47 1.35L5.41 20z\"/>\n",
              "  </svg>\n",
              "      </button>\n",
              "      \n",
              "  <style>\n",
              "    .colab-df-container {\n",
              "      display:flex;\n",
              "      flex-wrap:wrap;\n",
              "      gap: 12px;\n",
              "    }\n",
              "\n",
              "    .colab-df-convert {\n",
              "      background-color: #E8F0FE;\n",
              "      border: none;\n",
              "      border-radius: 50%;\n",
              "      cursor: pointer;\n",
              "      display: none;\n",
              "      fill: #1967D2;\n",
              "      height: 32px;\n",
              "      padding: 0 0 0 0;\n",
              "      width: 32px;\n",
              "    }\n",
              "\n",
              "    .colab-df-convert:hover {\n",
              "      background-color: #E2EBFA;\n",
              "      box-shadow: 0px 1px 2px rgba(60, 64, 67, 0.3), 0px 1px 3px 1px rgba(60, 64, 67, 0.15);\n",
              "      fill: #174EA6;\n",
              "    }\n",
              "\n",
              "    [theme=dark] .colab-df-convert {\n",
              "      background-color: #3B4455;\n",
              "      fill: #D2E3FC;\n",
              "    }\n",
              "\n",
              "    [theme=dark] .colab-df-convert:hover {\n",
              "      background-color: #434B5C;\n",
              "      box-shadow: 0px 1px 3px 1px rgba(0, 0, 0, 0.15);\n",
              "      filter: drop-shadow(0px 1px 2px rgba(0, 0, 0, 0.3));\n",
              "      fill: #FFFFFF;\n",
              "    }\n",
              "  </style>\n",
              "\n",
              "      <script>\n",
              "        const buttonEl =\n",
              "          document.querySelector('#df-1a3c79b0-248c-4e77-a7bf-959130338ed1 button.colab-df-convert');\n",
              "        buttonEl.style.display =\n",
              "          google.colab.kernel.accessAllowed ? 'block' : 'none';\n",
              "\n",
              "        async function convertToInteractive(key) {\n",
              "          const element = document.querySelector('#df-1a3c79b0-248c-4e77-a7bf-959130338ed1');\n",
              "          const dataTable =\n",
              "            await google.colab.kernel.invokeFunction('convertToInteractive',\n",
              "                                                     [key], {});\n",
              "          if (!dataTable) return;\n",
              "\n",
              "          const docLinkHtml = 'Like what you see? Visit the ' +\n",
              "            '<a target=\"_blank\" href=https://colab.research.google.com/notebooks/data_table.ipynb>data table notebook</a>'\n",
              "            + ' to learn more about interactive tables.';\n",
              "          element.innerHTML = '';\n",
              "          dataTable['output_type'] = 'display_data';\n",
              "          await google.colab.output.renderOutput(dataTable, element);\n",
              "          const docLink = document.createElement('div');\n",
              "          docLink.innerHTML = docLinkHtml;\n",
              "          element.appendChild(docLink);\n",
              "        }\n",
              "      </script>\n",
              "    </div>\n",
              "  </div>\n",
              "  "
            ]
          },
          "metadata": {},
          "execution_count": 16
        }
      ]
    },
    {
      "cell_type": "code",
      "source": [
        "movies_2015.sample(5)"
      ],
      "metadata": {
        "colab": {
          "base_uri": "https://localhost:8080/",
          "height": 206
        },
        "id": "aErWGUsRNgtJ",
        "outputId": "09560b95-f3bb-409e-98db-5e45f4157954"
      },
      "execution_count": null,
      "outputs": [
        {
          "output_type": "execute_result",
          "data": {
            "text/plain": [
              "                    Title                            Director  \\\n",
              "34                  Court                   Chaitanya Tamhane   \n",
              "29  Yahaan Sabki Lagi Hai  Satavisha Bose, Cyrus R. khambhata   \n",
              "40        Kaagaz Ke Fools                Anil Kumar Chaudhary   \n",
              "69              Bangistan                      Karan Anshuman   \n",
              "53        Dil Dhadakne Do                         Zoya Akhtar   \n",
              "\n",
              "                                                 Cast  \n",
              "34  Vira Satidhar, Vivek Gombher, Geetanjali Kulkarni  \n",
              "29  Varun Thakur, Eden Shyodhi, Heerok Das, Teesha...  \n",
              "40  Vinay Pathak, Mugdha Godse, Raima Sen, Saurabh...  \n",
              "69                    Riteish Deshmukh, Pulkit Samrat  \n",
              "53  Anil Kapoor, Shefali Shah, Priyanka Chopra, Ra...  "
            ],
            "text/html": [
              "\n",
              "  <div id=\"df-6deb0fa5-ea7f-4709-b76e-f0dce0a168ba\">\n",
              "    <div class=\"colab-df-container\">\n",
              "      <div>\n",
              "<style scoped>\n",
              "    .dataframe tbody tr th:only-of-type {\n",
              "        vertical-align: middle;\n",
              "    }\n",
              "\n",
              "    .dataframe tbody tr th {\n",
              "        vertical-align: top;\n",
              "    }\n",
              "\n",
              "    .dataframe thead th {\n",
              "        text-align: right;\n",
              "    }\n",
              "</style>\n",
              "<table border=\"1\" class=\"dataframe\">\n",
              "  <thead>\n",
              "    <tr style=\"text-align: right;\">\n",
              "      <th></th>\n",
              "      <th>Title</th>\n",
              "      <th>Director</th>\n",
              "      <th>Cast</th>\n",
              "    </tr>\n",
              "  </thead>\n",
              "  <tbody>\n",
              "    <tr>\n",
              "      <th>34</th>\n",
              "      <td>Court</td>\n",
              "      <td>Chaitanya Tamhane</td>\n",
              "      <td>Vira Satidhar, Vivek Gombher, Geetanjali Kulkarni</td>\n",
              "    </tr>\n",
              "    <tr>\n",
              "      <th>29</th>\n",
              "      <td>Yahaan Sabki Lagi Hai</td>\n",
              "      <td>Satavisha Bose, Cyrus R. khambhata</td>\n",
              "      <td>Varun Thakur, Eden Shyodhi, Heerok Das, Teesha...</td>\n",
              "    </tr>\n",
              "    <tr>\n",
              "      <th>40</th>\n",
              "      <td>Kaagaz Ke Fools</td>\n",
              "      <td>Anil Kumar Chaudhary</td>\n",
              "      <td>Vinay Pathak, Mugdha Godse, Raima Sen, Saurabh...</td>\n",
              "    </tr>\n",
              "    <tr>\n",
              "      <th>69</th>\n",
              "      <td>Bangistan</td>\n",
              "      <td>Karan Anshuman</td>\n",
              "      <td>Riteish Deshmukh, Pulkit Samrat</td>\n",
              "    </tr>\n",
              "    <tr>\n",
              "      <th>53</th>\n",
              "      <td>Dil Dhadakne Do</td>\n",
              "      <td>Zoya Akhtar</td>\n",
              "      <td>Anil Kapoor, Shefali Shah, Priyanka Chopra, Ra...</td>\n",
              "    </tr>\n",
              "  </tbody>\n",
              "</table>\n",
              "</div>\n",
              "      <button class=\"colab-df-convert\" onclick=\"convertToInteractive('df-6deb0fa5-ea7f-4709-b76e-f0dce0a168ba')\"\n",
              "              title=\"Convert this dataframe to an interactive table.\"\n",
              "              style=\"display:none;\">\n",
              "        \n",
              "  <svg xmlns=\"http://www.w3.org/2000/svg\" height=\"24px\"viewBox=\"0 0 24 24\"\n",
              "       width=\"24px\">\n",
              "    <path d=\"M0 0h24v24H0V0z\" fill=\"none\"/>\n",
              "    <path d=\"M18.56 5.44l.94 2.06.94-2.06 2.06-.94-2.06-.94-.94-2.06-.94 2.06-2.06.94zm-11 1L8.5 8.5l.94-2.06 2.06-.94-2.06-.94L8.5 2.5l-.94 2.06-2.06.94zm10 10l.94 2.06.94-2.06 2.06-.94-2.06-.94-.94-2.06-.94 2.06-2.06.94z\"/><path d=\"M17.41 7.96l-1.37-1.37c-.4-.4-.92-.59-1.43-.59-.52 0-1.04.2-1.43.59L10.3 9.45l-7.72 7.72c-.78.78-.78 2.05 0 2.83L4 21.41c.39.39.9.59 1.41.59.51 0 1.02-.2 1.41-.59l7.78-7.78 2.81-2.81c.8-.78.8-2.07 0-2.86zM5.41 20L4 18.59l7.72-7.72 1.47 1.35L5.41 20z\"/>\n",
              "  </svg>\n",
              "      </button>\n",
              "      \n",
              "  <style>\n",
              "    .colab-df-container {\n",
              "      display:flex;\n",
              "      flex-wrap:wrap;\n",
              "      gap: 12px;\n",
              "    }\n",
              "\n",
              "    .colab-df-convert {\n",
              "      background-color: #E8F0FE;\n",
              "      border: none;\n",
              "      border-radius: 50%;\n",
              "      cursor: pointer;\n",
              "      display: none;\n",
              "      fill: #1967D2;\n",
              "      height: 32px;\n",
              "      padding: 0 0 0 0;\n",
              "      width: 32px;\n",
              "    }\n",
              "\n",
              "    .colab-df-convert:hover {\n",
              "      background-color: #E2EBFA;\n",
              "      box-shadow: 0px 1px 2px rgba(60, 64, 67, 0.3), 0px 1px 3px 1px rgba(60, 64, 67, 0.15);\n",
              "      fill: #174EA6;\n",
              "    }\n",
              "\n",
              "    [theme=dark] .colab-df-convert {\n",
              "      background-color: #3B4455;\n",
              "      fill: #D2E3FC;\n",
              "    }\n",
              "\n",
              "    [theme=dark] .colab-df-convert:hover {\n",
              "      background-color: #434B5C;\n",
              "      box-shadow: 0px 1px 3px 1px rgba(0, 0, 0, 0.15);\n",
              "      filter: drop-shadow(0px 1px 2px rgba(0, 0, 0, 0.3));\n",
              "      fill: #FFFFFF;\n",
              "    }\n",
              "  </style>\n",
              "\n",
              "      <script>\n",
              "        const buttonEl =\n",
              "          document.querySelector('#df-6deb0fa5-ea7f-4709-b76e-f0dce0a168ba button.colab-df-convert');\n",
              "        buttonEl.style.display =\n",
              "          google.colab.kernel.accessAllowed ? 'block' : 'none';\n",
              "\n",
              "        async function convertToInteractive(key) {\n",
              "          const element = document.querySelector('#df-6deb0fa5-ea7f-4709-b76e-f0dce0a168ba');\n",
              "          const dataTable =\n",
              "            await google.colab.kernel.invokeFunction('convertToInteractive',\n",
              "                                                     [key], {});\n",
              "          if (!dataTable) return;\n",
              "\n",
              "          const docLinkHtml = 'Like what you see? Visit the ' +\n",
              "            '<a target=\"_blank\" href=https://colab.research.google.com/notebooks/data_table.ipynb>data table notebook</a>'\n",
              "            + ' to learn more about interactive tables.';\n",
              "          element.innerHTML = '';\n",
              "          dataTable['output_type'] = 'display_data';\n",
              "          await google.colab.output.renderOutput(dataTable, element);\n",
              "          const docLink = document.createElement('div');\n",
              "          docLink.innerHTML = docLinkHtml;\n",
              "          element.appendChild(docLink);\n",
              "        }\n",
              "      </script>\n",
              "    </div>\n",
              "  </div>\n",
              "  "
            ]
          },
          "metadata": {},
          "execution_count": 17
        }
      ]
    },
    {
      "cell_type": "code",
      "source": [
        "# concatenating only those DataFrames that require same type of pre-processing in Cast Feature\n",
        "list1 =[movies_2022,movies_2021,movies_2020,movies_2019]\n",
        "list2 = [movies_2018,movies_2017,movies_2016,movies_2015,movies_2014,movies_2013,movies_2012]\n",
        "\n",
        "first_df = pd.concat(list1,ignore_index=True)\n",
        "second_df = pd.concat(list2,ignore_index=True)"
      ],
      "metadata": {
        "id": "UH60gV-ztW6-"
      },
      "execution_count": null,
      "outputs": []
    },
    {
      "cell_type": "markdown",
      "source": [
        "## Pre-processing in first_df\n"
      ],
      "metadata": {
        "id": "0eNlDudcDbc5"
      }
    },
    {
      "cell_type": "code",
      "source": [
        "# checking null values\n",
        "first_df.isnull().sum()"
      ],
      "metadata": {
        "colab": {
          "base_uri": "https://localhost:8080/"
        },
        "id": "QdMqs5xPSUYI",
        "outputId": "cf315ed7-523d-41a6-eb0f-007a6706c01f"
      },
      "execution_count": null,
      "outputs": [
        {
          "output_type": "execute_result",
          "data": {
            "text/plain": [
              "Title       10\n",
              "Director    10\n",
              "Cast        10\n",
              "dtype: int64"
            ]
          },
          "metadata": {},
          "execution_count": 51
        }
      ]
    },
    {
      "cell_type": "code",
      "source": [
        "# droping null values\n",
        "first_df.dropna(inplace=True)"
      ],
      "metadata": {
        "id": "8e_14o3kSb_p"
      },
      "execution_count": null,
      "outputs": []
    },
    {
      "cell_type": "code",
      "source": [
        "first_df.isnull().sum()"
      ],
      "metadata": {
        "colab": {
          "base_uri": "https://localhost:8080/"
        },
        "id": "ViMHUnTLSgae",
        "outputId": "022a13ca-2f5c-456b-b726-db96a0280845"
      },
      "execution_count": null,
      "outputs": [
        {
          "output_type": "execute_result",
          "data": {
            "text/plain": [
              "Title       0\n",
              "Director    0\n",
              "Cast        0\n",
              "dtype: int64"
            ]
          },
          "metadata": {},
          "execution_count": 53
        }
      ]
    },
    {
      "cell_type": "code",
      "source": [
        "# function to get cast name in proper format\n",
        "import re\n",
        "def getSomeWorkDone(text):\n",
        "  pattern = r'[A-Z][a-z]+ [A-Z][a-z]+'\n",
        "  lst = re.findall(pattern,text)\n",
        "  string = \",\".join(lst)\n",
        "\n",
        "  return string"
      ],
      "metadata": {
        "id": "Q43h3BdXtC2j"
      },
      "execution_count": null,
      "outputs": []
    },
    {
      "cell_type": "code",
      "source": [
        "first_df['Cast'] = first_df['Cast'].apply(getSomeWorkDone)"
      ],
      "metadata": {
        "id": "QDqksY4XtDAg"
      },
      "execution_count": null,
      "outputs": []
    },
    {
      "cell_type": "code",
      "source": [
        "first_df.duplicated().sum() # contains zero duplicate rows"
      ],
      "metadata": {
        "colab": {
          "base_uri": "https://localhost:8080/"
        },
        "id": "bU9gXuGgQAs8",
        "outputId": "3ead2720-e531-4026-e2bc-cc153fb81d0e"
      },
      "execution_count": null,
      "outputs": [
        {
          "output_type": "execute_result",
          "data": {
            "text/plain": [
              "0"
            ]
          },
          "metadata": {},
          "execution_count": 56
        }
      ]
    },
    {
      "cell_type": "markdown",
      "source": [
        "# Pre-Processing in second data frame"
      ],
      "metadata": {
        "id": "k3sFufqxUfCL"
      }
    },
    {
      "cell_type": "code",
      "source": [
        "# checking null values in 2nd DF\n",
        "second_df.isnull().sum()"
      ],
      "metadata": {
        "colab": {
          "base_uri": "https://localhost:8080/"
        },
        "id": "oNKXWP2qDZbV",
        "outputId": "29a1ebe7-f87c-44d7-9196-a88853c8cc58"
      },
      "execution_count": null,
      "outputs": [
        {
          "output_type": "execute_result",
          "data": {
            "text/plain": [
              "Title       15\n",
              "Director    16\n",
              "Cast        18\n",
              "dtype: int64"
            ]
          },
          "metadata": {},
          "execution_count": 57
        }
      ]
    },
    {
      "cell_type": "code",
      "source": [
        "second_df[second_df['Cast'].isnull()]"
      ],
      "metadata": {
        "colab": {
          "base_uri": "https://localhost:8080/",
          "height": 613
        },
        "id": "S8GfPQHePszg",
        "outputId": "17120e99-ff66-4c30-feec-1561aace3c6a"
      },
      "execution_count": null,
      "outputs": [
        {
          "output_type": "execute_result",
          "data": {
            "text/plain": [
              "                                   Title       Director Cast\n",
              "48                 Hanuman vs Mahiravana   Ezhil Vendan  NaN\n",
              "74                                   NaN            NaN  NaN\n",
              "199                                  NaN            NaN  NaN\n",
              "273             Murari the Mad Gentleman            NaN  NaN\n",
              "441                                  NaN            NaN  NaN\n",
              "495                                  NaN            NaN  NaN\n",
              "544                                  NaN            NaN  NaN\n",
              "545                                  NaN            NaN  NaN\n",
              "546                                  NaN            NaN  NaN\n",
              "547                                  NaN            NaN  NaN\n",
              "548                                  NaN            NaN  NaN\n",
              "549                                  NaN            NaN  NaN\n",
              "550                                  NaN            NaN  NaN\n",
              "551                                  NaN            NaN  NaN\n",
              "552                                  NaN            NaN  NaN\n",
              "553                                  NaN            NaN  NaN\n",
              "660  Chhota Bheem and the Throne of Bali  Rajiv Chilaka  NaN\n",
              "739                                  NaN            NaN  NaN"
            ],
            "text/html": [
              "\n",
              "  <div id=\"df-80fd9d8e-0d35-439e-a124-b9d4201daf4e\">\n",
              "    <div class=\"colab-df-container\">\n",
              "      <div>\n",
              "<style scoped>\n",
              "    .dataframe tbody tr th:only-of-type {\n",
              "        vertical-align: middle;\n",
              "    }\n",
              "\n",
              "    .dataframe tbody tr th {\n",
              "        vertical-align: top;\n",
              "    }\n",
              "\n",
              "    .dataframe thead th {\n",
              "        text-align: right;\n",
              "    }\n",
              "</style>\n",
              "<table border=\"1\" class=\"dataframe\">\n",
              "  <thead>\n",
              "    <tr style=\"text-align: right;\">\n",
              "      <th></th>\n",
              "      <th>Title</th>\n",
              "      <th>Director</th>\n",
              "      <th>Cast</th>\n",
              "    </tr>\n",
              "  </thead>\n",
              "  <tbody>\n",
              "    <tr>\n",
              "      <th>48</th>\n",
              "      <td>Hanuman vs Mahiravana</td>\n",
              "      <td>Ezhil Vendan</td>\n",
              "      <td>NaN</td>\n",
              "    </tr>\n",
              "    <tr>\n",
              "      <th>74</th>\n",
              "      <td>NaN</td>\n",
              "      <td>NaN</td>\n",
              "      <td>NaN</td>\n",
              "    </tr>\n",
              "    <tr>\n",
              "      <th>199</th>\n",
              "      <td>NaN</td>\n",
              "      <td>NaN</td>\n",
              "      <td>NaN</td>\n",
              "    </tr>\n",
              "    <tr>\n",
              "      <th>273</th>\n",
              "      <td>Murari the Mad Gentleman</td>\n",
              "      <td>NaN</td>\n",
              "      <td>NaN</td>\n",
              "    </tr>\n",
              "    <tr>\n",
              "      <th>441</th>\n",
              "      <td>NaN</td>\n",
              "      <td>NaN</td>\n",
              "      <td>NaN</td>\n",
              "    </tr>\n",
              "    <tr>\n",
              "      <th>495</th>\n",
              "      <td>NaN</td>\n",
              "      <td>NaN</td>\n",
              "      <td>NaN</td>\n",
              "    </tr>\n",
              "    <tr>\n",
              "      <th>544</th>\n",
              "      <td>NaN</td>\n",
              "      <td>NaN</td>\n",
              "      <td>NaN</td>\n",
              "    </tr>\n",
              "    <tr>\n",
              "      <th>545</th>\n",
              "      <td>NaN</td>\n",
              "      <td>NaN</td>\n",
              "      <td>NaN</td>\n",
              "    </tr>\n",
              "    <tr>\n",
              "      <th>546</th>\n",
              "      <td>NaN</td>\n",
              "      <td>NaN</td>\n",
              "      <td>NaN</td>\n",
              "    </tr>\n",
              "    <tr>\n",
              "      <th>547</th>\n",
              "      <td>NaN</td>\n",
              "      <td>NaN</td>\n",
              "      <td>NaN</td>\n",
              "    </tr>\n",
              "    <tr>\n",
              "      <th>548</th>\n",
              "      <td>NaN</td>\n",
              "      <td>NaN</td>\n",
              "      <td>NaN</td>\n",
              "    </tr>\n",
              "    <tr>\n",
              "      <th>549</th>\n",
              "      <td>NaN</td>\n",
              "      <td>NaN</td>\n",
              "      <td>NaN</td>\n",
              "    </tr>\n",
              "    <tr>\n",
              "      <th>550</th>\n",
              "      <td>NaN</td>\n",
              "      <td>NaN</td>\n",
              "      <td>NaN</td>\n",
              "    </tr>\n",
              "    <tr>\n",
              "      <th>551</th>\n",
              "      <td>NaN</td>\n",
              "      <td>NaN</td>\n",
              "      <td>NaN</td>\n",
              "    </tr>\n",
              "    <tr>\n",
              "      <th>552</th>\n",
              "      <td>NaN</td>\n",
              "      <td>NaN</td>\n",
              "      <td>NaN</td>\n",
              "    </tr>\n",
              "    <tr>\n",
              "      <th>553</th>\n",
              "      <td>NaN</td>\n",
              "      <td>NaN</td>\n",
              "      <td>NaN</td>\n",
              "    </tr>\n",
              "    <tr>\n",
              "      <th>660</th>\n",
              "      <td>Chhota Bheem and the Throne of Bali</td>\n",
              "      <td>Rajiv Chilaka</td>\n",
              "      <td>NaN</td>\n",
              "    </tr>\n",
              "    <tr>\n",
              "      <th>739</th>\n",
              "      <td>NaN</td>\n",
              "      <td>NaN</td>\n",
              "      <td>NaN</td>\n",
              "    </tr>\n",
              "  </tbody>\n",
              "</table>\n",
              "</div>\n",
              "      <button class=\"colab-df-convert\" onclick=\"convertToInteractive('df-80fd9d8e-0d35-439e-a124-b9d4201daf4e')\"\n",
              "              title=\"Convert this dataframe to an interactive table.\"\n",
              "              style=\"display:none;\">\n",
              "        \n",
              "  <svg xmlns=\"http://www.w3.org/2000/svg\" height=\"24px\"viewBox=\"0 0 24 24\"\n",
              "       width=\"24px\">\n",
              "    <path d=\"M0 0h24v24H0V0z\" fill=\"none\"/>\n",
              "    <path d=\"M18.56 5.44l.94 2.06.94-2.06 2.06-.94-2.06-.94-.94-2.06-.94 2.06-2.06.94zm-11 1L8.5 8.5l.94-2.06 2.06-.94-2.06-.94L8.5 2.5l-.94 2.06-2.06.94zm10 10l.94 2.06.94-2.06 2.06-.94-2.06-.94-.94-2.06-.94 2.06-2.06.94z\"/><path d=\"M17.41 7.96l-1.37-1.37c-.4-.4-.92-.59-1.43-.59-.52 0-1.04.2-1.43.59L10.3 9.45l-7.72 7.72c-.78.78-.78 2.05 0 2.83L4 21.41c.39.39.9.59 1.41.59.51 0 1.02-.2 1.41-.59l7.78-7.78 2.81-2.81c.8-.78.8-2.07 0-2.86zM5.41 20L4 18.59l7.72-7.72 1.47 1.35L5.41 20z\"/>\n",
              "  </svg>\n",
              "      </button>\n",
              "      \n",
              "  <style>\n",
              "    .colab-df-container {\n",
              "      display:flex;\n",
              "      flex-wrap:wrap;\n",
              "      gap: 12px;\n",
              "    }\n",
              "\n",
              "    .colab-df-convert {\n",
              "      background-color: #E8F0FE;\n",
              "      border: none;\n",
              "      border-radius: 50%;\n",
              "      cursor: pointer;\n",
              "      display: none;\n",
              "      fill: #1967D2;\n",
              "      height: 32px;\n",
              "      padding: 0 0 0 0;\n",
              "      width: 32px;\n",
              "    }\n",
              "\n",
              "    .colab-df-convert:hover {\n",
              "      background-color: #E2EBFA;\n",
              "      box-shadow: 0px 1px 2px rgba(60, 64, 67, 0.3), 0px 1px 3px 1px rgba(60, 64, 67, 0.15);\n",
              "      fill: #174EA6;\n",
              "    }\n",
              "\n",
              "    [theme=dark] .colab-df-convert {\n",
              "      background-color: #3B4455;\n",
              "      fill: #D2E3FC;\n",
              "    }\n",
              "\n",
              "    [theme=dark] .colab-df-convert:hover {\n",
              "      background-color: #434B5C;\n",
              "      box-shadow: 0px 1px 3px 1px rgba(0, 0, 0, 0.15);\n",
              "      filter: drop-shadow(0px 1px 2px rgba(0, 0, 0, 0.3));\n",
              "      fill: #FFFFFF;\n",
              "    }\n",
              "  </style>\n",
              "\n",
              "      <script>\n",
              "        const buttonEl =\n",
              "          document.querySelector('#df-80fd9d8e-0d35-439e-a124-b9d4201daf4e button.colab-df-convert');\n",
              "        buttonEl.style.display =\n",
              "          google.colab.kernel.accessAllowed ? 'block' : 'none';\n",
              "\n",
              "        async function convertToInteractive(key) {\n",
              "          const element = document.querySelector('#df-80fd9d8e-0d35-439e-a124-b9d4201daf4e');\n",
              "          const dataTable =\n",
              "            await google.colab.kernel.invokeFunction('convertToInteractive',\n",
              "                                                     [key], {});\n",
              "          if (!dataTable) return;\n",
              "\n",
              "          const docLinkHtml = 'Like what you see? Visit the ' +\n",
              "            '<a target=\"_blank\" href=https://colab.research.google.com/notebooks/data_table.ipynb>data table notebook</a>'\n",
              "            + ' to learn more about interactive tables.';\n",
              "          element.innerHTML = '';\n",
              "          dataTable['output_type'] = 'display_data';\n",
              "          await google.colab.output.renderOutput(dataTable, element);\n",
              "          const docLink = document.createElement('div');\n",
              "          docLink.innerHTML = docLinkHtml;\n",
              "          element.appendChild(docLink);\n",
              "        }\n",
              "      </script>\n",
              "    </div>\n",
              "  </div>\n",
              "  "
            ]
          },
          "metadata": {},
          "execution_count": 26
        }
      ]
    },
    {
      "cell_type": "code",
      "source": [
        "second_df = second_df.dropna()"
      ],
      "metadata": {
        "id": "JDq4cH5tDtC4"
      },
      "execution_count": null,
      "outputs": []
    },
    {
      "cell_type": "code",
      "source": [
        "second_df.isnull().sum()"
      ],
      "metadata": {
        "colab": {
          "base_uri": "https://localhost:8080/"
        },
        "id": "31lyQuh5DtFB",
        "outputId": "90336ebf-6c03-4d2c-83f7-a42ea2b97096"
      },
      "execution_count": null,
      "outputs": [
        {
          "output_type": "execute_result",
          "data": {
            "text/plain": [
              "Title       0\n",
              "Director    0\n",
              "Cast        0\n",
              "dtype: int64"
            ]
          },
          "metadata": {},
          "execution_count": 59
        }
      ]
    },
    {
      "cell_type": "code",
      "source": [
        "second_df.duplicated().sum() # no duplicate rows found"
      ],
      "metadata": {
        "colab": {
          "base_uri": "https://localhost:8080/"
        },
        "id": "1scOYo4eP5qU",
        "outputId": "38b51c4d-0438-4c93-e197-2459f330d86a"
      },
      "execution_count": null,
      "outputs": [
        {
          "output_type": "execute_result",
          "data": {
            "text/plain": [
              "0"
            ]
          },
          "metadata": {},
          "execution_count": 29
        }
      ]
    },
    {
      "cell_type": "code",
      "source": [
        "# Concatenating  the 2 DataFrames i.e first_df and second_df\n",
        "final_df = pd.concat([first_df,second_df],ignore_index=True)"
      ],
      "metadata": {
        "id": "EL7xRar_DtHs"
      },
      "execution_count": null,
      "outputs": []
    },
    {
      "cell_type": "code",
      "source": [
        "final_df"
      ],
      "metadata": {
        "colab": {
          "base_uri": "https://localhost:8080/",
          "height": 423
        },
        "id": "_CUptKEFDtJ1",
        "outputId": "5ca928c8-9ef6-4799-92e2-3ff697504e10"
      },
      "execution_count": null,
      "outputs": [
        {
          "output_type": "execute_result",
          "data": {
            "text/plain": [
              "                                Title            Director  \\\n",
              "0                      Attack: Part 1   Lakshya Raj Anand   \n",
              "1                  Kaun Pravin Tambe?       Jayprad Desai   \n",
              "2                         Cobalt Blue    Sachin Kundalkar   \n",
              "3                               Dasvi       Tushar Jalota   \n",
              "4                             Hurdang  Nikhil Nagesh Bhat   \n",
              "...                               ...                 ...   \n",
              "1244  Talaash: The Answer Lies Within         Reema Kagti   \n",
              "1245                      Khiladi 786      Ashish R Mohan   \n",
              "1246                     The Last Act        12 directors   \n",
              "1247               Cigarette Ki Tarah    Akashaditya Lama   \n",
              "1248                        Dabangg 2         Arbaaz Khan   \n",
              "\n",
              "                                                   Cast  \n",
              "0         John Abraham,Jacqueline Fernandez,Rakul Preet  \n",
              "1                                       Shreyas Talpade  \n",
              "2     Prateik Babbar,Neelay Mehendale,Anjali Sivaram...  \n",
              "3             Abhishek Bachchan,Yami Gautam,Nimrat Kaur  \n",
              "4         Sunny Kaushal,Nushrratt Bharuccha,Vijay Varma  \n",
              "...                                                 ...  \n",
              "1244  Aamir Khan, Rani Mukerji, Kareena Kapoor, Nawa...  \n",
              "1245  Akshay Kumar, Asin, Mithun Chakraborty, Raj Ba...  \n",
              "1246                                 Saurabh Shukla[88]  \n",
              "1247  Bhoop Yaduvanshi, Prashant Narayanan, Madhurim...  \n",
              "1248  Salman Khan, Sonakshi Sinha, Arbaaz Khan, Prak...  \n",
              "\n",
              "[1249 rows x 3 columns]"
            ],
            "text/html": [
              "\n",
              "  <div id=\"df-1f34ed4e-2a40-4b36-8941-5ab114675077\">\n",
              "    <div class=\"colab-df-container\">\n",
              "      <div>\n",
              "<style scoped>\n",
              "    .dataframe tbody tr th:only-of-type {\n",
              "        vertical-align: middle;\n",
              "    }\n",
              "\n",
              "    .dataframe tbody tr th {\n",
              "        vertical-align: top;\n",
              "    }\n",
              "\n",
              "    .dataframe thead th {\n",
              "        text-align: right;\n",
              "    }\n",
              "</style>\n",
              "<table border=\"1\" class=\"dataframe\">\n",
              "  <thead>\n",
              "    <tr style=\"text-align: right;\">\n",
              "      <th></th>\n",
              "      <th>Title</th>\n",
              "      <th>Director</th>\n",
              "      <th>Cast</th>\n",
              "    </tr>\n",
              "  </thead>\n",
              "  <tbody>\n",
              "    <tr>\n",
              "      <th>0</th>\n",
              "      <td>Attack: Part 1</td>\n",
              "      <td>Lakshya Raj Anand</td>\n",
              "      <td>John Abraham,Jacqueline Fernandez,Rakul Preet</td>\n",
              "    </tr>\n",
              "    <tr>\n",
              "      <th>1</th>\n",
              "      <td>Kaun Pravin Tambe?</td>\n",
              "      <td>Jayprad Desai</td>\n",
              "      <td>Shreyas Talpade</td>\n",
              "    </tr>\n",
              "    <tr>\n",
              "      <th>2</th>\n",
              "      <td>Cobalt Blue</td>\n",
              "      <td>Sachin Kundalkar</td>\n",
              "      <td>Prateik Babbar,Neelay Mehendale,Anjali Sivaram...</td>\n",
              "    </tr>\n",
              "    <tr>\n",
              "      <th>3</th>\n",
              "      <td>Dasvi</td>\n",
              "      <td>Tushar Jalota</td>\n",
              "      <td>Abhishek Bachchan,Yami Gautam,Nimrat Kaur</td>\n",
              "    </tr>\n",
              "    <tr>\n",
              "      <th>4</th>\n",
              "      <td>Hurdang</td>\n",
              "      <td>Nikhil Nagesh Bhat</td>\n",
              "      <td>Sunny Kaushal,Nushrratt Bharuccha,Vijay Varma</td>\n",
              "    </tr>\n",
              "    <tr>\n",
              "      <th>...</th>\n",
              "      <td>...</td>\n",
              "      <td>...</td>\n",
              "      <td>...</td>\n",
              "    </tr>\n",
              "    <tr>\n",
              "      <th>1244</th>\n",
              "      <td>Talaash: The Answer Lies Within</td>\n",
              "      <td>Reema Kagti</td>\n",
              "      <td>Aamir Khan, Rani Mukerji, Kareena Kapoor, Nawa...</td>\n",
              "    </tr>\n",
              "    <tr>\n",
              "      <th>1245</th>\n",
              "      <td>Khiladi 786</td>\n",
              "      <td>Ashish R Mohan</td>\n",
              "      <td>Akshay Kumar, Asin, Mithun Chakraborty, Raj Ba...</td>\n",
              "    </tr>\n",
              "    <tr>\n",
              "      <th>1246</th>\n",
              "      <td>The Last Act</td>\n",
              "      <td>12 directors</td>\n",
              "      <td>Saurabh Shukla[88]</td>\n",
              "    </tr>\n",
              "    <tr>\n",
              "      <th>1247</th>\n",
              "      <td>Cigarette Ki Tarah</td>\n",
              "      <td>Akashaditya Lama</td>\n",
              "      <td>Bhoop Yaduvanshi, Prashant Narayanan, Madhurim...</td>\n",
              "    </tr>\n",
              "    <tr>\n",
              "      <th>1248</th>\n",
              "      <td>Dabangg 2</td>\n",
              "      <td>Arbaaz Khan</td>\n",
              "      <td>Salman Khan, Sonakshi Sinha, Arbaaz Khan, Prak...</td>\n",
              "    </tr>\n",
              "  </tbody>\n",
              "</table>\n",
              "<p>1249 rows × 3 columns</p>\n",
              "</div>\n",
              "      <button class=\"colab-df-convert\" onclick=\"convertToInteractive('df-1f34ed4e-2a40-4b36-8941-5ab114675077')\"\n",
              "              title=\"Convert this dataframe to an interactive table.\"\n",
              "              style=\"display:none;\">\n",
              "        \n",
              "  <svg xmlns=\"http://www.w3.org/2000/svg\" height=\"24px\"viewBox=\"0 0 24 24\"\n",
              "       width=\"24px\">\n",
              "    <path d=\"M0 0h24v24H0V0z\" fill=\"none\"/>\n",
              "    <path d=\"M18.56 5.44l.94 2.06.94-2.06 2.06-.94-2.06-.94-.94-2.06-.94 2.06-2.06.94zm-11 1L8.5 8.5l.94-2.06 2.06-.94-2.06-.94L8.5 2.5l-.94 2.06-2.06.94zm10 10l.94 2.06.94-2.06 2.06-.94-2.06-.94-.94-2.06-.94 2.06-2.06.94z\"/><path d=\"M17.41 7.96l-1.37-1.37c-.4-.4-.92-.59-1.43-.59-.52 0-1.04.2-1.43.59L10.3 9.45l-7.72 7.72c-.78.78-.78 2.05 0 2.83L4 21.41c.39.39.9.59 1.41.59.51 0 1.02-.2 1.41-.59l7.78-7.78 2.81-2.81c.8-.78.8-2.07 0-2.86zM5.41 20L4 18.59l7.72-7.72 1.47 1.35L5.41 20z\"/>\n",
              "  </svg>\n",
              "      </button>\n",
              "      \n",
              "  <style>\n",
              "    .colab-df-container {\n",
              "      display:flex;\n",
              "      flex-wrap:wrap;\n",
              "      gap: 12px;\n",
              "    }\n",
              "\n",
              "    .colab-df-convert {\n",
              "      background-color: #E8F0FE;\n",
              "      border: none;\n",
              "      border-radius: 50%;\n",
              "      cursor: pointer;\n",
              "      display: none;\n",
              "      fill: #1967D2;\n",
              "      height: 32px;\n",
              "      padding: 0 0 0 0;\n",
              "      width: 32px;\n",
              "    }\n",
              "\n",
              "    .colab-df-convert:hover {\n",
              "      background-color: #E2EBFA;\n",
              "      box-shadow: 0px 1px 2px rgba(60, 64, 67, 0.3), 0px 1px 3px 1px rgba(60, 64, 67, 0.15);\n",
              "      fill: #174EA6;\n",
              "    }\n",
              "\n",
              "    [theme=dark] .colab-df-convert {\n",
              "      background-color: #3B4455;\n",
              "      fill: #D2E3FC;\n",
              "    }\n",
              "\n",
              "    [theme=dark] .colab-df-convert:hover {\n",
              "      background-color: #434B5C;\n",
              "      box-shadow: 0px 1px 3px 1px rgba(0, 0, 0, 0.15);\n",
              "      filter: drop-shadow(0px 1px 2px rgba(0, 0, 0, 0.3));\n",
              "      fill: #FFFFFF;\n",
              "    }\n",
              "  </style>\n",
              "\n",
              "      <script>\n",
              "        const buttonEl =\n",
              "          document.querySelector('#df-1f34ed4e-2a40-4b36-8941-5ab114675077 button.colab-df-convert');\n",
              "        buttonEl.style.display =\n",
              "          google.colab.kernel.accessAllowed ? 'block' : 'none';\n",
              "\n",
              "        async function convertToInteractive(key) {\n",
              "          const element = document.querySelector('#df-1f34ed4e-2a40-4b36-8941-5ab114675077');\n",
              "          const dataTable =\n",
              "            await google.colab.kernel.invokeFunction('convertToInteractive',\n",
              "                                                     [key], {});\n",
              "          if (!dataTable) return;\n",
              "\n",
              "          const docLinkHtml = 'Like what you see? Visit the ' +\n",
              "            '<a target=\"_blank\" href=https://colab.research.google.com/notebooks/data_table.ipynb>data table notebook</a>'\n",
              "            + ' to learn more about interactive tables.';\n",
              "          element.innerHTML = '';\n",
              "          dataTable['output_type'] = 'display_data';\n",
              "          await google.colab.output.renderOutput(dataTable, element);\n",
              "          const docLink = document.createElement('div');\n",
              "          docLink.innerHTML = docLinkHtml;\n",
              "          element.appendChild(docLink);\n",
              "        }\n",
              "      </script>\n",
              "    </div>\n",
              "  </div>\n",
              "  "
            ]
          },
          "metadata": {},
          "execution_count": 61
        }
      ]
    },
    {
      "cell_type": "code",
      "source": [
        "# checking null values\n",
        "final_df.isnull().sum()"
      ],
      "metadata": {
        "colab": {
          "base_uri": "https://localhost:8080/"
        },
        "id": "vmUFE0EAV-52",
        "outputId": "4c02589d-9ff9-48ad-d371-49ae3808f777"
      },
      "execution_count": null,
      "outputs": [
        {
          "output_type": "execute_result",
          "data": {
            "text/plain": [
              "Title       0\n",
              "Director    0\n",
              "Cast        0\n",
              "dtype: int64"
            ]
          },
          "metadata": {},
          "execution_count": 62
        }
      ]
    },
    {
      "cell_type": "code",
      "source": [
        "# checking if 2 or more movies have same name\n",
        "final_df['Title'].duplicated(keep=False).sum()"
      ],
      "metadata": {
        "colab": {
          "base_uri": "https://localhost:8080/"
        },
        "id": "a2QWydeOXu2v",
        "outputId": "64984ccd-2023-41f3-e7dd-d93dc8178d79"
      },
      "execution_count": null,
      "outputs": [
        {
          "output_type": "execute_result",
          "data": {
            "text/plain": [
              "4"
            ]
          },
          "metadata": {},
          "execution_count": 63
        }
      ]
    },
    {
      "cell_type": "code",
      "source": [
        "final_df[final_df['Title'].duplicated(keep=False)]"
      ],
      "metadata": {
        "colab": {
          "base_uri": "https://localhost:8080/",
          "height": 175
        },
        "id": "JockUgCqHjLG",
        "outputId": "87f74ad4-c8fa-491f-cb87-5ae951a13b53"
      },
      "execution_count": null,
      "outputs": [
        {
          "output_type": "execute_result",
          "data": {
            "text/plain": [
              "        Title            Director  \\\n",
              "389     Ghost        Vikram Bhatt   \n",
              "743   Wah Taj          Ajit Sinha   \n",
              "1007  Wah Taj          Ajit Sinha   \n",
              "1147    Ghost  Puja Jatinder Bedi   \n",
              "\n",
              "                                                   Cast  \n",
              "389                       Sanaya Irani,Shivam Bhaargava  \n",
              "743   Shreyas Talpade, Manjari Phadnis, Hemant Pande...  \n",
              "1007  Shreyas Talpade, Manjari Fadnis, Hemant Pandey...  \n",
              "1147  Shiney Ahuja, Sayali Bhagat, Deepraj Rana, Jul...  "
            ],
            "text/html": [
              "\n",
              "  <div id=\"df-67b51e02-9012-4346-8e4a-b4b03a35a919\">\n",
              "    <div class=\"colab-df-container\">\n",
              "      <div>\n",
              "<style scoped>\n",
              "    .dataframe tbody tr th:only-of-type {\n",
              "        vertical-align: middle;\n",
              "    }\n",
              "\n",
              "    .dataframe tbody tr th {\n",
              "        vertical-align: top;\n",
              "    }\n",
              "\n",
              "    .dataframe thead th {\n",
              "        text-align: right;\n",
              "    }\n",
              "</style>\n",
              "<table border=\"1\" class=\"dataframe\">\n",
              "  <thead>\n",
              "    <tr style=\"text-align: right;\">\n",
              "      <th></th>\n",
              "      <th>Title</th>\n",
              "      <th>Director</th>\n",
              "      <th>Cast</th>\n",
              "    </tr>\n",
              "  </thead>\n",
              "  <tbody>\n",
              "    <tr>\n",
              "      <th>389</th>\n",
              "      <td>Ghost</td>\n",
              "      <td>Vikram Bhatt</td>\n",
              "      <td>Sanaya Irani,Shivam Bhaargava</td>\n",
              "    </tr>\n",
              "    <tr>\n",
              "      <th>743</th>\n",
              "      <td>Wah Taj</td>\n",
              "      <td>Ajit Sinha</td>\n",
              "      <td>Shreyas Talpade, Manjari Phadnis, Hemant Pande...</td>\n",
              "    </tr>\n",
              "    <tr>\n",
              "      <th>1007</th>\n",
              "      <td>Wah Taj</td>\n",
              "      <td>Ajit Sinha</td>\n",
              "      <td>Shreyas Talpade, Manjari Fadnis, Hemant Pandey...</td>\n",
              "    </tr>\n",
              "    <tr>\n",
              "      <th>1147</th>\n",
              "      <td>Ghost</td>\n",
              "      <td>Puja Jatinder Bedi</td>\n",
              "      <td>Shiney Ahuja, Sayali Bhagat, Deepraj Rana, Jul...</td>\n",
              "    </tr>\n",
              "  </tbody>\n",
              "</table>\n",
              "</div>\n",
              "      <button class=\"colab-df-convert\" onclick=\"convertToInteractive('df-67b51e02-9012-4346-8e4a-b4b03a35a919')\"\n",
              "              title=\"Convert this dataframe to an interactive table.\"\n",
              "              style=\"display:none;\">\n",
              "        \n",
              "  <svg xmlns=\"http://www.w3.org/2000/svg\" height=\"24px\"viewBox=\"0 0 24 24\"\n",
              "       width=\"24px\">\n",
              "    <path d=\"M0 0h24v24H0V0z\" fill=\"none\"/>\n",
              "    <path d=\"M18.56 5.44l.94 2.06.94-2.06 2.06-.94-2.06-.94-.94-2.06-.94 2.06-2.06.94zm-11 1L8.5 8.5l.94-2.06 2.06-.94-2.06-.94L8.5 2.5l-.94 2.06-2.06.94zm10 10l.94 2.06.94-2.06 2.06-.94-2.06-.94-.94-2.06-.94 2.06-2.06.94z\"/><path d=\"M17.41 7.96l-1.37-1.37c-.4-.4-.92-.59-1.43-.59-.52 0-1.04.2-1.43.59L10.3 9.45l-7.72 7.72c-.78.78-.78 2.05 0 2.83L4 21.41c.39.39.9.59 1.41.59.51 0 1.02-.2 1.41-.59l7.78-7.78 2.81-2.81c.8-.78.8-2.07 0-2.86zM5.41 20L4 18.59l7.72-7.72 1.47 1.35L5.41 20z\"/>\n",
              "  </svg>\n",
              "      </button>\n",
              "      \n",
              "  <style>\n",
              "    .colab-df-container {\n",
              "      display:flex;\n",
              "      flex-wrap:wrap;\n",
              "      gap: 12px;\n",
              "    }\n",
              "\n",
              "    .colab-df-convert {\n",
              "      background-color: #E8F0FE;\n",
              "      border: none;\n",
              "      border-radius: 50%;\n",
              "      cursor: pointer;\n",
              "      display: none;\n",
              "      fill: #1967D2;\n",
              "      height: 32px;\n",
              "      padding: 0 0 0 0;\n",
              "      width: 32px;\n",
              "    }\n",
              "\n",
              "    .colab-df-convert:hover {\n",
              "      background-color: #E2EBFA;\n",
              "      box-shadow: 0px 1px 2px rgba(60, 64, 67, 0.3), 0px 1px 3px 1px rgba(60, 64, 67, 0.15);\n",
              "      fill: #174EA6;\n",
              "    }\n",
              "\n",
              "    [theme=dark] .colab-df-convert {\n",
              "      background-color: #3B4455;\n",
              "      fill: #D2E3FC;\n",
              "    }\n",
              "\n",
              "    [theme=dark] .colab-df-convert:hover {\n",
              "      background-color: #434B5C;\n",
              "      box-shadow: 0px 1px 3px 1px rgba(0, 0, 0, 0.15);\n",
              "      filter: drop-shadow(0px 1px 2px rgba(0, 0, 0, 0.3));\n",
              "      fill: #FFFFFF;\n",
              "    }\n",
              "  </style>\n",
              "\n",
              "      <script>\n",
              "        const buttonEl =\n",
              "          document.querySelector('#df-67b51e02-9012-4346-8e4a-b4b03a35a919 button.colab-df-convert');\n",
              "        buttonEl.style.display =\n",
              "          google.colab.kernel.accessAllowed ? 'block' : 'none';\n",
              "\n",
              "        async function convertToInteractive(key) {\n",
              "          const element = document.querySelector('#df-67b51e02-9012-4346-8e4a-b4b03a35a919');\n",
              "          const dataTable =\n",
              "            await google.colab.kernel.invokeFunction('convertToInteractive',\n",
              "                                                     [key], {});\n",
              "          if (!dataTable) return;\n",
              "\n",
              "          const docLinkHtml = 'Like what you see? Visit the ' +\n",
              "            '<a target=\"_blank\" href=https://colab.research.google.com/notebooks/data_table.ipynb>data table notebook</a>'\n",
              "            + ' to learn more about interactive tables.';\n",
              "          element.innerHTML = '';\n",
              "          dataTable['output_type'] = 'display_data';\n",
              "          await google.colab.output.renderOutput(dataTable, element);\n",
              "          const docLink = document.createElement('div');\n",
              "          docLink.innerHTML = docLinkHtml;\n",
              "          element.appendChild(docLink);\n",
              "        }\n",
              "      </script>\n",
              "    </div>\n",
              "  </div>\n",
              "  "
            ]
          },
          "metadata": {},
          "execution_count": 34
        }
      ]
    },
    {
      "cell_type": "code",
      "source": [
        "# removing movies with same name...to avoid amiguity at time of data fetching\n",
        "final_df = final_df.drop_duplicates(keep=False,subset=['Title']).reset_index(drop=True)"
      ],
      "metadata": {
        "id": "Yz8OFtpZYlfe"
      },
      "execution_count": null,
      "outputs": []
    },
    {
      "cell_type": "code",
      "source": [
        "final_df.shape"
      ],
      "metadata": {
        "colab": {
          "base_uri": "https://localhost:8080/"
        },
        "id": "bqqBW_7zZOhg",
        "outputId": "74e0527b-e1d8-4355-d4e3-8004d6953791"
      },
      "execution_count": null,
      "outputs": [
        {
          "output_type": "execute_result",
          "data": {
            "text/plain": [
              "(1245, 3)"
            ]
          },
          "metadata": {},
          "execution_count": 65
        }
      ]
    },
    {
      "cell_type": "code",
      "source": [
        "!pip install tmdbv3api\n",
        "# install tmdb3api before using it"
      ],
      "metadata": {
        "id": "SKpWH1wMCnmE",
        "colab": {
          "base_uri": "https://localhost:8080/"
        },
        "outputId": "f8ba754b-33ac-40b3-e046-80d5669e59be"
      },
      "execution_count": null,
      "outputs": [
        {
          "output_type": "stream",
          "name": "stdout",
          "text": [
            "Looking in indexes: https://pypi.org/simple, https://us-python.pkg.dev/colab-wheels/public/simple/\n",
            "Collecting tmdbv3api\n",
            "  Downloading tmdbv3api-1.7.7-py2.py3-none-any.whl (18 kB)\n",
            "Requirement already satisfied: requests in /usr/local/lib/python3.10/dist-packages (from tmdbv3api) (2.27.1)\n",
            "Requirement already satisfied: urllib3<1.27,>=1.21.1 in /usr/local/lib/python3.10/dist-packages (from requests->tmdbv3api) (1.26.16)\n",
            "Requirement already satisfied: certifi>=2017.4.17 in /usr/local/lib/python3.10/dist-packages (from requests->tmdbv3api) (2023.5.7)\n",
            "Requirement already satisfied: charset-normalizer~=2.0.0 in /usr/local/lib/python3.10/dist-packages (from requests->tmdbv3api) (2.0.12)\n",
            "Requirement already satisfied: idna<4,>=2.5 in /usr/local/lib/python3.10/dist-packages (from requests->tmdbv3api) (3.4)\n",
            "Installing collected packages: tmdbv3api\n",
            "Successfully installed tmdbv3api-1.7.7\n"
          ]
        }
      ]
    },
    {
      "cell_type": "code",
      "source": [
        "# Fetching TMDB ID of movie with it's name\n",
        "from tmdbv3api import TMDb\n",
        "tmdb = TMDb()\n",
        "tmdb.api_key = api_key\n",
        "from tmdbv3api import Movie\n",
        "movie_details = Movie()"
      ],
      "metadata": {
        "id": "r3m3ffSQknM_"
      },
      "execution_count": null,
      "outputs": []
    },
    {
      "cell_type": "code",
      "source": [
        "# function to fetch TMDB ID\n",
        "\n",
        "def get_movie_id(movie_name):\n",
        "    # if there exists a movie with the specified name in TMDB , if not return -1\n",
        "    if(movie_details.search(movie_name)):\n",
        "        # traversing through all results\n",
        "        for i in movie_details.search(movie_name):\n",
        "            # fetching 'id' of bollywood movie only in case of name ambiguity\n",
        "            if(i['original_language']=='hi'):\n",
        "                return i['id']\n",
        "    else:\n",
        "      return -1"
      ],
      "metadata": {
        "id": "BnvPOabKCnoM"
      },
      "execution_count": null,
      "outputs": []
    },
    {
      "cell_type": "code",
      "source": [
        "from tqdm import tqdm\n",
        "tqdm.pandas()\n",
        "final_df['id'] = final_df['Title'].progress_apply(get_movie_id)"
      ],
      "metadata": {
        "colab": {
          "base_uri": "https://localhost:8080/"
        },
        "id": "T_XGnnzSCnqt",
        "outputId": "f8b4db18-c09a-49cc-f55d-9c40025ef1ae"
      },
      "execution_count": null,
      "outputs": [
        {
          "output_type": "stream",
          "name": "stderr",
          "text": [
            "100%|██████████| 1245/1245 [02:15<00:00,  9.21it/s]\n"
          ]
        }
      ]
    },
    {
      "cell_type": "code",
      "source": [
        "final_df"
      ],
      "metadata": {
        "id": "oXxi3iARCntA",
        "colab": {
          "base_uri": "https://localhost:8080/",
          "height": 423
        },
        "outputId": "bbc8c483-fb11-4c7e-efda-faaee48a4b01"
      },
      "execution_count": null,
      "outputs": [
        {
          "output_type": "execute_result",
          "data": {
            "text/plain": [
              "                                Title            Director  \\\n",
              "0                      Attack: Part 1   Lakshya Raj Anand   \n",
              "1                  Kaun Pravin Tambe?       Jayprad Desai   \n",
              "2                         Cobalt Blue    Sachin Kundalkar   \n",
              "3                               Dasvi       Tushar Jalota   \n",
              "4                             Hurdang  Nikhil Nagesh Bhat   \n",
              "...                               ...                 ...   \n",
              "1240  Talaash: The Answer Lies Within         Reema Kagti   \n",
              "1241                      Khiladi 786      Ashish R Mohan   \n",
              "1242                     The Last Act        12 directors   \n",
              "1243               Cigarette Ki Tarah    Akashaditya Lama   \n",
              "1244                        Dabangg 2         Arbaaz Khan   \n",
              "\n",
              "                                                   Cast        id  \n",
              "0         John Abraham,Jacqueline Fernandez,Rakul Preet  799155.0  \n",
              "1                                       Shreyas Talpade  946652.0  \n",
              "2     Prateik Babbar,Neelay Mehendale,Anjali Sivaram...  897097.0  \n",
              "3             Abhishek Bachchan,Yami Gautam,Nimrat Kaur  799713.0  \n",
              "4         Sunny Kaushal,Nushrratt Bharuccha,Vijay Varma  809309.0  \n",
              "...                                                 ...       ...  \n",
              "1240  Aamir Khan, Rani Mukerji, Kareena Kapoor, Nawa...   86004.0  \n",
              "1241  Akshay Kumar, Asin, Mithun Chakraborty, Raj Ba...  147767.0  \n",
              "1242                                 Saurabh Shukla[88]       NaN  \n",
              "1243  Bhoop Yaduvanshi, Prashant Narayanan, Madhurim...  147358.0  \n",
              "1244  Salman Khan, Sonakshi Sinha, Arbaaz Khan, Prak...  147405.0  \n",
              "\n",
              "[1245 rows x 4 columns]"
            ],
            "text/html": [
              "\n",
              "  <div id=\"df-353aeb3e-cd00-433a-87e6-357263517a01\">\n",
              "    <div class=\"colab-df-container\">\n",
              "      <div>\n",
              "<style scoped>\n",
              "    .dataframe tbody tr th:only-of-type {\n",
              "        vertical-align: middle;\n",
              "    }\n",
              "\n",
              "    .dataframe tbody tr th {\n",
              "        vertical-align: top;\n",
              "    }\n",
              "\n",
              "    .dataframe thead th {\n",
              "        text-align: right;\n",
              "    }\n",
              "</style>\n",
              "<table border=\"1\" class=\"dataframe\">\n",
              "  <thead>\n",
              "    <tr style=\"text-align: right;\">\n",
              "      <th></th>\n",
              "      <th>Title</th>\n",
              "      <th>Director</th>\n",
              "      <th>Cast</th>\n",
              "      <th>id</th>\n",
              "    </tr>\n",
              "  </thead>\n",
              "  <tbody>\n",
              "    <tr>\n",
              "      <th>0</th>\n",
              "      <td>Attack: Part 1</td>\n",
              "      <td>Lakshya Raj Anand</td>\n",
              "      <td>John Abraham,Jacqueline Fernandez,Rakul Preet</td>\n",
              "      <td>799155.0</td>\n",
              "    </tr>\n",
              "    <tr>\n",
              "      <th>1</th>\n",
              "      <td>Kaun Pravin Tambe?</td>\n",
              "      <td>Jayprad Desai</td>\n",
              "      <td>Shreyas Talpade</td>\n",
              "      <td>946652.0</td>\n",
              "    </tr>\n",
              "    <tr>\n",
              "      <th>2</th>\n",
              "      <td>Cobalt Blue</td>\n",
              "      <td>Sachin Kundalkar</td>\n",
              "      <td>Prateik Babbar,Neelay Mehendale,Anjali Sivaram...</td>\n",
              "      <td>897097.0</td>\n",
              "    </tr>\n",
              "    <tr>\n",
              "      <th>3</th>\n",
              "      <td>Dasvi</td>\n",
              "      <td>Tushar Jalota</td>\n",
              "      <td>Abhishek Bachchan,Yami Gautam,Nimrat Kaur</td>\n",
              "      <td>799713.0</td>\n",
              "    </tr>\n",
              "    <tr>\n",
              "      <th>4</th>\n",
              "      <td>Hurdang</td>\n",
              "      <td>Nikhil Nagesh Bhat</td>\n",
              "      <td>Sunny Kaushal,Nushrratt Bharuccha,Vijay Varma</td>\n",
              "      <td>809309.0</td>\n",
              "    </tr>\n",
              "    <tr>\n",
              "      <th>...</th>\n",
              "      <td>...</td>\n",
              "      <td>...</td>\n",
              "      <td>...</td>\n",
              "      <td>...</td>\n",
              "    </tr>\n",
              "    <tr>\n",
              "      <th>1240</th>\n",
              "      <td>Talaash: The Answer Lies Within</td>\n",
              "      <td>Reema Kagti</td>\n",
              "      <td>Aamir Khan, Rani Mukerji, Kareena Kapoor, Nawa...</td>\n",
              "      <td>86004.0</td>\n",
              "    </tr>\n",
              "    <tr>\n",
              "      <th>1241</th>\n",
              "      <td>Khiladi 786</td>\n",
              "      <td>Ashish R Mohan</td>\n",
              "      <td>Akshay Kumar, Asin, Mithun Chakraborty, Raj Ba...</td>\n",
              "      <td>147767.0</td>\n",
              "    </tr>\n",
              "    <tr>\n",
              "      <th>1242</th>\n",
              "      <td>The Last Act</td>\n",
              "      <td>12 directors</td>\n",
              "      <td>Saurabh Shukla[88]</td>\n",
              "      <td>NaN</td>\n",
              "    </tr>\n",
              "    <tr>\n",
              "      <th>1243</th>\n",
              "      <td>Cigarette Ki Tarah</td>\n",
              "      <td>Akashaditya Lama</td>\n",
              "      <td>Bhoop Yaduvanshi, Prashant Narayanan, Madhurim...</td>\n",
              "      <td>147358.0</td>\n",
              "    </tr>\n",
              "    <tr>\n",
              "      <th>1244</th>\n",
              "      <td>Dabangg 2</td>\n",
              "      <td>Arbaaz Khan</td>\n",
              "      <td>Salman Khan, Sonakshi Sinha, Arbaaz Khan, Prak...</td>\n",
              "      <td>147405.0</td>\n",
              "    </tr>\n",
              "  </tbody>\n",
              "</table>\n",
              "<p>1245 rows × 4 columns</p>\n",
              "</div>\n",
              "      <button class=\"colab-df-convert\" onclick=\"convertToInteractive('df-353aeb3e-cd00-433a-87e6-357263517a01')\"\n",
              "              title=\"Convert this dataframe to an interactive table.\"\n",
              "              style=\"display:none;\">\n",
              "        \n",
              "  <svg xmlns=\"http://www.w3.org/2000/svg\" height=\"24px\"viewBox=\"0 0 24 24\"\n",
              "       width=\"24px\">\n",
              "    <path d=\"M0 0h24v24H0V0z\" fill=\"none\"/>\n",
              "    <path d=\"M18.56 5.44l.94 2.06.94-2.06 2.06-.94-2.06-.94-.94-2.06-.94 2.06-2.06.94zm-11 1L8.5 8.5l.94-2.06 2.06-.94-2.06-.94L8.5 2.5l-.94 2.06-2.06.94zm10 10l.94 2.06.94-2.06 2.06-.94-2.06-.94-.94-2.06-.94 2.06-2.06.94z\"/><path d=\"M17.41 7.96l-1.37-1.37c-.4-.4-.92-.59-1.43-.59-.52 0-1.04.2-1.43.59L10.3 9.45l-7.72 7.72c-.78.78-.78 2.05 0 2.83L4 21.41c.39.39.9.59 1.41.59.51 0 1.02-.2 1.41-.59l7.78-7.78 2.81-2.81c.8-.78.8-2.07 0-2.86zM5.41 20L4 18.59l7.72-7.72 1.47 1.35L5.41 20z\"/>\n",
              "  </svg>\n",
              "      </button>\n",
              "      \n",
              "  <style>\n",
              "    .colab-df-container {\n",
              "      display:flex;\n",
              "      flex-wrap:wrap;\n",
              "      gap: 12px;\n",
              "    }\n",
              "\n",
              "    .colab-df-convert {\n",
              "      background-color: #E8F0FE;\n",
              "      border: none;\n",
              "      border-radius: 50%;\n",
              "      cursor: pointer;\n",
              "      display: none;\n",
              "      fill: #1967D2;\n",
              "      height: 32px;\n",
              "      padding: 0 0 0 0;\n",
              "      width: 32px;\n",
              "    }\n",
              "\n",
              "    .colab-df-convert:hover {\n",
              "      background-color: #E2EBFA;\n",
              "      box-shadow: 0px 1px 2px rgba(60, 64, 67, 0.3), 0px 1px 3px 1px rgba(60, 64, 67, 0.15);\n",
              "      fill: #174EA6;\n",
              "    }\n",
              "\n",
              "    [theme=dark] .colab-df-convert {\n",
              "      background-color: #3B4455;\n",
              "      fill: #D2E3FC;\n",
              "    }\n",
              "\n",
              "    [theme=dark] .colab-df-convert:hover {\n",
              "      background-color: #434B5C;\n",
              "      box-shadow: 0px 1px 3px 1px rgba(0, 0, 0, 0.15);\n",
              "      filter: drop-shadow(0px 1px 2px rgba(0, 0, 0, 0.3));\n",
              "      fill: #FFFFFF;\n",
              "    }\n",
              "  </style>\n",
              "\n",
              "      <script>\n",
              "        const buttonEl =\n",
              "          document.querySelector('#df-353aeb3e-cd00-433a-87e6-357263517a01 button.colab-df-convert');\n",
              "        buttonEl.style.display =\n",
              "          google.colab.kernel.accessAllowed ? 'block' : 'none';\n",
              "\n",
              "        async function convertToInteractive(key) {\n",
              "          const element = document.querySelector('#df-353aeb3e-cd00-433a-87e6-357263517a01');\n",
              "          const dataTable =\n",
              "            await google.colab.kernel.invokeFunction('convertToInteractive',\n",
              "                                                     [key], {});\n",
              "          if (!dataTable) return;\n",
              "\n",
              "          const docLinkHtml = 'Like what you see? Visit the ' +\n",
              "            '<a target=\"_blank\" href=https://colab.research.google.com/notebooks/data_table.ipynb>data table notebook</a>'\n",
              "            + ' to learn more about interactive tables.';\n",
              "          element.innerHTML = '';\n",
              "          dataTable['output_type'] = 'display_data';\n",
              "          await google.colab.output.renderOutput(dataTable, element);\n",
              "          const docLink = document.createElement('div');\n",
              "          docLink.innerHTML = docLinkHtml;\n",
              "          element.appendChild(docLink);\n",
              "        }\n",
              "      </script>\n",
              "    </div>\n",
              "  </div>\n",
              "  "
            ]
          },
          "metadata": {},
          "execution_count": 69
        }
      ]
    },
    {
      "cell_type": "code",
      "source": [
        "# checking no. of movies/rows with TMDB ID = -1\n",
        "# i.e. movies with no. TMDB ID\n",
        "len(final_df[final_df['id']==-1])"
      ],
      "metadata": {
        "colab": {
          "base_uri": "https://localhost:8080/"
        },
        "id": "gJUrTmIFCnwE",
        "outputId": "24339eac-5afa-41a9-bc58-8fd44f2dbaca"
      },
      "execution_count": null,
      "outputs": [
        {
          "output_type": "execute_result",
          "data": {
            "text/plain": [
              "61"
            ]
          },
          "metadata": {},
          "execution_count": 70
        }
      ]
    },
    {
      "cell_type": "code",
      "source": [
        "# Removing the rows that contain -1 as their Movie_Id\n",
        "final_df = final_df[final_df['id']!=-1].reset_index(drop=True)\n",
        "\n",
        "# why we have apply reset_index() ?\n",
        "# Because when we apply boolean indexing , indexes of the rows are not change they remain as it is...that's why we have used reset_index() function."
      ],
      "metadata": {
        "id": "2y7pke-bCn0r"
      },
      "execution_count": null,
      "outputs": []
    },
    {
      "cell_type": "code",
      "source": [
        "final_df.shape"
      ],
      "metadata": {
        "colab": {
          "base_uri": "https://localhost:8080/"
        },
        "id": "AH0jAbLMGCer",
        "outputId": "a50ab39d-100b-4636-98ed-37dfb6e0315a"
      },
      "execution_count": null,
      "outputs": [
        {
          "output_type": "execute_result",
          "data": {
            "text/plain": [
              "(1184, 4)"
            ]
          },
          "metadata": {},
          "execution_count": 72
        }
      ]
    },
    {
      "cell_type": "code",
      "source": [
        "# checking movies with same TMDB ID\n",
        "final_df['id'].duplicated(keep=False).sum()"
      ],
      "metadata": {
        "id": "XiqDQvq4SCyb",
        "colab": {
          "base_uri": "https://localhost:8080/"
        },
        "outputId": "e0d40d25-4082-4207-9ae9-e530a583da14"
      },
      "execution_count": null,
      "outputs": [
        {
          "output_type": "execute_result",
          "data": {
            "text/plain": [
              "136"
            ]
          },
          "metadata": {},
          "execution_count": 73
        }
      ]
    },
    {
      "cell_type": "code",
      "source": [
        "# removing movies with same TMDB ID\n",
        "final_df = final_df.drop_duplicates(keep=False,subset=['id']).reset_index(drop=True)"
      ],
      "metadata": {
        "id": "uLLo2GUFo_jd"
      },
      "execution_count": null,
      "outputs": []
    },
    {
      "cell_type": "code",
      "source": [
        "final_df.shape"
      ],
      "metadata": {
        "colab": {
          "base_uri": "https://localhost:8080/"
        },
        "id": "i6ssZ-BaHcLB",
        "outputId": "fe51ab21-2b5b-443e-fc22-83d7ec85bea5"
      },
      "execution_count": null,
      "outputs": [
        {
          "output_type": "execute_result",
          "data": {
            "text/plain": [
              "(1048, 4)"
            ]
          },
          "metadata": {},
          "execution_count": 75
        }
      ]
    },
    {
      "cell_type": "code",
      "source": [
        "final_df"
      ],
      "metadata": {
        "id": "0tOQ8uqBS5uX",
        "colab": {
          "base_uri": "https://localhost:8080/",
          "height": 423
        },
        "outputId": "0f59cda1-8388-4ee0-83b5-c9821348fc2a"
      },
      "execution_count": null,
      "outputs": [
        {
          "output_type": "execute_result",
          "data": {
            "text/plain": [
              "                                Title            Director  \\\n",
              "0                      Attack: Part 1   Lakshya Raj Anand   \n",
              "1                  Kaun Pravin Tambe?       Jayprad Desai   \n",
              "2                         Cobalt Blue    Sachin Kundalkar   \n",
              "3                               Dasvi       Tushar Jalota   \n",
              "4                             Hurdang  Nikhil Nagesh Bhat   \n",
              "...                               ...                 ...   \n",
              "1043                   Son Of Sardaar         Ashwni Dhir   \n",
              "1044  Talaash: The Answer Lies Within         Reema Kagti   \n",
              "1045                      Khiladi 786      Ashish R Mohan   \n",
              "1046               Cigarette Ki Tarah    Akashaditya Lama   \n",
              "1047                        Dabangg 2         Arbaaz Khan   \n",
              "\n",
              "                                                   Cast        id  \n",
              "0         John Abraham,Jacqueline Fernandez,Rakul Preet  799155.0  \n",
              "1                                       Shreyas Talpade  946652.0  \n",
              "2     Prateik Babbar,Neelay Mehendale,Anjali Sivaram...  897097.0  \n",
              "3             Abhishek Bachchan,Yami Gautam,Nimrat Kaur  799713.0  \n",
              "4         Sunny Kaushal,Nushrratt Bharuccha,Vijay Varma  809309.0  \n",
              "...                                                 ...       ...  \n",
              "1043  Ajay Devgn, Sanjay Dutt, Juhi Chawla, Sonakshi...  140896.0  \n",
              "1044  Aamir Khan, Rani Mukerji, Kareena Kapoor, Nawa...   86004.0  \n",
              "1045  Akshay Kumar, Asin, Mithun Chakraborty, Raj Ba...  147767.0  \n",
              "1046  Bhoop Yaduvanshi, Prashant Narayanan, Madhurim...  147358.0  \n",
              "1047  Salman Khan, Sonakshi Sinha, Arbaaz Khan, Prak...  147405.0  \n",
              "\n",
              "[1048 rows x 4 columns]"
            ],
            "text/html": [
              "\n",
              "  <div id=\"df-a7e4210f-cdee-4fd0-8ca3-44f43e9f8106\">\n",
              "    <div class=\"colab-df-container\">\n",
              "      <div>\n",
              "<style scoped>\n",
              "    .dataframe tbody tr th:only-of-type {\n",
              "        vertical-align: middle;\n",
              "    }\n",
              "\n",
              "    .dataframe tbody tr th {\n",
              "        vertical-align: top;\n",
              "    }\n",
              "\n",
              "    .dataframe thead th {\n",
              "        text-align: right;\n",
              "    }\n",
              "</style>\n",
              "<table border=\"1\" class=\"dataframe\">\n",
              "  <thead>\n",
              "    <tr style=\"text-align: right;\">\n",
              "      <th></th>\n",
              "      <th>Title</th>\n",
              "      <th>Director</th>\n",
              "      <th>Cast</th>\n",
              "      <th>id</th>\n",
              "    </tr>\n",
              "  </thead>\n",
              "  <tbody>\n",
              "    <tr>\n",
              "      <th>0</th>\n",
              "      <td>Attack: Part 1</td>\n",
              "      <td>Lakshya Raj Anand</td>\n",
              "      <td>John Abraham,Jacqueline Fernandez,Rakul Preet</td>\n",
              "      <td>799155.0</td>\n",
              "    </tr>\n",
              "    <tr>\n",
              "      <th>1</th>\n",
              "      <td>Kaun Pravin Tambe?</td>\n",
              "      <td>Jayprad Desai</td>\n",
              "      <td>Shreyas Talpade</td>\n",
              "      <td>946652.0</td>\n",
              "    </tr>\n",
              "    <tr>\n",
              "      <th>2</th>\n",
              "      <td>Cobalt Blue</td>\n",
              "      <td>Sachin Kundalkar</td>\n",
              "      <td>Prateik Babbar,Neelay Mehendale,Anjali Sivaram...</td>\n",
              "      <td>897097.0</td>\n",
              "    </tr>\n",
              "    <tr>\n",
              "      <th>3</th>\n",
              "      <td>Dasvi</td>\n",
              "      <td>Tushar Jalota</td>\n",
              "      <td>Abhishek Bachchan,Yami Gautam,Nimrat Kaur</td>\n",
              "      <td>799713.0</td>\n",
              "    </tr>\n",
              "    <tr>\n",
              "      <th>4</th>\n",
              "      <td>Hurdang</td>\n",
              "      <td>Nikhil Nagesh Bhat</td>\n",
              "      <td>Sunny Kaushal,Nushrratt Bharuccha,Vijay Varma</td>\n",
              "      <td>809309.0</td>\n",
              "    </tr>\n",
              "    <tr>\n",
              "      <th>...</th>\n",
              "      <td>...</td>\n",
              "      <td>...</td>\n",
              "      <td>...</td>\n",
              "      <td>...</td>\n",
              "    </tr>\n",
              "    <tr>\n",
              "      <th>1043</th>\n",
              "      <td>Son Of Sardaar</td>\n",
              "      <td>Ashwni Dhir</td>\n",
              "      <td>Ajay Devgn, Sanjay Dutt, Juhi Chawla, Sonakshi...</td>\n",
              "      <td>140896.0</td>\n",
              "    </tr>\n",
              "    <tr>\n",
              "      <th>1044</th>\n",
              "      <td>Talaash: The Answer Lies Within</td>\n",
              "      <td>Reema Kagti</td>\n",
              "      <td>Aamir Khan, Rani Mukerji, Kareena Kapoor, Nawa...</td>\n",
              "      <td>86004.0</td>\n",
              "    </tr>\n",
              "    <tr>\n",
              "      <th>1045</th>\n",
              "      <td>Khiladi 786</td>\n",
              "      <td>Ashish R Mohan</td>\n",
              "      <td>Akshay Kumar, Asin, Mithun Chakraborty, Raj Ba...</td>\n",
              "      <td>147767.0</td>\n",
              "    </tr>\n",
              "    <tr>\n",
              "      <th>1046</th>\n",
              "      <td>Cigarette Ki Tarah</td>\n",
              "      <td>Akashaditya Lama</td>\n",
              "      <td>Bhoop Yaduvanshi, Prashant Narayanan, Madhurim...</td>\n",
              "      <td>147358.0</td>\n",
              "    </tr>\n",
              "    <tr>\n",
              "      <th>1047</th>\n",
              "      <td>Dabangg 2</td>\n",
              "      <td>Arbaaz Khan</td>\n",
              "      <td>Salman Khan, Sonakshi Sinha, Arbaaz Khan, Prak...</td>\n",
              "      <td>147405.0</td>\n",
              "    </tr>\n",
              "  </tbody>\n",
              "</table>\n",
              "<p>1048 rows × 4 columns</p>\n",
              "</div>\n",
              "      <button class=\"colab-df-convert\" onclick=\"convertToInteractive('df-a7e4210f-cdee-4fd0-8ca3-44f43e9f8106')\"\n",
              "              title=\"Convert this dataframe to an interactive table.\"\n",
              "              style=\"display:none;\">\n",
              "        \n",
              "  <svg xmlns=\"http://www.w3.org/2000/svg\" height=\"24px\"viewBox=\"0 0 24 24\"\n",
              "       width=\"24px\">\n",
              "    <path d=\"M0 0h24v24H0V0z\" fill=\"none\"/>\n",
              "    <path d=\"M18.56 5.44l.94 2.06.94-2.06 2.06-.94-2.06-.94-.94-2.06-.94 2.06-2.06.94zm-11 1L8.5 8.5l.94-2.06 2.06-.94-2.06-.94L8.5 2.5l-.94 2.06-2.06.94zm10 10l.94 2.06.94-2.06 2.06-.94-2.06-.94-.94-2.06-.94 2.06-2.06.94z\"/><path d=\"M17.41 7.96l-1.37-1.37c-.4-.4-.92-.59-1.43-.59-.52 0-1.04.2-1.43.59L10.3 9.45l-7.72 7.72c-.78.78-.78 2.05 0 2.83L4 21.41c.39.39.9.59 1.41.59.51 0 1.02-.2 1.41-.59l7.78-7.78 2.81-2.81c.8-.78.8-2.07 0-2.86zM5.41 20L4 18.59l7.72-7.72 1.47 1.35L5.41 20z\"/>\n",
              "  </svg>\n",
              "      </button>\n",
              "      \n",
              "  <style>\n",
              "    .colab-df-container {\n",
              "      display:flex;\n",
              "      flex-wrap:wrap;\n",
              "      gap: 12px;\n",
              "    }\n",
              "\n",
              "    .colab-df-convert {\n",
              "      background-color: #E8F0FE;\n",
              "      border: none;\n",
              "      border-radius: 50%;\n",
              "      cursor: pointer;\n",
              "      display: none;\n",
              "      fill: #1967D2;\n",
              "      height: 32px;\n",
              "      padding: 0 0 0 0;\n",
              "      width: 32px;\n",
              "    }\n",
              "\n",
              "    .colab-df-convert:hover {\n",
              "      background-color: #E2EBFA;\n",
              "      box-shadow: 0px 1px 2px rgba(60, 64, 67, 0.3), 0px 1px 3px 1px rgba(60, 64, 67, 0.15);\n",
              "      fill: #174EA6;\n",
              "    }\n",
              "\n",
              "    [theme=dark] .colab-df-convert {\n",
              "      background-color: #3B4455;\n",
              "      fill: #D2E3FC;\n",
              "    }\n",
              "\n",
              "    [theme=dark] .colab-df-convert:hover {\n",
              "      background-color: #434B5C;\n",
              "      box-shadow: 0px 1px 3px 1px rgba(0, 0, 0, 0.15);\n",
              "      filter: drop-shadow(0px 1px 2px rgba(0, 0, 0, 0.3));\n",
              "      fill: #FFFFFF;\n",
              "    }\n",
              "  </style>\n",
              "\n",
              "      <script>\n",
              "        const buttonEl =\n",
              "          document.querySelector('#df-a7e4210f-cdee-4fd0-8ca3-44f43e9f8106 button.colab-df-convert');\n",
              "        buttonEl.style.display =\n",
              "          google.colab.kernel.accessAllowed ? 'block' : 'none';\n",
              "\n",
              "        async function convertToInteractive(key) {\n",
              "          const element = document.querySelector('#df-a7e4210f-cdee-4fd0-8ca3-44f43e9f8106');\n",
              "          const dataTable =\n",
              "            await google.colab.kernel.invokeFunction('convertToInteractive',\n",
              "                                                     [key], {});\n",
              "          if (!dataTable) return;\n",
              "\n",
              "          const docLinkHtml = 'Like what you see? Visit the ' +\n",
              "            '<a target=\"_blank\" href=https://colab.research.google.com/notebooks/data_table.ipynb>data table notebook</a>'\n",
              "            + ' to learn more about interactive tables.';\n",
              "          element.innerHTML = '';\n",
              "          dataTable['output_type'] = 'display_data';\n",
              "          await google.colab.output.renderOutput(dataTable, element);\n",
              "          const docLink = document.createElement('div');\n",
              "          docLink.innerHTML = docLinkHtml;\n",
              "          element.appendChild(docLink);\n",
              "        }\n",
              "      </script>\n",
              "    </div>\n",
              "  </div>\n",
              "  "
            ]
          },
          "metadata": {},
          "execution_count": 49
        }
      ]
    },
    {
      "cell_type": "markdown",
      "source": [
        "#  Get details of movie with movie id\n"
      ],
      "metadata": {
        "id": "uR5OgPseKntn"
      }
    },
    {
      "cell_type": "code",
      "source": [
        "def get_other_details(movie_id):\n",
        "    response = requests.get('https://api.themoviedb.org/3/movie/{}?api_key={}&language=en-US'.format(movie_id,api_key)).json()\n",
        "    res_df = pd.json_normalize(response)\n",
        "    return res_df"
      ],
      "metadata": {
        "id": "8WZVXKgkCn3D"
      },
      "execution_count": null,
      "outputs": []
    },
    {
      "cell_type": "code",
      "source": [
        "other_details = pd.DataFrame()"
      ],
      "metadata": {
        "id": "WFhzzSn1Cn66"
      },
      "execution_count": null,
      "outputs": []
    },
    {
      "cell_type": "code",
      "source": [
        "from tqdm import tqdm\n",
        "for i in tqdm(final_df['id']):\n",
        "  other_details = pd.concat([other_details,get_other_details(i)])"
      ],
      "metadata": {
        "colab": {
          "base_uri": "https://localhost:8080/"
        },
        "id": "Oj0cu0jpCn9G",
        "outputId": "3ae48c66-a614-4d3e-9b0a-365923b4f16e"
      },
      "execution_count": null,
      "outputs": [
        {
          "output_type": "stream",
          "name": "stderr",
          "text": [
            "100%|██████████| 1048/1048 [02:20<00:00,  7.43it/s]\n"
          ]
        }
      ]
    },
    {
      "cell_type": "code",
      "source": [
        "other_details.columns"
      ],
      "metadata": {
        "colab": {
          "base_uri": "https://localhost:8080/"
        },
        "id": "40Vdip0BCoA7",
        "outputId": "09985aa2-e7df-40f0-be67-ccebb4e2f7a2"
      },
      "execution_count": null,
      "outputs": [
        {
          "output_type": "execute_result",
          "data": {
            "text/plain": [
              "Index(['adult', 'backdrop_path', 'belongs_to_collection', 'budget', 'genres',\n",
              "       'homepage', 'id', 'imdb_id', 'original_language', 'original_title',\n",
              "       'overview', 'popularity', 'poster_path', 'production_companies',\n",
              "       'production_countries', 'release_date', 'revenue', 'runtime',\n",
              "       'spoken_languages', 'status', 'tagline', 'title', 'video',\n",
              "       'vote_average', 'vote_count', 'belongs_to_collection.id',\n",
              "       'belongs_to_collection.name', 'belongs_to_collection.poster_path',\n",
              "       'belongs_to_collection.backdrop_path'],\n",
              "      dtype='object')"
            ]
          },
          "metadata": {},
          "execution_count": 79
        }
      ]
    },
    {
      "cell_type": "code",
      "source": [
        "# Removing columns that are of no use to us !\n",
        "other_details = other_details.drop(['adult', 'backdrop_path', 'belongs_to_collection','homepage','original_title','production_companies',\n",
        "                    'production_countries','spoken_languages', 'status','video','belongs_to_collection.id',\n",
        "       'belongs_to_collection.name', 'belongs_to_collection.poster_path',\n",
        "       'belongs_to_collection.backdrop_path','budget','revenue','tagline'\n",
        "                    ],axis=1)"
      ],
      "metadata": {
        "id": "eX3bPXowCoCt"
      },
      "execution_count": null,
      "outputs": []
    },
    {
      "cell_type": "code",
      "source": [
        "other_details.shape"
      ],
      "metadata": {
        "colab": {
          "base_uri": "https://localhost:8080/"
        },
        "id": "DMmLjdpnCoEv",
        "outputId": "5550780e-d7fa-4f54-e15d-53a30b968f5f"
      },
      "execution_count": null,
      "outputs": [
        {
          "output_type": "execute_result",
          "data": {
            "text/plain": [
              "(1048, 12)"
            ]
          },
          "metadata": {},
          "execution_count": 81
        }
      ]
    },
    {
      "cell_type": "code",
      "source": [
        "# checking null values\n",
        "other_details.isnull().sum()"
      ],
      "metadata": {
        "colab": {
          "base_uri": "https://localhost:8080/"
        },
        "id": "Syg90tdeCoH0",
        "outputId": "96bc4b5f-ebe3-4e17-f6c6-7b79624c6a39"
      },
      "execution_count": null,
      "outputs": [
        {
          "output_type": "execute_result",
          "data": {
            "text/plain": [
              "genres                0\n",
              "id                    0\n",
              "imdb_id               7\n",
              "original_language     0\n",
              "overview              0\n",
              "popularity            0\n",
              "poster_path          20\n",
              "release_date          0\n",
              "runtime               0\n",
              "title                 0\n",
              "vote_average          0\n",
              "vote_count            0\n",
              "dtype: int64"
            ]
          },
          "metadata": {},
          "execution_count": 82
        }
      ]
    },
    {
      "cell_type": "code",
      "source": [
        "# removing null values\n",
        "other_details = other_details.dropna().reset_index(drop=True)"
      ],
      "metadata": {
        "id": "r-BPbWrVU_zh"
      },
      "execution_count": null,
      "outputs": []
    },
    {
      "cell_type": "code",
      "source": [
        "other_details.shape"
      ],
      "metadata": {
        "colab": {
          "base_uri": "https://localhost:8080/"
        },
        "id": "OCwyKUxHVAGs",
        "outputId": "4713915c-aecf-4d61-bc74-eb3883f1f2ff"
      },
      "execution_count": null,
      "outputs": [
        {
          "output_type": "execute_result",
          "data": {
            "text/plain": [
              "(1023, 12)"
            ]
          },
          "metadata": {},
          "execution_count": 84
        }
      ]
    },
    {
      "cell_type": "code",
      "source": [
        "final_df.shape"
      ],
      "metadata": {
        "id": "dhUvojLgVAQq",
        "colab": {
          "base_uri": "https://localhost:8080/"
        },
        "outputId": "45d8d790-770a-4fa8-d428-cb54ab012196"
      },
      "execution_count": null,
      "outputs": [
        {
          "output_type": "execute_result",
          "data": {
            "text/plain": [
              "(1048, 4)"
            ]
          },
          "metadata": {},
          "execution_count": 86
        }
      ]
    },
    {
      "cell_type": "code",
      "source": [
        "other_details.columns"
      ],
      "metadata": {
        "id": "dmG4N68hVAbE",
        "colab": {
          "base_uri": "https://localhost:8080/"
        },
        "outputId": "b93a7000-4df6-4d00-c565-a99b282348ca"
      },
      "execution_count": null,
      "outputs": [
        {
          "output_type": "execute_result",
          "data": {
            "text/plain": [
              "Index(['genres', 'id', 'imdb_id', 'original_language', 'overview',\n",
              "       'popularity', 'poster_path', 'release_date', 'runtime', 'title',\n",
              "       'vote_average', 'vote_count'],\n",
              "      dtype='object')"
            ]
          },
          "metadata": {},
          "execution_count": 87
        }
      ]
    },
    {
      "cell_type": "code",
      "source": [
        "final_df.columns"
      ],
      "metadata": {
        "id": "h4EqmQqhVAle",
        "colab": {
          "base_uri": "https://localhost:8080/"
        },
        "outputId": "057a47f4-fbc6-4195-bf05-a0d60179c833"
      },
      "execution_count": null,
      "outputs": [
        {
          "output_type": "execute_result",
          "data": {
            "text/plain": [
              "Index(['Title', 'Director', 'Cast', 'id'], dtype='object')"
            ]
          },
          "metadata": {},
          "execution_count": 88
        }
      ]
    },
    {
      "cell_type": "code",
      "source": [
        "# merging dataframes to get the final bollywoood movies dataset\n",
        "bolly_movies = final_df.merge(other_details,on='id').dropna()"
      ],
      "metadata": {
        "id": "AZdioFuNaUPc"
      },
      "execution_count": null,
      "outputs": []
    },
    {
      "cell_type": "code",
      "source": [
        "bolly_movies.shape"
      ],
      "metadata": {
        "colab": {
          "base_uri": "https://localhost:8080/"
        },
        "id": "BTuBOgTPlA3p",
        "outputId": "6eb06bc7-26d0-4774-dcb4-71047adf7d68"
      },
      "execution_count": null,
      "outputs": [
        {
          "output_type": "execute_result",
          "data": {
            "text/plain": [
              "(1023, 15)"
            ]
          },
          "metadata": {},
          "execution_count": 90
        }
      ]
    },
    {
      "cell_type": "code",
      "source": [
        "bolly_movies"
      ],
      "metadata": {
        "id": "U2_CuIbdoDUY",
        "colab": {
          "base_uri": "https://localhost:8080/",
          "height": 1000
        },
        "outputId": "bc96746b-647a-4498-fe78-04e254207c24"
      },
      "execution_count": null,
      "outputs": [
        {
          "output_type": "execute_result",
          "data": {
            "text/plain": [
              "                                Title            Director  \\\n",
              "0                      Attack: Part 1   Lakshya Raj Anand   \n",
              "1                  Kaun Pravin Tambe?       Jayprad Desai   \n",
              "2                         Cobalt Blue    Sachin Kundalkar   \n",
              "3                               Dasvi       Tushar Jalota   \n",
              "4                             Hurdang  Nikhil Nagesh Bhat   \n",
              "...                               ...                 ...   \n",
              "1018                   Son Of Sardaar         Ashwni Dhir   \n",
              "1019  Talaash: The Answer Lies Within         Reema Kagti   \n",
              "1020                      Khiladi 786      Ashish R Mohan   \n",
              "1021               Cigarette Ki Tarah    Akashaditya Lama   \n",
              "1022                        Dabangg 2         Arbaaz Khan   \n",
              "\n",
              "                                                   Cast        id  \\\n",
              "0         John Abraham,Jacqueline Fernandez,Rakul Preet  799155.0   \n",
              "1                                       Shreyas Talpade  946652.0   \n",
              "2     Prateik Babbar,Neelay Mehendale,Anjali Sivaram...  897097.0   \n",
              "3             Abhishek Bachchan,Yami Gautam,Nimrat Kaur  799713.0   \n",
              "4         Sunny Kaushal,Nushrratt Bharuccha,Vijay Varma  809309.0   \n",
              "...                                                 ...       ...   \n",
              "1018  Ajay Devgn, Sanjay Dutt, Juhi Chawla, Sonakshi...  140896.0   \n",
              "1019  Aamir Khan, Rani Mukerji, Kareena Kapoor, Nawa...   86004.0   \n",
              "1020  Akshay Kumar, Asin, Mithun Chakraborty, Raj Ba...  147767.0   \n",
              "1021  Bhoop Yaduvanshi, Prashant Narayanan, Madhurim...  147358.0   \n",
              "1022  Salman Khan, Sonakshi Sinha, Arbaaz Khan, Prak...  147405.0   \n",
              "\n",
              "                                                 genres     imdb_id  \\\n",
              "0     [{'id': 28, 'name': 'Action'}, {'id': 878, 'na...   tt7529298   \n",
              "1                         [{'id': 18, 'name': 'Drama'}]  tt18568902   \n",
              "2     [{'id': 10749, 'name': 'Romance'}, {'id': 18, ...  tt15314640   \n",
              "3     [{'id': 18, 'name': 'Drama'}, {'id': 35, 'name...  tt14107554   \n",
              "4     [{'id': 18, 'name': 'Drama'}, {'id': 10749, 'n...  tt10919304   \n",
              "...                                                 ...         ...   \n",
              "1018  [{'id': 28, 'name': 'Action'}, {'id': 35, 'nam...   tt2178508   \n",
              "1019  [{'id': 80, 'name': 'Crime'}, {'id': 18, 'name...   tt1787988   \n",
              "1020  [{'id': 28, 'name': 'Action'}, {'id': 35, 'nam...   tt2166214   \n",
              "1021                                                 []   tt2346744   \n",
              "1022  [{'id': 28, 'name': 'Action'}, {'id': 35, 'nam...   tt2112131   \n",
              "\n",
              "     original_language                                           overview  \\\n",
              "0                   hi  With the Parliament under siege, India’s first...   \n",
              "1                   hi  Mumbai-born leg-spinner Pravin Tambe made his ...   \n",
              "2                   hi  When an aspiring author and his free-spirited ...   \n",
              "3                   hi  Jailed under a tough cop, an uneducated politi...   \n",
              "4                   hi  In the 1990s' Allahabad, a brash college stude...   \n",
              "...                ...                                                ...   \n",
              "1018                hi  A Punjabi man returning to India falls in love...   \n",
              "1019                hi  A cop, investigating the mysterious death of a...   \n",
              "1020                hi  A father who runs a marriage bureau believes t...   \n",
              "1021                hi  Cigarette Ki Tarah is an upcoming romantic thr...   \n",
              "1022                hi  Chulbul Pandey invites a fresh trouble when he...   \n",
              "\n",
              "      popularity                       poster_path release_date  runtime  \\\n",
              "0          7.540  /5jGKbYuZtdxSNOocI6ZziQeiY4n.jpg   2022-04-01      123   \n",
              "1          3.118  /w6t4nzjbmlGDAYnNvUeo6zxMySC.jpg   2022-04-01      133   \n",
              "2          5.029  /59CjIDHHvNyiinRwaSIouWnPNrY.jpg   2022-04-02      112   \n",
              "3          4.485  /zL40soH0AYoBD5BVNu9U2B98ejD.jpg   2022-04-07      127   \n",
              "4          3.690  /vcsr4oajxfEMYpjxfgrVfJCbczk.jpg   2022-04-08      122   \n",
              "...          ...                               ...          ...      ...   \n",
              "1018       4.496  /rqFbCvKVPdqI1Yrm8Xn172XXiVC.jpg   2012-11-13      141   \n",
              "1019       7.688  /oCxyN7HmJ7zWp8jtJeMRHABnutF.jpg   2012-11-30      149   \n",
              "1020       2.123  /3chNHVi7j0jmUvJ1k7n2EYPfFmC.jpg   2012-12-07      139   \n",
              "1021       0.600   /yTQ1PjmEeArXhiluRIGcIhwUZA.jpg   2012-12-14      107   \n",
              "1022       8.137  /11lo9arlgCOcgVPVQ025v071YpM.jpg   2012-12-21      125   \n",
              "\n",
              "                   title  vote_average  vote_count  \n",
              "0                 Attack           7.2          26  \n",
              "1     Kaun Pravin Tambe?           7.3          10  \n",
              "2            Cobalt Blue           6.4          18  \n",
              "3                  Dasvi           5.4          18  \n",
              "4                Hurdang           5.0           2  \n",
              "...                  ...           ...         ...  \n",
              "1018      Son of Sardaar           4.7          39  \n",
              "1019             Talaash           6.8         180  \n",
              "1020         Khiladi 786           4.8          30  \n",
              "1021  Cigarette ki Tarah           6.5           1  \n",
              "1022           Dabangg 2           5.1          92  \n",
              "\n",
              "[1023 rows x 15 columns]"
            ],
            "text/html": [
              "\n",
              "  <div id=\"df-83775a41-1eeb-459e-ad68-d76ae8ecc409\">\n",
              "    <div class=\"colab-df-container\">\n",
              "      <div>\n",
              "<style scoped>\n",
              "    .dataframe tbody tr th:only-of-type {\n",
              "        vertical-align: middle;\n",
              "    }\n",
              "\n",
              "    .dataframe tbody tr th {\n",
              "        vertical-align: top;\n",
              "    }\n",
              "\n",
              "    .dataframe thead th {\n",
              "        text-align: right;\n",
              "    }\n",
              "</style>\n",
              "<table border=\"1\" class=\"dataframe\">\n",
              "  <thead>\n",
              "    <tr style=\"text-align: right;\">\n",
              "      <th></th>\n",
              "      <th>Title</th>\n",
              "      <th>Director</th>\n",
              "      <th>Cast</th>\n",
              "      <th>id</th>\n",
              "      <th>genres</th>\n",
              "      <th>imdb_id</th>\n",
              "      <th>original_language</th>\n",
              "      <th>overview</th>\n",
              "      <th>popularity</th>\n",
              "      <th>poster_path</th>\n",
              "      <th>release_date</th>\n",
              "      <th>runtime</th>\n",
              "      <th>title</th>\n",
              "      <th>vote_average</th>\n",
              "      <th>vote_count</th>\n",
              "    </tr>\n",
              "  </thead>\n",
              "  <tbody>\n",
              "    <tr>\n",
              "      <th>0</th>\n",
              "      <td>Attack: Part 1</td>\n",
              "      <td>Lakshya Raj Anand</td>\n",
              "      <td>John Abraham,Jacqueline Fernandez,Rakul Preet</td>\n",
              "      <td>799155.0</td>\n",
              "      <td>[{'id': 28, 'name': 'Action'}, {'id': 878, 'na...</td>\n",
              "      <td>tt7529298</td>\n",
              "      <td>hi</td>\n",
              "      <td>With the Parliament under siege, India’s first...</td>\n",
              "      <td>7.540</td>\n",
              "      <td>/5jGKbYuZtdxSNOocI6ZziQeiY4n.jpg</td>\n",
              "      <td>2022-04-01</td>\n",
              "      <td>123</td>\n",
              "      <td>Attack</td>\n",
              "      <td>7.2</td>\n",
              "      <td>26</td>\n",
              "    </tr>\n",
              "    <tr>\n",
              "      <th>1</th>\n",
              "      <td>Kaun Pravin Tambe?</td>\n",
              "      <td>Jayprad Desai</td>\n",
              "      <td>Shreyas Talpade</td>\n",
              "      <td>946652.0</td>\n",
              "      <td>[{'id': 18, 'name': 'Drama'}]</td>\n",
              "      <td>tt18568902</td>\n",
              "      <td>hi</td>\n",
              "      <td>Mumbai-born leg-spinner Pravin Tambe made his ...</td>\n",
              "      <td>3.118</td>\n",
              "      <td>/w6t4nzjbmlGDAYnNvUeo6zxMySC.jpg</td>\n",
              "      <td>2022-04-01</td>\n",
              "      <td>133</td>\n",
              "      <td>Kaun Pravin Tambe?</td>\n",
              "      <td>7.3</td>\n",
              "      <td>10</td>\n",
              "    </tr>\n",
              "    <tr>\n",
              "      <th>2</th>\n",
              "      <td>Cobalt Blue</td>\n",
              "      <td>Sachin Kundalkar</td>\n",
              "      <td>Prateik Babbar,Neelay Mehendale,Anjali Sivaram...</td>\n",
              "      <td>897097.0</td>\n",
              "      <td>[{'id': 10749, 'name': 'Romance'}, {'id': 18, ...</td>\n",
              "      <td>tt15314640</td>\n",
              "      <td>hi</td>\n",
              "      <td>When an aspiring author and his free-spirited ...</td>\n",
              "      <td>5.029</td>\n",
              "      <td>/59CjIDHHvNyiinRwaSIouWnPNrY.jpg</td>\n",
              "      <td>2022-04-02</td>\n",
              "      <td>112</td>\n",
              "      <td>Cobalt Blue</td>\n",
              "      <td>6.4</td>\n",
              "      <td>18</td>\n",
              "    </tr>\n",
              "    <tr>\n",
              "      <th>3</th>\n",
              "      <td>Dasvi</td>\n",
              "      <td>Tushar Jalota</td>\n",
              "      <td>Abhishek Bachchan,Yami Gautam,Nimrat Kaur</td>\n",
              "      <td>799713.0</td>\n",
              "      <td>[{'id': 18, 'name': 'Drama'}, {'id': 35, 'name...</td>\n",
              "      <td>tt14107554</td>\n",
              "      <td>hi</td>\n",
              "      <td>Jailed under a tough cop, an uneducated politi...</td>\n",
              "      <td>4.485</td>\n",
              "      <td>/zL40soH0AYoBD5BVNu9U2B98ejD.jpg</td>\n",
              "      <td>2022-04-07</td>\n",
              "      <td>127</td>\n",
              "      <td>Dasvi</td>\n",
              "      <td>5.4</td>\n",
              "      <td>18</td>\n",
              "    </tr>\n",
              "    <tr>\n",
              "      <th>4</th>\n",
              "      <td>Hurdang</td>\n",
              "      <td>Nikhil Nagesh Bhat</td>\n",
              "      <td>Sunny Kaushal,Nushrratt Bharuccha,Vijay Varma</td>\n",
              "      <td>809309.0</td>\n",
              "      <td>[{'id': 18, 'name': 'Drama'}, {'id': 10749, 'n...</td>\n",
              "      <td>tt10919304</td>\n",
              "      <td>hi</td>\n",
              "      <td>In the 1990s' Allahabad, a brash college stude...</td>\n",
              "      <td>3.690</td>\n",
              "      <td>/vcsr4oajxfEMYpjxfgrVfJCbczk.jpg</td>\n",
              "      <td>2022-04-08</td>\n",
              "      <td>122</td>\n",
              "      <td>Hurdang</td>\n",
              "      <td>5.0</td>\n",
              "      <td>2</td>\n",
              "    </tr>\n",
              "    <tr>\n",
              "      <th>...</th>\n",
              "      <td>...</td>\n",
              "      <td>...</td>\n",
              "      <td>...</td>\n",
              "      <td>...</td>\n",
              "      <td>...</td>\n",
              "      <td>...</td>\n",
              "      <td>...</td>\n",
              "      <td>...</td>\n",
              "      <td>...</td>\n",
              "      <td>...</td>\n",
              "      <td>...</td>\n",
              "      <td>...</td>\n",
              "      <td>...</td>\n",
              "      <td>...</td>\n",
              "      <td>...</td>\n",
              "    </tr>\n",
              "    <tr>\n",
              "      <th>1018</th>\n",
              "      <td>Son Of Sardaar</td>\n",
              "      <td>Ashwni Dhir</td>\n",
              "      <td>Ajay Devgn, Sanjay Dutt, Juhi Chawla, Sonakshi...</td>\n",
              "      <td>140896.0</td>\n",
              "      <td>[{'id': 28, 'name': 'Action'}, {'id': 35, 'nam...</td>\n",
              "      <td>tt2178508</td>\n",
              "      <td>hi</td>\n",
              "      <td>A Punjabi man returning to India falls in love...</td>\n",
              "      <td>4.496</td>\n",
              "      <td>/rqFbCvKVPdqI1Yrm8Xn172XXiVC.jpg</td>\n",
              "      <td>2012-11-13</td>\n",
              "      <td>141</td>\n",
              "      <td>Son of Sardaar</td>\n",
              "      <td>4.7</td>\n",
              "      <td>39</td>\n",
              "    </tr>\n",
              "    <tr>\n",
              "      <th>1019</th>\n",
              "      <td>Talaash: The Answer Lies Within</td>\n",
              "      <td>Reema Kagti</td>\n",
              "      <td>Aamir Khan, Rani Mukerji, Kareena Kapoor, Nawa...</td>\n",
              "      <td>86004.0</td>\n",
              "      <td>[{'id': 80, 'name': 'Crime'}, {'id': 18, 'name...</td>\n",
              "      <td>tt1787988</td>\n",
              "      <td>hi</td>\n",
              "      <td>A cop, investigating the mysterious death of a...</td>\n",
              "      <td>7.688</td>\n",
              "      <td>/oCxyN7HmJ7zWp8jtJeMRHABnutF.jpg</td>\n",
              "      <td>2012-11-30</td>\n",
              "      <td>149</td>\n",
              "      <td>Talaash</td>\n",
              "      <td>6.8</td>\n",
              "      <td>180</td>\n",
              "    </tr>\n",
              "    <tr>\n",
              "      <th>1020</th>\n",
              "      <td>Khiladi 786</td>\n",
              "      <td>Ashish R Mohan</td>\n",
              "      <td>Akshay Kumar, Asin, Mithun Chakraborty, Raj Ba...</td>\n",
              "      <td>147767.0</td>\n",
              "      <td>[{'id': 28, 'name': 'Action'}, {'id': 35, 'nam...</td>\n",
              "      <td>tt2166214</td>\n",
              "      <td>hi</td>\n",
              "      <td>A father who runs a marriage bureau believes t...</td>\n",
              "      <td>2.123</td>\n",
              "      <td>/3chNHVi7j0jmUvJ1k7n2EYPfFmC.jpg</td>\n",
              "      <td>2012-12-07</td>\n",
              "      <td>139</td>\n",
              "      <td>Khiladi 786</td>\n",
              "      <td>4.8</td>\n",
              "      <td>30</td>\n",
              "    </tr>\n",
              "    <tr>\n",
              "      <th>1021</th>\n",
              "      <td>Cigarette Ki Tarah</td>\n",
              "      <td>Akashaditya Lama</td>\n",
              "      <td>Bhoop Yaduvanshi, Prashant Narayanan, Madhurim...</td>\n",
              "      <td>147358.0</td>\n",
              "      <td>[]</td>\n",
              "      <td>tt2346744</td>\n",
              "      <td>hi</td>\n",
              "      <td>Cigarette Ki Tarah is an upcoming romantic thr...</td>\n",
              "      <td>0.600</td>\n",
              "      <td>/yTQ1PjmEeArXhiluRIGcIhwUZA.jpg</td>\n",
              "      <td>2012-12-14</td>\n",
              "      <td>107</td>\n",
              "      <td>Cigarette ki Tarah</td>\n",
              "      <td>6.5</td>\n",
              "      <td>1</td>\n",
              "    </tr>\n",
              "    <tr>\n",
              "      <th>1022</th>\n",
              "      <td>Dabangg 2</td>\n",
              "      <td>Arbaaz Khan</td>\n",
              "      <td>Salman Khan, Sonakshi Sinha, Arbaaz Khan, Prak...</td>\n",
              "      <td>147405.0</td>\n",
              "      <td>[{'id': 28, 'name': 'Action'}, {'id': 35, 'nam...</td>\n",
              "      <td>tt2112131</td>\n",
              "      <td>hi</td>\n",
              "      <td>Chulbul Pandey invites a fresh trouble when he...</td>\n",
              "      <td>8.137</td>\n",
              "      <td>/11lo9arlgCOcgVPVQ025v071YpM.jpg</td>\n",
              "      <td>2012-12-21</td>\n",
              "      <td>125</td>\n",
              "      <td>Dabangg 2</td>\n",
              "      <td>5.1</td>\n",
              "      <td>92</td>\n",
              "    </tr>\n",
              "  </tbody>\n",
              "</table>\n",
              "<p>1023 rows × 15 columns</p>\n",
              "</div>\n",
              "      <button class=\"colab-df-convert\" onclick=\"convertToInteractive('df-83775a41-1eeb-459e-ad68-d76ae8ecc409')\"\n",
              "              title=\"Convert this dataframe to an interactive table.\"\n",
              "              style=\"display:none;\">\n",
              "        \n",
              "  <svg xmlns=\"http://www.w3.org/2000/svg\" height=\"24px\"viewBox=\"0 0 24 24\"\n",
              "       width=\"24px\">\n",
              "    <path d=\"M0 0h24v24H0V0z\" fill=\"none\"/>\n",
              "    <path d=\"M18.56 5.44l.94 2.06.94-2.06 2.06-.94-2.06-.94-.94-2.06-.94 2.06-2.06.94zm-11 1L8.5 8.5l.94-2.06 2.06-.94-2.06-.94L8.5 2.5l-.94 2.06-2.06.94zm10 10l.94 2.06.94-2.06 2.06-.94-2.06-.94-.94-2.06-.94 2.06-2.06.94z\"/><path d=\"M17.41 7.96l-1.37-1.37c-.4-.4-.92-.59-1.43-.59-.52 0-1.04.2-1.43.59L10.3 9.45l-7.72 7.72c-.78.78-.78 2.05 0 2.83L4 21.41c.39.39.9.59 1.41.59.51 0 1.02-.2 1.41-.59l7.78-7.78 2.81-2.81c.8-.78.8-2.07 0-2.86zM5.41 20L4 18.59l7.72-7.72 1.47 1.35L5.41 20z\"/>\n",
              "  </svg>\n",
              "      </button>\n",
              "      \n",
              "  <style>\n",
              "    .colab-df-container {\n",
              "      display:flex;\n",
              "      flex-wrap:wrap;\n",
              "      gap: 12px;\n",
              "    }\n",
              "\n",
              "    .colab-df-convert {\n",
              "      background-color: #E8F0FE;\n",
              "      border: none;\n",
              "      border-radius: 50%;\n",
              "      cursor: pointer;\n",
              "      display: none;\n",
              "      fill: #1967D2;\n",
              "      height: 32px;\n",
              "      padding: 0 0 0 0;\n",
              "      width: 32px;\n",
              "    }\n",
              "\n",
              "    .colab-df-convert:hover {\n",
              "      background-color: #E2EBFA;\n",
              "      box-shadow: 0px 1px 2px rgba(60, 64, 67, 0.3), 0px 1px 3px 1px rgba(60, 64, 67, 0.15);\n",
              "      fill: #174EA6;\n",
              "    }\n",
              "\n",
              "    [theme=dark] .colab-df-convert {\n",
              "      background-color: #3B4455;\n",
              "      fill: #D2E3FC;\n",
              "    }\n",
              "\n",
              "    [theme=dark] .colab-df-convert:hover {\n",
              "      background-color: #434B5C;\n",
              "      box-shadow: 0px 1px 3px 1px rgba(0, 0, 0, 0.15);\n",
              "      filter: drop-shadow(0px 1px 2px rgba(0, 0, 0, 0.3));\n",
              "      fill: #FFFFFF;\n",
              "    }\n",
              "  </style>\n",
              "\n",
              "      <script>\n",
              "        const buttonEl =\n",
              "          document.querySelector('#df-83775a41-1eeb-459e-ad68-d76ae8ecc409 button.colab-df-convert');\n",
              "        buttonEl.style.display =\n",
              "          google.colab.kernel.accessAllowed ? 'block' : 'none';\n",
              "\n",
              "        async function convertToInteractive(key) {\n",
              "          const element = document.querySelector('#df-83775a41-1eeb-459e-ad68-d76ae8ecc409');\n",
              "          const dataTable =\n",
              "            await google.colab.kernel.invokeFunction('convertToInteractive',\n",
              "                                                     [key], {});\n",
              "          if (!dataTable) return;\n",
              "\n",
              "          const docLinkHtml = 'Like what you see? Visit the ' +\n",
              "            '<a target=\"_blank\" href=https://colab.research.google.com/notebooks/data_table.ipynb>data table notebook</a>'\n",
              "            + ' to learn more about interactive tables.';\n",
              "          element.innerHTML = '';\n",
              "          dataTable['output_type'] = 'display_data';\n",
              "          await google.colab.output.renderOutput(dataTable, element);\n",
              "          const docLink = document.createElement('div');\n",
              "          docLink.innerHTML = docLinkHtml;\n",
              "          element.appendChild(docLink);\n",
              "        }\n",
              "      </script>\n",
              "    </div>\n",
              "  </div>\n",
              "  "
            ]
          },
          "metadata": {},
          "execution_count": 91
        }
      ]
    },
    {
      "cell_type": "markdown",
      "source": [
        "## There are some missing values which can not be caugth by the .isnull() method\n",
        "\n",
        "### *That's why we have to check manually...if some feature(object type) contain empty Strings*"
      ],
      "metadata": {
        "id": "GAUiUkefpZma"
      }
    },
    {
      "cell_type": "code",
      "source": [
        "(bolly_movies['imdb_id']=='').sum()"
      ],
      "metadata": {
        "colab": {
          "base_uri": "https://localhost:8080/"
        },
        "id": "OrooP5U0lBBM",
        "outputId": "f26a0ffe-3956-4765-fac2-3fd4f2adf7b1"
      },
      "execution_count": null,
      "outputs": [
        {
          "output_type": "execute_result",
          "data": {
            "text/plain": [
              "5"
            ]
          },
          "metadata": {},
          "execution_count": 110
        }
      ]
    },
    {
      "cell_type": "code",
      "source": [
        "bolly_movies = bolly_movies[bolly_movies['imdb_id']!=''].reset_index(drop=True)"
      ],
      "metadata": {
        "id": "xa0dPTDloKp8"
      },
      "execution_count": null,
      "outputs": []
    },
    {
      "cell_type": "code",
      "source": [
        "(bolly_movies['overview']=='').sum()"
      ],
      "metadata": {
        "colab": {
          "base_uri": "https://localhost:8080/"
        },
        "id": "ph_nTq47lBHJ",
        "outputId": "b809e556-3ded-4cc6-ba73-ae5dceb2fa06"
      },
      "execution_count": null,
      "outputs": [
        {
          "output_type": "execute_result",
          "data": {
            "text/plain": [
              "2"
            ]
          },
          "metadata": {},
          "execution_count": 114
        }
      ]
    },
    {
      "cell_type": "code",
      "source": [
        "bolly_movies = bolly_movies[bolly_movies['overview']!=''].reset_index(drop=True)"
      ],
      "metadata": {
        "id": "DuPUHtpDoerN"
      },
      "execution_count": null,
      "outputs": []
    },
    {
      "cell_type": "code",
      "source": [
        "(bolly_movies['Cast']=='').sum()"
      ],
      "metadata": {
        "colab": {
          "base_uri": "https://localhost:8080/"
        },
        "id": "sojnDYA0lBKJ",
        "outputId": "74a3bb87-8b59-49e3-df69-af9664578565"
      },
      "execution_count": null,
      "outputs": [
        {
          "output_type": "execute_result",
          "data": {
            "text/plain": [
              "1"
            ]
          },
          "metadata": {},
          "execution_count": 116
        }
      ]
    },
    {
      "cell_type": "code",
      "source": [
        "bolly_movies = bolly_movies[bolly_movies['Cast']!=''].reset_index(drop=True)"
      ],
      "metadata": {
        "id": "eVnmUZc4o9MN"
      },
      "execution_count": null,
      "outputs": []
    },
    {
      "cell_type": "markdown",
      "source": [
        "# **BollyWood DataSet is Ready**"
      ],
      "metadata": {
        "id": "NubkVXFTlcG-"
      }
    },
    {
      "cell_type": "code",
      "source": [
        "bolly_movies.to_csv(\"Bollywood_Movies1.csv\")"
      ],
      "metadata": {
        "id": "02oRhRfcdDYK"
      },
      "execution_count": null,
      "outputs": []
    },
    {
      "cell_type": "code",
      "source": [
        "bolly_movies.shape"
      ],
      "metadata": {
        "id": "5VIWWXLWmE8R",
        "colab": {
          "base_uri": "https://localhost:8080/"
        },
        "outputId": "4db38ae6-b599-4780-9f4e-3a85ed47678f"
      },
      "execution_count": null,
      "outputs": [
        {
          "output_type": "execute_result",
          "data": {
            "text/plain": [
              "(1015, 15)"
            ]
          },
          "metadata": {},
          "execution_count": 126
        }
      ]
    },
    {
      "cell_type": "code",
      "source": [
        "bolly_movies.head()"
      ],
      "metadata": {
        "id": "uWsfrtTGmE-C",
        "colab": {
          "base_uri": "https://localhost:8080/",
          "height": 686
        },
        "outputId": "ffe03616-7717-463d-b680-62c252c27a1e"
      },
      "execution_count": null,
      "outputs": [
        {
          "output_type": "execute_result",
          "data": {
            "text/plain": [
              "                Title            Director  \\\n",
              "0      Attack: Part 1   Lakshya Raj Anand   \n",
              "1  Kaun Pravin Tambe?       Jayprad Desai   \n",
              "2         Cobalt Blue    Sachin Kundalkar   \n",
              "3               Dasvi       Tushar Jalota   \n",
              "4             Hurdang  Nikhil Nagesh Bhat   \n",
              "\n",
              "                                                Cast        id  \\\n",
              "0      John Abraham,Jacqueline Fernandez,Rakul Preet  799155.0   \n",
              "1                                    Shreyas Talpade  946652.0   \n",
              "2  Prateik Babbar,Neelay Mehendale,Anjali Sivaram...  897097.0   \n",
              "3          Abhishek Bachchan,Yami Gautam,Nimrat Kaur  799713.0   \n",
              "4      Sunny Kaushal,Nushrratt Bharuccha,Vijay Varma  809309.0   \n",
              "\n",
              "                                              genres     imdb_id  \\\n",
              "0  [{'id': 28, 'name': 'Action'}, {'id': 878, 'na...   tt7529298   \n",
              "1                      [{'id': 18, 'name': 'Drama'}]  tt18568902   \n",
              "2  [{'id': 10749, 'name': 'Romance'}, {'id': 18, ...  tt15314640   \n",
              "3  [{'id': 18, 'name': 'Drama'}, {'id': 35, 'name...  tt14107554   \n",
              "4  [{'id': 18, 'name': 'Drama'}, {'id': 10749, 'n...  tt10919304   \n",
              "\n",
              "  original_language                                           overview  \\\n",
              "0                hi  With the Parliament under siege, India’s first...   \n",
              "1                hi  Mumbai-born leg-spinner Pravin Tambe made his ...   \n",
              "2                hi  When an aspiring author and his free-spirited ...   \n",
              "3                hi  Jailed under a tough cop, an uneducated politi...   \n",
              "4                hi  In the 1990s' Allahabad, a brash college stude...   \n",
              "\n",
              "   popularity                       poster_path release_date  runtime  \\\n",
              "0       7.540  /5jGKbYuZtdxSNOocI6ZziQeiY4n.jpg   2022-04-01      123   \n",
              "1       3.118  /w6t4nzjbmlGDAYnNvUeo6zxMySC.jpg   2022-04-01      133   \n",
              "2       5.029  /59CjIDHHvNyiinRwaSIouWnPNrY.jpg   2022-04-02      112   \n",
              "3       4.485  /zL40soH0AYoBD5BVNu9U2B98ejD.jpg   2022-04-07      127   \n",
              "4       3.690  /vcsr4oajxfEMYpjxfgrVfJCbczk.jpg   2022-04-08      122   \n",
              "\n",
              "                title  vote_average  vote_count  \n",
              "0              Attack           7.2          26  \n",
              "1  Kaun Pravin Tambe?           7.3          10  \n",
              "2         Cobalt Blue           6.4          18  \n",
              "3               Dasvi           5.4          18  \n",
              "4             Hurdang           5.0           2  "
            ],
            "text/html": [
              "\n",
              "  <div id=\"df-255bd93b-2bc6-4b1a-b1f1-3e955459b9f4\">\n",
              "    <div class=\"colab-df-container\">\n",
              "      <div>\n",
              "<style scoped>\n",
              "    .dataframe tbody tr th:only-of-type {\n",
              "        vertical-align: middle;\n",
              "    }\n",
              "\n",
              "    .dataframe tbody tr th {\n",
              "        vertical-align: top;\n",
              "    }\n",
              "\n",
              "    .dataframe thead th {\n",
              "        text-align: right;\n",
              "    }\n",
              "</style>\n",
              "<table border=\"1\" class=\"dataframe\">\n",
              "  <thead>\n",
              "    <tr style=\"text-align: right;\">\n",
              "      <th></th>\n",
              "      <th>Title</th>\n",
              "      <th>Director</th>\n",
              "      <th>Cast</th>\n",
              "      <th>id</th>\n",
              "      <th>genres</th>\n",
              "      <th>imdb_id</th>\n",
              "      <th>original_language</th>\n",
              "      <th>overview</th>\n",
              "      <th>popularity</th>\n",
              "      <th>poster_path</th>\n",
              "      <th>release_date</th>\n",
              "      <th>runtime</th>\n",
              "      <th>title</th>\n",
              "      <th>vote_average</th>\n",
              "      <th>vote_count</th>\n",
              "    </tr>\n",
              "  </thead>\n",
              "  <tbody>\n",
              "    <tr>\n",
              "      <th>0</th>\n",
              "      <td>Attack: Part 1</td>\n",
              "      <td>Lakshya Raj Anand</td>\n",
              "      <td>John Abraham,Jacqueline Fernandez,Rakul Preet</td>\n",
              "      <td>799155.0</td>\n",
              "      <td>[{'id': 28, 'name': 'Action'}, {'id': 878, 'na...</td>\n",
              "      <td>tt7529298</td>\n",
              "      <td>hi</td>\n",
              "      <td>With the Parliament under siege, India’s first...</td>\n",
              "      <td>7.540</td>\n",
              "      <td>/5jGKbYuZtdxSNOocI6ZziQeiY4n.jpg</td>\n",
              "      <td>2022-04-01</td>\n",
              "      <td>123</td>\n",
              "      <td>Attack</td>\n",
              "      <td>7.2</td>\n",
              "      <td>26</td>\n",
              "    </tr>\n",
              "    <tr>\n",
              "      <th>1</th>\n",
              "      <td>Kaun Pravin Tambe?</td>\n",
              "      <td>Jayprad Desai</td>\n",
              "      <td>Shreyas Talpade</td>\n",
              "      <td>946652.0</td>\n",
              "      <td>[{'id': 18, 'name': 'Drama'}]</td>\n",
              "      <td>tt18568902</td>\n",
              "      <td>hi</td>\n",
              "      <td>Mumbai-born leg-spinner Pravin Tambe made his ...</td>\n",
              "      <td>3.118</td>\n",
              "      <td>/w6t4nzjbmlGDAYnNvUeo6zxMySC.jpg</td>\n",
              "      <td>2022-04-01</td>\n",
              "      <td>133</td>\n",
              "      <td>Kaun Pravin Tambe?</td>\n",
              "      <td>7.3</td>\n",
              "      <td>10</td>\n",
              "    </tr>\n",
              "    <tr>\n",
              "      <th>2</th>\n",
              "      <td>Cobalt Blue</td>\n",
              "      <td>Sachin Kundalkar</td>\n",
              "      <td>Prateik Babbar,Neelay Mehendale,Anjali Sivaram...</td>\n",
              "      <td>897097.0</td>\n",
              "      <td>[{'id': 10749, 'name': 'Romance'}, {'id': 18, ...</td>\n",
              "      <td>tt15314640</td>\n",
              "      <td>hi</td>\n",
              "      <td>When an aspiring author and his free-spirited ...</td>\n",
              "      <td>5.029</td>\n",
              "      <td>/59CjIDHHvNyiinRwaSIouWnPNrY.jpg</td>\n",
              "      <td>2022-04-02</td>\n",
              "      <td>112</td>\n",
              "      <td>Cobalt Blue</td>\n",
              "      <td>6.4</td>\n",
              "      <td>18</td>\n",
              "    </tr>\n",
              "    <tr>\n",
              "      <th>3</th>\n",
              "      <td>Dasvi</td>\n",
              "      <td>Tushar Jalota</td>\n",
              "      <td>Abhishek Bachchan,Yami Gautam,Nimrat Kaur</td>\n",
              "      <td>799713.0</td>\n",
              "      <td>[{'id': 18, 'name': 'Drama'}, {'id': 35, 'name...</td>\n",
              "      <td>tt14107554</td>\n",
              "      <td>hi</td>\n",
              "      <td>Jailed under a tough cop, an uneducated politi...</td>\n",
              "      <td>4.485</td>\n",
              "      <td>/zL40soH0AYoBD5BVNu9U2B98ejD.jpg</td>\n",
              "      <td>2022-04-07</td>\n",
              "      <td>127</td>\n",
              "      <td>Dasvi</td>\n",
              "      <td>5.4</td>\n",
              "      <td>18</td>\n",
              "    </tr>\n",
              "    <tr>\n",
              "      <th>4</th>\n",
              "      <td>Hurdang</td>\n",
              "      <td>Nikhil Nagesh Bhat</td>\n",
              "      <td>Sunny Kaushal,Nushrratt Bharuccha,Vijay Varma</td>\n",
              "      <td>809309.0</td>\n",
              "      <td>[{'id': 18, 'name': 'Drama'}, {'id': 10749, 'n...</td>\n",
              "      <td>tt10919304</td>\n",
              "      <td>hi</td>\n",
              "      <td>In the 1990s' Allahabad, a brash college stude...</td>\n",
              "      <td>3.690</td>\n",
              "      <td>/vcsr4oajxfEMYpjxfgrVfJCbczk.jpg</td>\n",
              "      <td>2022-04-08</td>\n",
              "      <td>122</td>\n",
              "      <td>Hurdang</td>\n",
              "      <td>5.0</td>\n",
              "      <td>2</td>\n",
              "    </tr>\n",
              "  </tbody>\n",
              "</table>\n",
              "</div>\n",
              "      <button class=\"colab-df-convert\" onclick=\"convertToInteractive('df-255bd93b-2bc6-4b1a-b1f1-3e955459b9f4')\"\n",
              "              title=\"Convert this dataframe to an interactive table.\"\n",
              "              style=\"display:none;\">\n",
              "        \n",
              "  <svg xmlns=\"http://www.w3.org/2000/svg\" height=\"24px\"viewBox=\"0 0 24 24\"\n",
              "       width=\"24px\">\n",
              "    <path d=\"M0 0h24v24H0V0z\" fill=\"none\"/>\n",
              "    <path d=\"M18.56 5.44l.94 2.06.94-2.06 2.06-.94-2.06-.94-.94-2.06-.94 2.06-2.06.94zm-11 1L8.5 8.5l.94-2.06 2.06-.94-2.06-.94L8.5 2.5l-.94 2.06-2.06.94zm10 10l.94 2.06.94-2.06 2.06-.94-2.06-.94-.94-2.06-.94 2.06-2.06.94z\"/><path d=\"M17.41 7.96l-1.37-1.37c-.4-.4-.92-.59-1.43-.59-.52 0-1.04.2-1.43.59L10.3 9.45l-7.72 7.72c-.78.78-.78 2.05 0 2.83L4 21.41c.39.39.9.59 1.41.59.51 0 1.02-.2 1.41-.59l7.78-7.78 2.81-2.81c.8-.78.8-2.07 0-2.86zM5.41 20L4 18.59l7.72-7.72 1.47 1.35L5.41 20z\"/>\n",
              "  </svg>\n",
              "      </button>\n",
              "      \n",
              "  <style>\n",
              "    .colab-df-container {\n",
              "      display:flex;\n",
              "      flex-wrap:wrap;\n",
              "      gap: 12px;\n",
              "    }\n",
              "\n",
              "    .colab-df-convert {\n",
              "      background-color: #E8F0FE;\n",
              "      border: none;\n",
              "      border-radius: 50%;\n",
              "      cursor: pointer;\n",
              "      display: none;\n",
              "      fill: #1967D2;\n",
              "      height: 32px;\n",
              "      padding: 0 0 0 0;\n",
              "      width: 32px;\n",
              "    }\n",
              "\n",
              "    .colab-df-convert:hover {\n",
              "      background-color: #E2EBFA;\n",
              "      box-shadow: 0px 1px 2px rgba(60, 64, 67, 0.3), 0px 1px 3px 1px rgba(60, 64, 67, 0.15);\n",
              "      fill: #174EA6;\n",
              "    }\n",
              "\n",
              "    [theme=dark] .colab-df-convert {\n",
              "      background-color: #3B4455;\n",
              "      fill: #D2E3FC;\n",
              "    }\n",
              "\n",
              "    [theme=dark] .colab-df-convert:hover {\n",
              "      background-color: #434B5C;\n",
              "      box-shadow: 0px 1px 3px 1px rgba(0, 0, 0, 0.15);\n",
              "      filter: drop-shadow(0px 1px 2px rgba(0, 0, 0, 0.3));\n",
              "      fill: #FFFFFF;\n",
              "    }\n",
              "  </style>\n",
              "\n",
              "      <script>\n",
              "        const buttonEl =\n",
              "          document.querySelector('#df-255bd93b-2bc6-4b1a-b1f1-3e955459b9f4 button.colab-df-convert');\n",
              "        buttonEl.style.display =\n",
              "          google.colab.kernel.accessAllowed ? 'block' : 'none';\n",
              "\n",
              "        async function convertToInteractive(key) {\n",
              "          const element = document.querySelector('#df-255bd93b-2bc6-4b1a-b1f1-3e955459b9f4');\n",
              "          const dataTable =\n",
              "            await google.colab.kernel.invokeFunction('convertToInteractive',\n",
              "                                                     [key], {});\n",
              "          if (!dataTable) return;\n",
              "\n",
              "          const docLinkHtml = 'Like what you see? Visit the ' +\n",
              "            '<a target=\"_blank\" href=https://colab.research.google.com/notebooks/data_table.ipynb>data table notebook</a>'\n",
              "            + ' to learn more about interactive tables.';\n",
              "          element.innerHTML = '';\n",
              "          dataTable['output_type'] = 'display_data';\n",
              "          await google.colab.output.renderOutput(dataTable, element);\n",
              "          const docLink = document.createElement('div');\n",
              "          docLink.innerHTML = docLinkHtml;\n",
              "          element.appendChild(docLink);\n",
              "        }\n",
              "      </script>\n",
              "    </div>\n",
              "  </div>\n",
              "  "
            ]
          },
          "metadata": {},
          "execution_count": 127
        }
      ]
    },
    {
      "cell_type": "code",
      "source": [],
      "metadata": {
        "id": "4jURkTSJNaSA"
      },
      "execution_count": null,
      "outputs": []
    }
  ],
  "metadata": {
    "colab": {
      "provenance": []
    },
    "kernelspec": {
      "display_name": "Python 3",
      "name": "python3"
    },
    "language_info": {
      "name": "python"
    }
  },
  "nbformat": 4,
  "nbformat_minor": 0
}