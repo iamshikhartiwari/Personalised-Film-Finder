{
  "nbformat": 4,
  "nbformat_minor": 0,
  "metadata": {
    "colab": {
      "provenance": []
    },
    "kernelspec": {
      "name": "python3",
      "display_name": "Python 3"
    },
    "language_info": {
      "name": "python"
    }
  },
  "cells": [
    {
      "cell_type": "code",
      "execution_count": null,
      "metadata": {
        "id": "bQLY-dvggCLR"
      },
      "outputs": [],
      "source": [
        "import pandas as pd\n",
        "import requests\n",
        "import re\n",
        "import time\n",
        "api_key = ''  # this is the api key of TMDB Website"
      ]
    },
    {
      "cell_type": "markdown",
      "source": [
        "#  **Extracting MoviesData**"
      ],
      "metadata": {
        "id": "5Z-qeckHgQ0t"
      }
    },
    {
      "cell_type": "code",
      "source": [
        "def get_movies(url,index):\n",
        "  # read_html will extract the tables from the given link and given index location\n",
        "  df1 = pd.read_html(url,header=0)[index]\n",
        "  df2 = pd.read_html(url,header=0)[index+1]\n",
        "  df3 = pd.read_html(url,header=0)[index+2]\n",
        "  df4 =pd.read_html(url,header=0)[index+3]\n",
        "\n",
        "  # concatenating the dataframes (concatenating movies from JAN - DEC)\n",
        "  return pd.concat([df1,df2,df3,df4],ignore_index=True)[['Title','Cast and crew']]"
      ],
      "metadata": {
        "id": "zT5GpXw6gRNx"
      },
      "execution_count": null,
      "outputs": []
    },
    {
      "cell_type": "code",
      "source": [
        "movies_2022 = get_movies('https://en.wikipedia.org/wiki/List_of_American_films_of_2022#',3)"
      ],
      "metadata": {
        "id": "JoIu_q-JPsv6"
      },
      "execution_count": null,
      "outputs": []
    },
    {
      "cell_type": "code",
      "source": [
        "movies_2021 = get_movies('https://en.wikipedia.org/wiki/List_of_American_films_of_2021#',2)"
      ],
      "metadata": {
        "id": "IZ7WMcCkQ7VV"
      },
      "execution_count": null,
      "outputs": []
    },
    {
      "cell_type": "code",
      "source": [
        "movies_2020 = get_movies('https://en.wikipedia.org/wiki/List_of_American_films_of_2020#',2)"
      ],
      "metadata": {
        "id": "sW3b_7BpQ7XY"
      },
      "execution_count": null,
      "outputs": []
    },
    {
      "cell_type": "code",
      "source": [
        "movies_2019 = get_movies('https://en.wikipedia.org/wiki/List_of_American_films_of_2019#',2)"
      ],
      "metadata": {
        "id": "_tRSYBkOQ7bb"
      },
      "execution_count": null,
      "outputs": []
    },
    {
      "cell_type": "code",
      "source": [
        "movies_2018 = get_movies('https://en.wikipedia.org/wiki/List_of_American_films_of_2018#',2)"
      ],
      "metadata": {
        "id": "bbHM5XIrc976"
      },
      "execution_count": null,
      "outputs": []
    },
    {
      "cell_type": "code",
      "source": [
        "movies_2017 = get_movies('https://en.wikipedia.org/wiki/List_of_American_films_of_2017#',2)"
      ],
      "metadata": {
        "id": "Klb6XDs2c998"
      },
      "execution_count": null,
      "outputs": []
    },
    {
      "cell_type": "code",
      "source": [
        "movies_2016 = get_movies('https://en.wikipedia.org/wiki/List_of_American_films_of_2016#',2)"
      ],
      "metadata": {
        "id": "Z7CywgPlc-AW"
      },
      "execution_count": null,
      "outputs": []
    },
    {
      "cell_type": "code",
      "source": [
        "movies_2015 = get_movies('https://en.wikipedia.org/wiki/List_of_American_films_of_2015#',2)"
      ],
      "metadata": {
        "id": "kxUnE32Vc-Cr"
      },
      "execution_count": null,
      "outputs": []
    },
    {
      "cell_type": "code",
      "source": [
        "movies_2014 = get_movies('https://en.wikipedia.org/wiki/List_of_American_films_of_2014#',2)"
      ],
      "metadata": {
        "id": "LPCshuW-c-Gz"
      },
      "execution_count": null,
      "outputs": []
    },
    {
      "cell_type": "code",
      "source": [
        "movies_2013 = get_movies('https://en.wikipedia.org/wiki/List_of_American_films_of_2013#',2)"
      ],
      "metadata": {
        "id": "OavCGrqWc-KQ"
      },
      "execution_count": null,
      "outputs": []
    },
    {
      "cell_type": "code",
      "source": [
        "movies_2012 = get_movies('https://en.wikipedia.org/wiki/List_of_American_films_of_2012#',2)"
      ],
      "metadata": {
        "id": "6CjDs40tgMqu"
      },
      "execution_count": null,
      "outputs": []
    },
    {
      "cell_type": "code",
      "source": [
        "# making list of all the movies dataset for concatenation\n",
        "lst_movies = [movies_2022,movies_2021,movies_2020,movies_2019,movies_2018,movies_2017,movies_2016,movies_2015,movies_2014,movies_2013,movies_2012]\n",
        "all_movies = pd.concat(lst_movies,ignore_index=True)"
      ],
      "metadata": {
        "id": "382asQxTjSaT"
      },
      "execution_count": null,
      "outputs": []
    },
    {
      "cell_type": "code",
      "source": [
        "all_movies.head()"
      ],
      "metadata": {
        "colab": {
          "base_uri": "https://localhost:8080/",
          "height": 206
        },
        "id": "tK_Yjz_PFWlk",
        "outputId": "16ea9a10-e09b-40cb-c44a-0d8356a96e5f"
      },
      "execution_count": null,
      "outputs": [
        {
          "output_type": "execute_result",
          "data": {
            "text/plain": [
              "                                  Title  \\\n",
              "0                               Morbius   \n",
              "1                            The Bubble   \n",
              "2                        The Contractor   \n",
              "3                 Better Nate Than Ever   \n",
              "4  Apollo 10 1⁄2: A Space Age Childhood   \n",
              "\n",
              "                                       Cast and crew  \n",
              "0  Daniel Espinosa (director); Matt Sazama, Burk ...  \n",
              "1  Judd Apatow (director/screenplay); Pam Brady (...  \n",
              "2  Tarik Saleh (director); J. P. Davis (screenpla...  \n",
              "3  Tim Federle (director/screenplay); Rueby Wood,...  \n",
              "4  Richard Linklater (director/screenplay); Glen ...  "
            ],
            "text/html": [
              "\n",
              "  <div id=\"df-cb38d8ae-4695-4021-8ef3-7bac6bc78eff\">\n",
              "    <div class=\"colab-df-container\">\n",
              "      <div>\n",
              "<style scoped>\n",
              "    .dataframe tbody tr th:only-of-type {\n",
              "        vertical-align: middle;\n",
              "    }\n",
              "\n",
              "    .dataframe tbody tr th {\n",
              "        vertical-align: top;\n",
              "    }\n",
              "\n",
              "    .dataframe thead th {\n",
              "        text-align: right;\n",
              "    }\n",
              "</style>\n",
              "<table border=\"1\" class=\"dataframe\">\n",
              "  <thead>\n",
              "    <tr style=\"text-align: right;\">\n",
              "      <th></th>\n",
              "      <th>Title</th>\n",
              "      <th>Cast and crew</th>\n",
              "    </tr>\n",
              "  </thead>\n",
              "  <tbody>\n",
              "    <tr>\n",
              "      <th>0</th>\n",
              "      <td>Morbius</td>\n",
              "      <td>Daniel Espinosa (director); Matt Sazama, Burk ...</td>\n",
              "    </tr>\n",
              "    <tr>\n",
              "      <th>1</th>\n",
              "      <td>The Bubble</td>\n",
              "      <td>Judd Apatow (director/screenplay); Pam Brady (...</td>\n",
              "    </tr>\n",
              "    <tr>\n",
              "      <th>2</th>\n",
              "      <td>The Contractor</td>\n",
              "      <td>Tarik Saleh (director); J. P. Davis (screenpla...</td>\n",
              "    </tr>\n",
              "    <tr>\n",
              "      <th>3</th>\n",
              "      <td>Better Nate Than Ever</td>\n",
              "      <td>Tim Federle (director/screenplay); Rueby Wood,...</td>\n",
              "    </tr>\n",
              "    <tr>\n",
              "      <th>4</th>\n",
              "      <td>Apollo 10 1⁄2: A Space Age Childhood</td>\n",
              "      <td>Richard Linklater (director/screenplay); Glen ...</td>\n",
              "    </tr>\n",
              "  </tbody>\n",
              "</table>\n",
              "</div>\n",
              "      <button class=\"colab-df-convert\" onclick=\"convertToInteractive('df-cb38d8ae-4695-4021-8ef3-7bac6bc78eff')\"\n",
              "              title=\"Convert this dataframe to an interactive table.\"\n",
              "              style=\"display:none;\">\n",
              "        \n",
              "  <svg xmlns=\"http://www.w3.org/2000/svg\" height=\"24px\"viewBox=\"0 0 24 24\"\n",
              "       width=\"24px\">\n",
              "    <path d=\"M0 0h24v24H0V0z\" fill=\"none\"/>\n",
              "    <path d=\"M18.56 5.44l.94 2.06.94-2.06 2.06-.94-2.06-.94-.94-2.06-.94 2.06-2.06.94zm-11 1L8.5 8.5l.94-2.06 2.06-.94-2.06-.94L8.5 2.5l-.94 2.06-2.06.94zm10 10l.94 2.06.94-2.06 2.06-.94-2.06-.94-.94-2.06-.94 2.06-2.06.94z\"/><path d=\"M17.41 7.96l-1.37-1.37c-.4-.4-.92-.59-1.43-.59-.52 0-1.04.2-1.43.59L10.3 9.45l-7.72 7.72c-.78.78-.78 2.05 0 2.83L4 21.41c.39.39.9.59 1.41.59.51 0 1.02-.2 1.41-.59l7.78-7.78 2.81-2.81c.8-.78.8-2.07 0-2.86zM5.41 20L4 18.59l7.72-7.72 1.47 1.35L5.41 20z\"/>\n",
              "  </svg>\n",
              "      </button>\n",
              "      \n",
              "  <style>\n",
              "    .colab-df-container {\n",
              "      display:flex;\n",
              "      flex-wrap:wrap;\n",
              "      gap: 12px;\n",
              "    }\n",
              "\n",
              "    .colab-df-convert {\n",
              "      background-color: #E8F0FE;\n",
              "      border: none;\n",
              "      border-radius: 50%;\n",
              "      cursor: pointer;\n",
              "      display: none;\n",
              "      fill: #1967D2;\n",
              "      height: 32px;\n",
              "      padding: 0 0 0 0;\n",
              "      width: 32px;\n",
              "    }\n",
              "\n",
              "    .colab-df-convert:hover {\n",
              "      background-color: #E2EBFA;\n",
              "      box-shadow: 0px 1px 2px rgba(60, 64, 67, 0.3), 0px 1px 3px 1px rgba(60, 64, 67, 0.15);\n",
              "      fill: #174EA6;\n",
              "    }\n",
              "\n",
              "    [theme=dark] .colab-df-convert {\n",
              "      background-color: #3B4455;\n",
              "      fill: #D2E3FC;\n",
              "    }\n",
              "\n",
              "    [theme=dark] .colab-df-convert:hover {\n",
              "      background-color: #434B5C;\n",
              "      box-shadow: 0px 1px 3px 1px rgba(0, 0, 0, 0.15);\n",
              "      filter: drop-shadow(0px 1px 2px rgba(0, 0, 0, 0.3));\n",
              "      fill: #FFFFFF;\n",
              "    }\n",
              "  </style>\n",
              "\n",
              "      <script>\n",
              "        const buttonEl =\n",
              "          document.querySelector('#df-cb38d8ae-4695-4021-8ef3-7bac6bc78eff button.colab-df-convert');\n",
              "        buttonEl.style.display =\n",
              "          google.colab.kernel.accessAllowed ? 'block' : 'none';\n",
              "\n",
              "        async function convertToInteractive(key) {\n",
              "          const element = document.querySelector('#df-cb38d8ae-4695-4021-8ef3-7bac6bc78eff');\n",
              "          const dataTable =\n",
              "            await google.colab.kernel.invokeFunction('convertToInteractive',\n",
              "                                                     [key], {});\n",
              "          if (!dataTable) return;\n",
              "\n",
              "          const docLinkHtml = 'Like what you see? Visit the ' +\n",
              "            '<a target=\"_blank\" href=https://colab.research.google.com/notebooks/data_table.ipynb>data table notebook</a>'\n",
              "            + ' to learn more about interactive tables.';\n",
              "          element.innerHTML = '';\n",
              "          dataTable['output_type'] = 'display_data';\n",
              "          await google.colab.output.renderOutput(dataTable, element);\n",
              "          const docLink = document.createElement('div');\n",
              "          docLink.innerHTML = docLinkHtml;\n",
              "          element.appendChild(docLink);\n",
              "        }\n",
              "      </script>\n",
              "    </div>\n",
              "  </div>\n",
              "  "
            ]
          },
          "metadata": {},
          "execution_count": 15
        }
      ]
    },
    {
      "cell_type": "code",
      "source": [
        "# checking no. of rows and columns\n",
        "all_movies.shape"
      ],
      "metadata": {
        "colab": {
          "base_uri": "https://localhost:8080/"
        },
        "id": "5jZfha82QbKZ",
        "outputId": "26dcf00c-fc16-4070-c9e3-ce576cee6016"
      },
      "execution_count": null,
      "outputs": [
        {
          "output_type": "execute_result",
          "data": {
            "text/plain": [
              "(2865, 2)"
            ]
          },
          "metadata": {},
          "execution_count": 16
        }
      ]
    },
    {
      "cell_type": "code",
      "source": [
        "# checking null values\n",
        "all_movies.isnull().sum()"
      ],
      "metadata": {
        "colab": {
          "base_uri": "https://localhost:8080/"
        },
        "id": "EYPGKLcUo9PP",
        "outputId": "698df0b1-c8b2-4963-ea9c-cd63ead4134f"
      },
      "execution_count": null,
      "outputs": [
        {
          "output_type": "execute_result",
          "data": {
            "text/plain": [
              "Title            13\n",
              "Cast and crew    13\n",
              "dtype: int64"
            ]
          },
          "metadata": {},
          "execution_count": 17
        }
      ]
    },
    {
      "cell_type": "code",
      "source": [
        "# removing null values\n",
        "all_movies.dropna(inplace=True)"
      ],
      "metadata": {
        "id": "qKBLSr33o-s5"
      },
      "execution_count": null,
      "outputs": []
    },
    {
      "cell_type": "code",
      "source": [
        "all_movies.shape"
      ],
      "metadata": {
        "colab": {
          "base_uri": "https://localhost:8080/"
        },
        "id": "imT6ewRfqE2O",
        "outputId": "ab9bb5ce-903f-46b2-bc55-4f635879aba9"
      },
      "execution_count": null,
      "outputs": [
        {
          "output_type": "execute_result",
          "data": {
            "text/plain": [
              "(2852, 2)"
            ]
          },
          "metadata": {},
          "execution_count": 19
        }
      ]
    },
    {
      "cell_type": "code",
      "source": [
        "# checking duplicated rows\n",
        "all_movies.duplicated(keep=False).sum()"
      ],
      "metadata": {
        "colab": {
          "base_uri": "https://localhost:8080/"
        },
        "id": "_C3oYo8dWHxP",
        "outputId": "eed89d2b-367e-4cf5-a34e-7505482be559"
      },
      "execution_count": null,
      "outputs": [
        {
          "output_type": "execute_result",
          "data": {
            "text/plain": [
              "2"
            ]
          },
          "metadata": {},
          "execution_count": 20
        }
      ]
    },
    {
      "cell_type": "code",
      "source": [
        "# removing duplicate rows\n",
        "all_movies = all_movies.drop_duplicates(keep=False).reset_index(drop=True)"
      ],
      "metadata": {
        "id": "IM_QjRPCWn6m"
      },
      "execution_count": null,
      "outputs": []
    },
    {
      "cell_type": "code",
      "source": [
        "all_movies.shape"
      ],
      "metadata": {
        "colab": {
          "base_uri": "https://localhost:8080/"
        },
        "id": "1tYFTCvZZeXv",
        "outputId": "2424c0c8-cefa-43ed-adaa-ca4cb3d9badd"
      },
      "execution_count": null,
      "outputs": [
        {
          "output_type": "execute_result",
          "data": {
            "text/plain": [
              "(2850, 2)"
            ]
          },
          "metadata": {},
          "execution_count": 22
        }
      ]
    },
    {
      "cell_type": "code",
      "source": [
        "# checking movies with same name\n",
        "all_movies['Title'].duplicated(keep=False).sum()"
      ],
      "metadata": {
        "colab": {
          "base_uri": "https://localhost:8080/"
        },
        "id": "lgkbVsgeZeZ7",
        "outputId": "2e115548-fde6-4c16-9e3a-0f7d149714e1"
      },
      "execution_count": null,
      "outputs": [
        {
          "output_type": "execute_result",
          "data": {
            "text/plain": [
              "22"
            ]
          },
          "metadata": {},
          "execution_count": 23
        }
      ]
    },
    {
      "cell_type": "code",
      "source": [
        "# removing movies with same name...to avoid amiguity at time of data fetching\n",
        "all_movies = all_movies.drop_duplicates(keep=False,subset=['Title']).reset_index(drop=True)"
      ],
      "metadata": {
        "id": "aPJBZSQiZecR"
      },
      "execution_count": null,
      "outputs": []
    },
    {
      "cell_type": "code",
      "source": [
        "all_movies.shape"
      ],
      "metadata": {
        "colab": {
          "base_uri": "https://localhost:8080/"
        },
        "id": "3mbnFOrnZekR",
        "outputId": "223d88e6-364b-4a95-d9a5-83beb68555aa"
      },
      "execution_count": null,
      "outputs": [
        {
          "output_type": "execute_result",
          "data": {
            "text/plain": [
              "(2828, 2)"
            ]
          },
          "metadata": {},
          "execution_count": 25
        }
      ]
    },
    {
      "cell_type": "markdown",
      "source": [
        "### Now extracing other details of movies through TMDB API"
      ],
      "metadata": {
        "id": "rld9gghtqfX8"
      }
    },
    {
      "cell_type": "code",
      "source": [
        "!pip install tmdbv3api\n",
        "# install tmdb3api before using it"
      ],
      "metadata": {
        "id": "l8B7s5oZqF3a",
        "colab": {
          "base_uri": "https://localhost:8080/"
        },
        "outputId": "eddd8fd0-e3c5-4748-fadf-90e744b92182"
      },
      "execution_count": null,
      "outputs": [
        {
          "output_type": "stream",
          "name": "stdout",
          "text": [
            "Looking in indexes: https://pypi.org/simple, https://us-python.pkg.dev/colab-wheels/public/simple/\n",
            "Collecting tmdbv3api\n",
            "  Downloading tmdbv3api-1.7.7-py2.py3-none-any.whl (18 kB)\n",
            "Requirement already satisfied: requests in /usr/local/lib/python3.10/dist-packages (from tmdbv3api) (2.27.1)\n",
            "Requirement already satisfied: urllib3<1.27,>=1.21.1 in /usr/local/lib/python3.10/dist-packages (from requests->tmdbv3api) (1.26.16)\n",
            "Requirement already satisfied: certifi>=2017.4.17 in /usr/local/lib/python3.10/dist-packages (from requests->tmdbv3api) (2023.5.7)\n",
            "Requirement already satisfied: charset-normalizer~=2.0.0 in /usr/local/lib/python3.10/dist-packages (from requests->tmdbv3api) (2.0.12)\n",
            "Requirement already satisfied: idna<4,>=2.5 in /usr/local/lib/python3.10/dist-packages (from requests->tmdbv3api) (3.4)\n",
            "Installing collected packages: tmdbv3api\n",
            "Successfully installed tmdbv3api-1.7.7\n"
          ]
        }
      ]
    },
    {
      "cell_type": "code",
      "source": [
        "# Fetching TMDB ID of movie with it's name\n",
        "from tmdbv3api import TMDb\n",
        "tmdb = TMDb()\n",
        "tmdb.api_key = api_key\n",
        "from tmdbv3api import Movie\n",
        "movie_details = Movie()"
      ],
      "metadata": {
        "id": "dR13RFkGqcGz"
      },
      "execution_count": null,
      "outputs": []
    },
    {
      "cell_type": "code",
      "source": [
        "def get_movie_id(movie_name):\n",
        "    if(movie_details.search(movie_name)):\n",
        "        for i in movie_details.search(movie_name):\n",
        "          if(i['original_language']=='en'):\n",
        "              return i['id']\n",
        "    else:\n",
        "      return -1"
      ],
      "metadata": {
        "id": "5_dAMryIq1UE"
      },
      "execution_count": null,
      "outputs": []
    },
    {
      "cell_type": "code",
      "source": [
        "from tqdm import tqdm\n",
        "tqdm.pandas()\n",
        "all_movies['id'] = all_movies['Title'].progress_apply(get_movie_id)"
      ],
      "metadata": {
        "colab": {
          "base_uri": "https://localhost:8080/"
        },
        "id": "M2VRciDJq5a_",
        "outputId": "50fc52f2-53dc-4f7c-911c-13914b940e8f"
      },
      "execution_count": null,
      "outputs": [
        {
          "output_type": "stream",
          "name": "stderr",
          "text": [
            "100%|██████████| 2828/2828 [07:26<00:00,  6.34it/s]\n"
          ]
        }
      ]
    },
    {
      "cell_type": "code",
      "source": [
        "# removing movies whose TMDB ID is -1\n",
        "all_movies = all_movies[all_movies['id']!=-1].reset_index(drop=True)"
      ],
      "metadata": {
        "id": "Oj-yiS3TrBJf"
      },
      "execution_count": null,
      "outputs": []
    },
    {
      "cell_type": "code",
      "source": [
        "# number of movies with same TMDB ID\n",
        "all_movies['id'].duplicated(keep=False).sum()"
      ],
      "metadata": {
        "colab": {
          "base_uri": "https://localhost:8080/"
        },
        "id": "1qrkoUWVs1gj",
        "outputId": "51bad12e-4a91-49b5-f4e8-d8229d00613d"
      },
      "execution_count": null,
      "outputs": [
        {
          "output_type": "execute_result",
          "data": {
            "text/plain": [
              "73"
            ]
          },
          "metadata": {},
          "execution_count": 31
        }
      ]
    },
    {
      "cell_type": "code",
      "source": [
        "# removing movies with same TMDB ID\n",
        "all_movies = all_movies.drop_duplicates(keep=False,subset=['id']).reset_index(drop=True)"
      ],
      "metadata": {
        "id": "Bm3_CPcuvXkO"
      },
      "execution_count": null,
      "outputs": []
    },
    {
      "cell_type": "code",
      "source": [
        "all_movies.shape"
      ],
      "metadata": {
        "colab": {
          "base_uri": "https://localhost:8080/"
        },
        "id": "yFOJgr1wdYaC",
        "outputId": "85912e11-0181-4a76-d93e-5349928f2785"
      },
      "execution_count": null,
      "outputs": [
        {
          "output_type": "execute_result",
          "data": {
            "text/plain": [
              "(2743, 3)"
            ]
          },
          "metadata": {},
          "execution_count": 33
        }
      ]
    },
    {
      "cell_type": "markdown",
      "source": [
        "#  Get details of movie with movie id\n"
      ],
      "metadata": {
        "id": "j8g3XX2kfhx6"
      }
    },
    {
      "cell_type": "code",
      "source": [
        "def get_other_details(movie_id):\n",
        "    response = requests.get('https://api.themoviedb.org/3/movie/{}?api_key={}&language=en-US'.format(movie_id,api_key)).json()\n",
        "    res_df = pd.json_normalize(response)\n",
        "    return res_df"
      ],
      "metadata": {
        "id": "zYM5r3IVdYlS"
      },
      "execution_count": null,
      "outputs": []
    },
    {
      "cell_type": "code",
      "source": [
        "other_details = pd.DataFrame()"
      ],
      "metadata": {
        "id": "of_qljG_dYyM"
      },
      "execution_count": null,
      "outputs": []
    },
    {
      "cell_type": "code",
      "source": [
        "for i in tqdm(all_movies['id']):\n",
        "   other_details = pd.concat([other_details, get_other_details(i)])"
      ],
      "metadata": {
        "id": "We4fcJZ8dY_G",
        "colab": {
          "base_uri": "https://localhost:8080/"
        },
        "outputId": "e347a62a-e009-4a17-b7f8-eea0e8e6b65a"
      },
      "execution_count": null,
      "outputs": [
        {
          "output_type": "stream",
          "name": "stderr",
          "text": [
            "100%|██████████| 2743/2743 [07:30<00:00,  6.09it/s]\n"
          ]
        }
      ]
    },
    {
      "cell_type": "code",
      "source": [
        "other_details.columns"
      ],
      "metadata": {
        "colab": {
          "base_uri": "https://localhost:8080/"
        },
        "id": "1sJkNUF6dZMJ",
        "outputId": "a93a196b-db2e-42a9-823a-b6fdb1116ebd"
      },
      "execution_count": null,
      "outputs": [
        {
          "output_type": "execute_result",
          "data": {
            "text/plain": [
              "Index(['adult', 'backdrop_path', 'belongs_to_collection', 'budget', 'genres',\n",
              "       'homepage', 'id', 'imdb_id', 'original_language', 'original_title',\n",
              "       'overview', 'popularity', 'poster_path', 'production_companies',\n",
              "       'production_countries', 'release_date', 'revenue', 'runtime',\n",
              "       'spoken_languages', 'status', 'tagline', 'title', 'video',\n",
              "       'vote_average', 'vote_count', 'belongs_to_collection.id',\n",
              "       'belongs_to_collection.name', 'belongs_to_collection.poster_path',\n",
              "       'belongs_to_collection.backdrop_path'],\n",
              "      dtype='object')"
            ]
          },
          "metadata": {},
          "execution_count": 37
        }
      ]
    },
    {
      "cell_type": "code",
      "source": [
        "other_details.drop(['adult', 'backdrop_path', 'belongs_to_collection',\n",
        "                    'budget','homepage','production_companies',\n",
        "       'production_countries', 'revenue','spoken_languages', 'status',\n",
        "       'tagline','original_title',\n",
        "       'video','belongs_to_collection.id',\n",
        "       'belongs_to_collection.name', 'belongs_to_collection.poster_path',\n",
        "       'belongs_to_collection.backdrop_path'\n",
        "],axis=1,inplace=True)"
      ],
      "metadata": {
        "id": "RJ-6E8mhmvt7"
      },
      "execution_count": null,
      "outputs": []
    },
    {
      "cell_type": "code",
      "source": [
        "other_details.shape"
      ],
      "metadata": {
        "colab": {
          "base_uri": "https://localhost:8080/"
        },
        "id": "mWJ0e9mHnfS5",
        "outputId": "eac07559-f7ca-4bae-b935-786c3e692cf2"
      },
      "execution_count": null,
      "outputs": [
        {
          "output_type": "execute_result",
          "data": {
            "text/plain": [
              "(2743, 12)"
            ]
          },
          "metadata": {},
          "execution_count": 39
        }
      ]
    },
    {
      "cell_type": "code",
      "source": [
        "all_movies.shape"
      ],
      "metadata": {
        "colab": {
          "base_uri": "https://localhost:8080/"
        },
        "id": "CDnaS8n2nfuv",
        "outputId": "70d90d38-faa0-4994-c640-9ac0dc0d41ea"
      },
      "execution_count": null,
      "outputs": [
        {
          "output_type": "execute_result",
          "data": {
            "text/plain": [
              "(2743, 3)"
            ]
          },
          "metadata": {},
          "execution_count": 40
        }
      ]
    },
    {
      "cell_type": "code",
      "source": [
        "all_movies = all_movies.merge(other_details,on='id').dropna().reset_index(drop=True)"
      ],
      "metadata": {
        "id": "oMOoq5w9nf7a"
      },
      "execution_count": null,
      "outputs": []
    },
    {
      "cell_type": "code",
      "source": [
        "all_movies.shape"
      ],
      "metadata": {
        "colab": {
          "base_uri": "https://localhost:8080/"
        },
        "id": "c-09hajysNM2",
        "outputId": "920cdc1a-abcc-467c-fe00-97ce10cea9aa"
      },
      "execution_count": null,
      "outputs": [
        {
          "output_type": "execute_result",
          "data": {
            "text/plain": [
              "(2732, 14)"
            ]
          },
          "metadata": {},
          "execution_count": 42
        }
      ]
    },
    {
      "cell_type": "markdown",
      "source": [
        "## Extracting Director and Cast names from 'Cast and crew' column"
      ],
      "metadata": {
        "id": "3B4HbGiPVS6E"
      }
    },
    {
      "cell_type": "code",
      "source": [
        "pattern1 = \"(.+)\\(director\"\n",
        "\n",
        "def get_director(text):\n",
        "   director = re.findall(pattern1,text)\n",
        "   return \" \".join(director)"
      ],
      "metadata": {
        "id": "J88LLHH3ng2b"
      },
      "execution_count": null,
      "outputs": []
    },
    {
      "cell_type": "code",
      "source": [
        "all_movies['Director'] = all_movies['Cast and crew'].apply(get_director)"
      ],
      "metadata": {
        "id": "33sK5ZYBnhFH"
      },
      "execution_count": null,
      "outputs": []
    },
    {
      "cell_type": "code",
      "source": [
        "all_movies['Cast']  = all_movies['Cast and crew'].apply(lambda x:x.split(';')[-1].strip())"
      ],
      "metadata": {
        "id": "-30KD_eYvKV7"
      },
      "execution_count": null,
      "outputs": []
    },
    {
      "cell_type": "code",
      "source": [
        "# droping 'cast and crew' feature ..because it is of no use now\n",
        "all_movies = all_movies.drop(['Cast and crew'],axis=1)"
      ],
      "metadata": {
        "id": "8xCfMOIvnhjm"
      },
      "execution_count": null,
      "outputs": []
    },
    {
      "cell_type": "code",
      "source": [
        "all_movies.shape"
      ],
      "metadata": {
        "id": "T0oqcvLEwbR1",
        "colab": {
          "base_uri": "https://localhost:8080/"
        },
        "outputId": "5609729a-1b54-4d75-9b01-c5c6138c43d8"
      },
      "execution_count": null,
      "outputs": [
        {
          "output_type": "execute_result",
          "data": {
            "text/plain": [
              "(2732, 15)"
            ]
          },
          "metadata": {},
          "execution_count": 47
        }
      ]
    },
    {
      "cell_type": "code",
      "source": [
        "# To easily concatenate with the Bollywood movies dataset, I need to shift the positions of \"director\" and \"cast\"."
      ],
      "metadata": {
        "id": "XFNxWqqIwbkI"
      },
      "execution_count": null,
      "outputs": []
    },
    {
      "cell_type": "code",
      "source": [
        "lst_cls = list(all_movies.columns)"
      ],
      "metadata": {
        "id": "HTBUMZ-fniDn"
      },
      "execution_count": null,
      "outputs": []
    },
    {
      "cell_type": "code",
      "source": [
        "lst_cls"
      ],
      "metadata": {
        "id": "YaoUbU8VcxCj",
        "colab": {
          "base_uri": "https://localhost:8080/"
        },
        "outputId": "ab6e60a0-f336-43fd-f716-016ca5694b90"
      },
      "execution_count": null,
      "outputs": [
        {
          "output_type": "execute_result",
          "data": {
            "text/plain": [
              "['Title',\n",
              " 'id',\n",
              " 'genres',\n",
              " 'imdb_id',\n",
              " 'original_language',\n",
              " 'overview',\n",
              " 'popularity',\n",
              " 'poster_path',\n",
              " 'release_date',\n",
              " 'runtime',\n",
              " 'title',\n",
              " 'vote_average',\n",
              " 'vote_count',\n",
              " 'Director',\n",
              " 'Cast']"
            ]
          },
          "metadata": {},
          "execution_count": 50
        }
      ]
    },
    {
      "cell_type": "code",
      "source": [
        "x = lst_cls.pop()\n",
        "lst_cls.insert(1,x)"
      ],
      "metadata": {
        "id": "6cOWdtqlih6_"
      },
      "execution_count": null,
      "outputs": []
    },
    {
      "cell_type": "code",
      "source": [
        "x = lst_cls.pop()\n",
        "lst_cls.insert(1,x)"
      ],
      "metadata": {
        "id": "SRbhqZoHyIHr"
      },
      "execution_count": null,
      "outputs": []
    },
    {
      "cell_type": "code",
      "source": [
        "all_movies = all_movies[lst_cls]"
      ],
      "metadata": {
        "id": "cSFgkVGVitEt"
      },
      "execution_count": null,
      "outputs": []
    },
    {
      "cell_type": "markdown",
      "source": [
        "## There are some missing values which can not be caugth by the .isnull() method\n",
        "\n",
        "### *That's why we have to check manually...if some feature(object type) contain empty Strings*"
      ],
      "metadata": {
        "id": "2RPi7gq-02EU"
      }
    },
    {
      "cell_type": "code",
      "source": [
        "all_movies.info()"
      ],
      "metadata": {
        "colab": {
          "base_uri": "https://localhost:8080/"
        },
        "id": "6yH2V6fxykTn",
        "outputId": "c6838ea6-b1ba-4347-8db7-71322d2dbc38"
      },
      "execution_count": null,
      "outputs": [
        {
          "output_type": "stream",
          "name": "stdout",
          "text": [
            "<class 'pandas.core.frame.DataFrame'>\n",
            "RangeIndex: 2848 entries, 0 to 2847\n",
            "Data columns (total 15 columns):\n",
            " #   Column             Non-Null Count  Dtype  \n",
            "---  ------             --------------  -----  \n",
            " 0   Title              2848 non-null   object \n",
            " 1   Director           2848 non-null   object \n",
            " 2   Cast               2848 non-null   object \n",
            " 3   id                 2848 non-null   int64  \n",
            " 4   genres             2848 non-null   object \n",
            " 5   imdb_id            2848 non-null   object \n",
            " 6   original_language  2848 non-null   object \n",
            " 7   overview           2848 non-null   object \n",
            " 8   popularity         2848 non-null   float64\n",
            " 9   poster_path        2848 non-null   object \n",
            " 10  release_date       2848 non-null   object \n",
            " 11  runtime            2848 non-null   int64  \n",
            " 12  title              2848 non-null   object \n",
            " 13  vote_average       2848 non-null   float64\n",
            " 14  vote_count         2848 non-null   int64  \n",
            "dtypes: float64(2), int64(3), object(10)\n",
            "memory usage: 333.9+ KB\n"
          ]
        }
      ]
    },
    {
      "cell_type": "code",
      "source": [
        "(all_movies['Director']=='').sum()"
      ],
      "metadata": {
        "colab": {
          "base_uri": "https://localhost:8080/"
        },
        "id": "S4wEpAiYykV9",
        "outputId": "7645f159-195a-47fb-b26e-d02d6c0dfc2f"
      },
      "execution_count": null,
      "outputs": [
        {
          "output_type": "execute_result",
          "data": {
            "text/plain": [
              "3"
            ]
          },
          "metadata": {},
          "execution_count": 54
        }
      ]
    },
    {
      "cell_type": "code",
      "source": [
        "all_movies = all_movies[all_movies['Director']!=''].reset_index(drop=True)"
      ],
      "metadata": {
        "id": "ufcvrpaoykYj"
      },
      "execution_count": null,
      "outputs": []
    },
    {
      "cell_type": "code",
      "source": [
        "(all_movies['Cast']=='').sum()"
      ],
      "metadata": {
        "colab": {
          "base_uri": "https://localhost:8080/"
        },
        "id": "MUwuE14EykbC",
        "outputId": "6cd6520e-4935-4ff7-9620-6d7d577f6316"
      },
      "execution_count": null,
      "outputs": [
        {
          "output_type": "execute_result",
          "data": {
            "text/plain": [
              "4"
            ]
          },
          "metadata": {},
          "execution_count": 56
        }
      ]
    },
    {
      "cell_type": "code",
      "source": [
        "all_movies = all_movies[all_movies['Cast']!=''].reset_index(drop=True)"
      ],
      "metadata": {
        "id": "QA2XgjcPykeG"
      },
      "execution_count": null,
      "outputs": []
    },
    {
      "cell_type": "markdown",
      "source": [
        "# ***HollyWood DataSet is Ready***"
      ],
      "metadata": {
        "id": "6GjSSzAvt1Zv"
      }
    },
    {
      "cell_type": "code",
      "source": [
        "all_movies.to_csv(\"HollyWood_Movies1.csv\")"
      ],
      "metadata": {
        "id": "PmCgayvekF4B"
      },
      "execution_count": null,
      "outputs": []
    },
    {
      "cell_type": "code",
      "source": [
        "all_movies.shape"
      ],
      "metadata": {
        "id": "Vj4AMBd1wJuo",
        "colab": {
          "base_uri": "https://localhost:8080/"
        },
        "outputId": "baaf0969-b5d6-41f7-e20d-f893cda96be9"
      },
      "execution_count": null,
      "outputs": [
        {
          "output_type": "execute_result",
          "data": {
            "text/plain": [
              "(2725, 15)"
            ]
          },
          "metadata": {},
          "execution_count": 59
        }
      ]
    },
    {
      "cell_type": "code",
      "source": [],
      "metadata": {
        "id": "0gJja7Vu092g"
      },
      "execution_count": null,
      "outputs": []
    }
  ]
}